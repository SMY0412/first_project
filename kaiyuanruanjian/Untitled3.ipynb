{
 "cells": [
  {
   "cell_type": "code",
   "execution_count": 1,
   "id": "124eb6f4-0e2d-4a58-a8a3-49dabfbe0b76",
   "metadata": {},
   "outputs": [],
   "source": [
    "import graphviz"
   ]
  },
  {
   "cell_type": "code",
   "execution_count": 2,
   "id": "18c40aad-1b08-4d3c-9961-9ee3df91b166",
   "metadata": {},
   "outputs": [],
   "source": [
    "graph = graphviz.Graph()"
   ]
  },
  {
   "cell_type": "code",
   "execution_count": 3,
   "id": "7e2d2b9b-237a-4ddf-a3b8-3f8c1ed3e199",
   "metadata": {},
   "outputs": [],
   "source": [
    "graph.node(\"A\")"
   ]
  },
  {
   "cell_type": "code",
   "execution_count": 4,
   "id": "b5338b41-a592-43dc-82c1-13843c12ca6b",
   "metadata": {},
   "outputs": [],
   "source": [
    "graph.node(\"B\")"
   ]
  },
  {
   "cell_type": "code",
   "execution_count": 5,
   "id": "26cfd766-5a88-4398-99d6-664859c72129",
   "metadata": {},
   "outputs": [],
   "source": [
    "graph.edge(\"A\", \"B\")"
   ]
  },
  {
   "cell_type": "code",
   "execution_count": 6,
   "id": "43d55e1b-3104-47c9-bc7a-b4236810da18",
   "metadata": {},
   "outputs": [
    {
     "data": {
      "text/plain": [
       "\u001b[1;31mSignature:\u001b[0m\n",
       "\u001b[0mgraph\u001b[0m\u001b[1;33m.\u001b[0m\u001b[0msave\u001b[0m\u001b[1;33m(\u001b[0m\u001b[1;33m\n",
       "\u001b[0m    \u001b[0mfilename\u001b[0m\u001b[1;33m:\u001b[0m \u001b[0mUnion\u001b[0m\u001b[1;33m[\u001b[0m\u001b[0mos\u001b[0m\u001b[1;33m.\u001b[0m\u001b[0mPathLike\u001b[0m\u001b[1;33m,\u001b[0m \u001b[0mstr\u001b[0m\u001b[1;33m,\u001b[0m \u001b[0mNoneType\u001b[0m\u001b[1;33m]\u001b[0m \u001b[1;33m=\u001b[0m \u001b[1;32mNone\u001b[0m\u001b[1;33m,\u001b[0m\u001b[1;33m\n",
       "\u001b[0m    \u001b[0mdirectory\u001b[0m\u001b[1;33m:\u001b[0m \u001b[0mUnion\u001b[0m\u001b[1;33m[\u001b[0m\u001b[0mos\u001b[0m\u001b[1;33m.\u001b[0m\u001b[0mPathLike\u001b[0m\u001b[1;33m,\u001b[0m \u001b[0mstr\u001b[0m\u001b[1;33m,\u001b[0m \u001b[0mNoneType\u001b[0m\u001b[1;33m]\u001b[0m \u001b[1;33m=\u001b[0m \u001b[1;32mNone\u001b[0m\u001b[1;33m,\u001b[0m\u001b[1;33m\n",
       "\u001b[0m    \u001b[1;33m*\u001b[0m\u001b[1;33m,\u001b[0m\u001b[1;33m\n",
       "\u001b[0m    \u001b[0mskip_existing\u001b[0m\u001b[1;33m:\u001b[0m \u001b[0mOptional\u001b[0m\u001b[1;33m[\u001b[0m\u001b[0mbool\u001b[0m\u001b[1;33m]\u001b[0m \u001b[1;33m=\u001b[0m \u001b[1;32mFalse\u001b[0m\u001b[1;33m,\u001b[0m\u001b[1;33m\n",
       "\u001b[0m\u001b[1;33m)\u001b[0m \u001b[1;33m->\u001b[0m \u001b[0mstr\u001b[0m\u001b[1;33m\u001b[0m\u001b[1;33m\u001b[0m\u001b[0m\n",
       "\u001b[1;31mDocstring:\u001b[0m\n",
       "Save the DOT source to file. Ensure the file ends with a newline.\n",
       "\n",
       "Args:\n",
       "    filename: Filename for saving the source (defaults to ``name`` + ``'.gv'``)\n",
       "    directory: (Sub)directory for source saving and rendering.\n",
       "    skip_existing: Skip write if file exists (default: ``False``).\n",
       "\n",
       "Returns:\n",
       "    The (possibly relative) path of the saved source file.\n",
       "\u001b[1;31mFile:\u001b[0m      c:\\users\\smy0412\\myenv\\lib\\site-packages\\graphviz\\saving.py\n",
       "\u001b[1;31mType:\u001b[0m      method"
      ]
     },
     "metadata": {},
     "output_type": "display_data"
    }
   ],
   "source": [
    "graph.save?"
   ]
  },
  {
   "cell_type": "code",
   "execution_count": 7,
   "id": "e37a0640-7da6-485e-9097-cc792f92a767",
   "metadata": {},
   "outputs": [
    {
     "data": {
      "text/plain": [
       "'graph.dot'"
      ]
     },
     "execution_count": 7,
     "metadata": {},
     "output_type": "execute_result"
    }
   ],
   "source": [
    "graph.save(\"graph.dot\")"
   ]
  },
  {
   "cell_type": "code",
   "execution_count": 8,
   "id": "6b9b351a-1f05-4523-b420-b85e921c5648",
   "metadata": {},
   "outputs": [
    {
     "data": {
      "text/plain": [
       "'graph.dot.pdf'"
      ]
     },
     "execution_count": 8,
     "metadata": {},
     "output_type": "execute_result"
    }
   ],
   "source": [
    "graph.render()"
   ]
  },
  {
   "cell_type": "code",
   "execution_count": 9,
   "id": "b66be757-780d-4dc2-9dd0-f51df059d672",
   "metadata": {},
   "outputs": [],
   "source": [
    "digraph = graphviz.Digraph()"
   ]
  },
  {
   "cell_type": "code",
   "execution_count": 10,
   "id": "bd3f6a0e-f4ef-4e30-971d-ab15e90bd47b",
   "metadata": {},
   "outputs": [],
   "source": [
    "digraph.node(\"A\")"
   ]
  },
  {
   "cell_type": "code",
   "execution_count": 11,
   "id": "0e62e645-6cf2-4c46-a133-5645e79e5bc5",
   "metadata": {},
   "outputs": [],
   "source": [
    "digraph.node(\"B\")"
   ]
  },
  {
   "cell_type": "code",
   "execution_count": 12,
   "id": "71ec12ae-9232-4307-94b2-d9cfeee50777",
   "metadata": {},
   "outputs": [],
   "source": [
    "digraph.node(\"C\")"
   ]
  },
  {
   "cell_type": "code",
   "execution_count": 13,
   "id": "01bf05ef-7c0f-42b2-bf16-9be17f88c63a",
   "metadata": {},
   "outputs": [],
   "source": [
    "digraph.edge(\"A\", \"B\")"
   ]
  },
  {
   "cell_type": "code",
   "execution_count": 14,
   "id": "1de17041-310d-4d41-ae7a-5f9730d4fd48",
   "metadata": {},
   "outputs": [],
   "source": [
    "digraph.edge(\"B\", \"C\")"
   ]
  },
  {
   "cell_type": "code",
   "execution_count": 15,
   "id": "5a393912-de34-4c4f-a953-546f8e8360c6",
   "metadata": {},
   "outputs": [],
   "source": [
    "digraph.edge(\"C\", \"C\")"
   ]
  },
  {
   "cell_type": "code",
   "execution_count": 18,
   "id": "57fad193-2ab3-4c4f-b04b-2e04f9b35098",
   "metadata": {},
   "outputs": [
    {
     "data": {
      "text/plain": [
       "'digraph.dot'"
      ]
     },
     "execution_count": 18,
     "metadata": {},
     "output_type": "execute_result"
    }
   ],
   "source": [
    "digraph.save(\"digraph.dot\")"
   ]
  },
  {
   "cell_type": "code",
   "execution_count": 19,
   "id": "872ce42f-40f1-436d-8759-23d02949832b",
   "metadata": {},
   "outputs": [
    {
     "data": {
      "text/plain": [
       "'digraph.dot.pdf'"
      ]
     },
     "execution_count": 19,
     "metadata": {},
     "output_type": "execute_result"
    }
   ],
   "source": [
    "digraph.render()"
   ]
  },
  {
   "cell_type": "code",
   "execution_count": 1,
   "id": "4ad671ad-ddce-4842-b7de-46d57e2d28f1",
   "metadata": {},
   "outputs": [],
   "source": [
    "import graphviz"
   ]
  },
  {
   "cell_type": "code",
   "execution_count": 2,
   "id": "c0afef9b-e2b0-404f-a4d8-b10fbcf516ee",
   "metadata": {},
   "outputs": [
    {
     "data": {
      "text/plain": [
       "\u001b[1;31mSignature:\u001b[0m \u001b[0mstr\u001b[0m\u001b[1;33m.\u001b[0m\u001b[0msplit\u001b[0m\u001b[1;33m(\u001b[0m\u001b[0mself\u001b[0m\u001b[1;33m,\u001b[0m \u001b[1;33m/\u001b[0m\u001b[1;33m,\u001b[0m \u001b[0msep\u001b[0m\u001b[1;33m=\u001b[0m\u001b[1;32mNone\u001b[0m\u001b[1;33m,\u001b[0m \u001b[0mmaxsplit\u001b[0m\u001b[1;33m=\u001b[0m\u001b[1;33m-\u001b[0m\u001b[1;36m1\u001b[0m\u001b[1;33m)\u001b[0m\u001b[1;33m\u001b[0m\u001b[1;33m\u001b[0m\u001b[0m\n",
       "\u001b[1;31mDocstring:\u001b[0m\n",
       "Return a list of the substrings in the string, using sep as the separator string.\n",
       "\n",
       "  sep\n",
       "    The separator used to split the string.\n",
       "\n",
       "    When set to None (the default value), will split on any whitespace\n",
       "    character (including \\n \\r \\t \\f and spaces) and will discard\n",
       "    empty strings from the result.\n",
       "  maxsplit\n",
       "    Maximum number of splits.\n",
       "    -1 (the default value) means no limit.\n",
       "\n",
       "Splitting starts at the front of the string and works to the end.\n",
       "\n",
       "Note, str.split() is mainly useful for data that has been intentionally\n",
       "delimited.  With natural text that includes punctuation, consider using\n",
       "the regular expression module.\n",
       "\u001b[1;31mType:\u001b[0m      method_descriptor"
      ]
     },
     "metadata": {},
     "output_type": "display_data"
    }
   ],
   "source": [
    "str.split?"
   ]
  },
  {
   "cell_type": "code",
   "execution_count": 3,
   "id": "59e1cc9b-6585-4cf7-b2fa-d87ee6fa1c8f",
   "metadata": {},
   "outputs": [],
   "source": [
    "input_string = \"zhang san, li si, wang wu\""
   ]
  },
  {
   "cell_type": "code",
   "execution_count": 4,
   "id": "e9faf8e4-ee71-49d3-a6c3-05452dd3a3c1",
   "metadata": {},
   "outputs": [],
   "source": [
    "splitted = input_string.split(\", \")"
   ]
  },
  {
   "cell_type": "code",
   "execution_count": 5,
   "id": "889e0a69-6ad5-4e59-9ca2-a46bb0158dba",
   "metadata": {},
   "outputs": [
    {
     "data": {
      "text/plain": [
       "['zhang san', 'li si', 'wang wu']"
      ]
     },
     "execution_count": 5,
     "metadata": {},
     "output_type": "execute_result"
    }
   ],
   "source": [
    "splitted"
   ]
  },
  {
   "cell_type": "code",
   "execution_count": 6,
   "id": "dde3bf6a-d8af-49e6-9b1f-5411e0071ea4",
   "metadata": {},
   "outputs": [
    {
     "name": "stdout",
     "output_type": "stream",
     "text": [
      "zhang san - li si\n",
      "zhang san - wang wu\n",
      "li si - wang wu\n"
     ]
    }
   ],
   "source": [
    "for i in range(len(splitted)):\n",
    "    for j in range(i+1, len(splitted)):\n",
    "        print(f\"{splitted[i]} - {splitted[j]}\")"
   ]
  },
  {
   "cell_type": "code",
   "execution_count": 2,
   "id": "3946f236-51d2-40c0-b993-824f126a0092",
   "metadata": {},
   "outputs": [],
   "source": [
    "import itertools"
   ]
  },
  {
   "cell_type": "code",
   "execution_count": 8,
   "id": "d73beca9-1216-4a6d-a32f-c1b14eb5baf4",
   "metadata": {},
   "outputs": [
    {
     "data": {
      "text/plain": [
       "\u001b[1;31mInit signature:\u001b[0m \u001b[0mitertools\u001b[0m\u001b[1;33m.\u001b[0m\u001b[0mcombinations\u001b[0m\u001b[1;33m(\u001b[0m\u001b[0miterable\u001b[0m\u001b[1;33m,\u001b[0m \u001b[0mr\u001b[0m\u001b[1;33m)\u001b[0m\u001b[1;33m\u001b[0m\u001b[1;33m\u001b[0m\u001b[0m\n",
       "\u001b[1;31mDocstring:\u001b[0m     \n",
       "Return successive r-length combinations of elements in the iterable.\n",
       "\n",
       "combinations(range(4), 3) --> (0,1,2), (0,1,3), (0,2,3), (1,2,3)\n",
       "\u001b[1;31mType:\u001b[0m           type\n",
       "\u001b[1;31mSubclasses:\u001b[0m     "
      ]
     },
     "metadata": {},
     "output_type": "display_data"
    }
   ],
   "source": [
    "itertools.combinations?"
   ]
  },
  {
   "cell_type": "code",
   "execution_count": 9,
   "id": "da477237-0b6c-4047-8a9a-9ab52d680f8a",
   "metadata": {},
   "outputs": [
    {
     "name": "stdout",
     "output_type": "stream",
     "text": [
      "zhang san, li si\n",
      "zhang san, wang wu\n",
      "li si, wang wu\n"
     ]
    }
   ],
   "source": [
    "for combo in itertools.combinations(splitted, 2):\n",
    "    print(f\"{combo[0]}, {combo[1]}\")"
   ]
  },
  {
   "cell_type": "code",
   "execution_count": 3,
   "id": "9708a643-ae98-4cd1-a5a7-da55f99165de",
   "metadata": {},
   "outputs": [],
   "source": [
    "import requests"
   ]
  },
  {
   "cell_type": "code",
   "execution_count": 4,
   "id": "88762b75-268e-485e-85a6-6a6afc9d5d9e",
   "metadata": {},
   "outputs": [],
   "source": [
    "url = \"https://peps.python.org/numerical/\""
   ]
  },
  {
   "cell_type": "code",
   "execution_count": 5,
   "id": "b2928b44-4ca1-4e77-a3c2-339a940c846b",
   "metadata": {},
   "outputs": [],
   "source": [
    "response = requests.get(url)"
   ]
  },
  {
   "cell_type": "code",
   "execution_count": 6,
   "id": "a72bfcb8-ebef-49f4-aa8b-1b2be55793af",
   "metadata": {},
   "outputs": [
    {
     "name": "stdout",
     "output_type": "stream",
     "text": [
      "200\n"
     ]
    }
   ],
   "source": [
    "print(response.status_code)"
   ]
  },
  {
   "cell_type": "code",
   "execution_count": 7,
   "id": "946cd8bd-185a-4a21-8d28-67be8119c2b5",
   "metadata": {},
   "outputs": [
    {
     "data": {
      "text/plain": [
       "'utf-8'"
      ]
     },
     "execution_count": 7,
     "metadata": {},
     "output_type": "execute_result"
    }
   ],
   "source": [
    "response.apparent_encoding"
   ]
  },
  {
   "cell_type": "code",
   "execution_count": 8,
   "id": "f7c59b90-c5da-442c-b309-41cd60fbdf49",
   "metadata": {},
   "outputs": [],
   "source": [
    "from bs4 import BeautifulSoup"
   ]
  },
  {
   "cell_type": "code",
   "execution_count": 9,
   "id": "7a9b24f6-951e-40b1-ab82-4356a8226905",
   "metadata": {},
   "outputs": [],
   "source": [
    "doc = BeautifulSoup(response.text)"
   ]
  },
  {
   "cell_type": "code",
   "execution_count": 10,
   "id": "93074dd3-c737-4db3-b35f-bed1bd961177",
   "metadata": {},
   "outputs": [],
   "source": [
    "id1 = doc.find(\"span\", attrs={\"id\": \"id1\"})"
   ]
  },
  {
   "cell_type": "code",
   "execution_count": 11,
   "id": "8547a8aa-5e7f-445e-9fb2-261e92d0659d",
   "metadata": {},
   "outputs": [],
   "source": [
    "table = id1.find_next(\"table\")\n",
    "# table = doc.table"
   ]
  },
  {
   "cell_type": "code",
   "execution_count": 23,
   "id": "3844a560-4070-403b-8198-eea969086dfd",
   "metadata": {},
   "outputs": [
    {
     "data": {
      "text/plain": [
       "'author_graph.dot.pdf'"
      ]
     },
     "execution_count": 23,
     "metadata": {},
     "output_type": "execute_result"
    }
   ],
   "source": [
    "author_graph = graphviz.Graph()\n",
    "tbody = table.tbody\n",
    "for tr in tbody.find_all(\"tr\"):\n",
    "    tds = tr.find_all(\"td\")\n",
    "    if len(tds) < 4:\n",
    "        continue\n",
    "    authors = tds[3].text\n",
    "    splitted = authors.split(\", \")\n",
    "    for combo in itertools.combinations(splitted, 2):\n",
    "        author_graph.edge(combo[0], combo[1])\n",
    "author_graph.save(\"author_graph.dot\")\n",
    "author_graph.render()"
   ]
  },
  {
   "cell_type": "code",
   "execution_count": 12,
   "id": "a2d2a6f6-0d3a-4fab-a435-3e467c345b48",
   "metadata": {},
   "outputs": [],
   "source": [
    "author_dict = {}\n",
    "tbody = table.tbody\n",
    "for tr in tbody.find_all(\"tr\"):\n",
    "    tds = tr.find_all(\"td\")\n",
    "    if len(tds) < 4:\n",
    "        continue\n",
    "    pep_id = tds[1].text\n",
    "    authors = tds[3].text\n",
    "    author_list = authors.split(\", \")\n",
    "    for author in author_list:\n",
    "        if not author in author_dict:\n",
    "            author_dict[author] = [pep_id]\n",
    "        else:\n",
    "            author_dict[author].append(pep_id)"
   ]
  },
  {
   "cell_type": "code",
   "execution_count": 13,
   "id": "7fa06338-9804-4baf-9d13-05642ab50370",
   "metadata": {},
   "outputs": [
    {
     "data": {
      "text/plain": [
       "{'Barry Warsaw': ['1',\n",
       "  '7',\n",
       "  '8',\n",
       "  '9',\n",
       "  '10',\n",
       "  '12',\n",
       "  '101',\n",
       "  '102',\n",
       "  '201',\n",
       "  '202',\n",
       "  '214',\n",
       "  '231',\n",
       "  '232',\n",
       "  '251',\n",
       "  '274',\n",
       "  '292',\n",
       "  '320',\n",
       "  '351',\n",
       "  '361',\n",
       "  '364',\n",
       "  '374',\n",
       "  '394',\n",
       "  '396',\n",
       "  '401',\n",
       "  '404',\n",
       "  '407',\n",
       "  '435',\n",
       "  '507',\n",
       "  '553',\n",
       "  '559',\n",
       "  '641',\n",
       "  '759',\n",
       "  '801',\n",
       "  '3147',\n",
       "  '3149',\n",
       "  '8000',\n",
       "  '8002',\n",
       "  '8010',\n",
       "  '8011'],\n",
       " 'Jeremy Hylton': ['1', '3', '42', '200', '226', '227', '267'],\n",
       " 'David Goodger': ['1', '12', '256', '257', '258', '287'],\n",
       " 'Alyssa Coghlan': ['1',\n",
       "  '8',\n",
       "  '306',\n",
       "  '338',\n",
       "  '343',\n",
       "  '346',\n",
       "  '366',\n",
       "  '377',\n",
       "  '394',\n",
       "  '395',\n",
       "  '403',\n",
       "  '406',\n",
       "  '408',\n",
       "  '411',\n",
       "  '413',\n",
       "  '414',\n",
       "  '422',\n",
       "  '426',\n",
       "  '430',\n",
       "  '432',\n",
       "  '440',\n",
       "  '453',\n",
       "  '459',\n",
       "  '462',\n",
       "  '466',\n",
       "  '467',\n",
       "  '469',\n",
       "  '474',\n",
       "  '477',\n",
       "  '489',\n",
       "  '493',\n",
       "  '501',\n",
       "  '504',\n",
       "  '522',\n",
       "  '531',\n",
       "  '532',\n",
       "  '534',\n",
       "  '535',\n",
       "  '538',\n",
       "  '558',\n",
       "  '565',\n",
       "  '573',\n",
       "  '577',\n",
       "  '582',\n",
       "  '587',\n",
       "  '598',\n",
       "  '605',\n",
       "  '607',\n",
       "  '628',\n",
       "  '642',\n",
       "  '765',\n",
       "  '3150'],\n",
       " 'Brett Cannon': ['2',\n",
       "  '4',\n",
       "  '11',\n",
       "  '12',\n",
       "  '339',\n",
       "  '348',\n",
       "  '352',\n",
       "  '360',\n",
       "  '362',\n",
       "  '374',\n",
       "  '399',\n",
       "  '401',\n",
       "  '488',\n",
       "  '512',\n",
       "  '518',\n",
       "  '519',\n",
       "  '523',\n",
       "  '594',\n",
       "  '621',\n",
       "  '641',\n",
       "  '650',\n",
       "  '665',\n",
       "  '685',\n",
       "  '751',\n",
       "  '758',\n",
       "  '760',\n",
       "  '3003',\n",
       "  '3100',\n",
       "  '3108',\n",
       "  '3113',\n",
       "  '3122',\n",
       "  '8001'],\n",
       " 'Martijn Faassen': ['2'],\n",
       " 'Martin von Löwis': ['4',\n",
       "  '11',\n",
       "  '244',\n",
       "  '263',\n",
       "  '286',\n",
       "  '347',\n",
       "  '353',\n",
       "  '381',\n",
       "  '382',\n",
       "  '383',\n",
       "  '384',\n",
       "  '393',\n",
       "  '397',\n",
       "  '3120',\n",
       "  '3121',\n",
       "  '3123',\n",
       "  '3131'],\n",
       " 'Paul Prescod': ['5', '213', '233', '261'],\n",
       " 'Aahz': ['6', '328'],\n",
       " 'Anthony Baxter': ['6', '102', '318', '320', '356'],\n",
       " 'Guido van Rossum': ['7',\n",
       "  '8',\n",
       "  '101',\n",
       "  '102',\n",
       "  '207',\n",
       "  '228',\n",
       "  '230',\n",
       "  '234',\n",
       "  '237',\n",
       "  '238',\n",
       "  '251',\n",
       "  '252',\n",
       "  '253',\n",
       "  '254',\n",
       "  '257',\n",
       "  '259',\n",
       "  '260',\n",
       "  '280',\n",
       "  '283',\n",
       "  '285',\n",
       "  '307',\n",
       "  '308',\n",
       "  '340',\n",
       "  '342',\n",
       "  '343',\n",
       "  '352',\n",
       "  '356',\n",
       "  '358',\n",
       "  '479',\n",
       "  '483',\n",
       "  '484',\n",
       "  '526',\n",
       "  '572',\n",
       "  '617',\n",
       "  '622',\n",
       "  '634',\n",
       "  '635',\n",
       "  '654',\n",
       "  '731',\n",
       "  '733',\n",
       "  '750',\n",
       "  '3000',\n",
       "  '3003',\n",
       "  '3103',\n",
       "  '3106',\n",
       "  '3116',\n",
       "  '3119',\n",
       "  '3137',\n",
       "  '3156'],\n",
       " 'The Python core team and community': ['13'],\n",
       " 'Tim Peters': ['20',\n",
       "  '223',\n",
       "  '235',\n",
       "  '236',\n",
       "  '255',\n",
       "  '307',\n",
       "  '495',\n",
       "  '500',\n",
       "  '572',\n",
       "  '8001'],\n",
       " 'Marc-André Lemburg': ['100',\n",
       "  '208',\n",
       "  '224',\n",
       "  '248',\n",
       "  '249',\n",
       "  '263',\n",
       "  '275',\n",
       "  '297',\n",
       "  '493'],\n",
       " 'Oleg Broytman': ['103', '3140'],\n",
       " 'Fred L. Drake': ['160', '205'],\n",
       " 'Jr.': ['160', '205'],\n",
       " 'Thomas Wouters': ['203', '204', '221', '640', '693', '719'],\n",
       " 'A.M. Kuchling': ['206',\n",
       "  '222',\n",
       "  '229',\n",
       "  '241',\n",
       "  '247',\n",
       "  '262',\n",
       "  '272',\n",
       "  '314',\n",
       "  '321',\n",
       "  '452'],\n",
       " 'David Ascher': ['207', '210'],\n",
       " 'Neil Schemenauer': ['208', '255', '349', '358', '733'],\n",
       " 'Paul Barrett': ['209'],\n",
       " 'Travis Oliphant': ['209', '357', '3118'],\n",
       " 'Greg Wilson': ['211', '218'],\n",
       " 'Peter Schneider-Kamp': ['212'],\n",
       " 'Ka-Ping Yee': ['215', '234', '344', '3104', '3114', '3134'],\n",
       " 'Moshe Zadka': ['216', '217', '228', '237', '238', '239', '240'],\n",
       " 'Raymond Hettinger': ['218',\n",
       "  '279',\n",
       "  '288',\n",
       "  '289',\n",
       "  '290',\n",
       "  '308',\n",
       "  '315',\n",
       "  '320',\n",
       "  '322',\n",
       "  '329',\n",
       "  '372',\n",
       "  '378',\n",
       "  '3126',\n",
       "  '8001'],\n",
       " 'Gordon McMillan': ['219', '220'],\n",
       " 'Huaiyu Zhu': ['225'],\n",
       " 'Gregory Lielens': ['225'],\n",
       " 'Christopher A. Craig': ['239', '240'],\n",
       " 'Paul F. Dubois': ['242'],\n",
       " 'Sean Reifschneider': ['243'],\n",
       " 'Michel Pelletier': ['245', '319', '330'],\n",
       " 'Alex Martelli': ['246', '312', '323'],\n",
       " 'Clark C. Evans': ['246', '334'],\n",
       " 'Greg Stein': ['248', '268'],\n",
       " 'Paul Moore': ['250', '302', '310', '441', '486', '625', '643', '700', '722'],\n",
       " 'Magnus Lie Hetland': ['255', '281'],\n",
       " 'Michael Hudson': ['264', '306', '310'],\n",
       " 'Grant Griffin': ['265'],\n",
       " 'Skip Montanaro': ['266', '304', '305', '318', '332'],\n",
       " 'Jonathan Riehl': ['269'],\n",
       " 'Jason Petrone': ['270'],\n",
       " 'Frédéric B. Giacometti': ['271'],\n",
       " 'James C. Ahlstrom': ['273'],\n",
       " 'Jim Althoff': ['276'],\n",
       " 'Neil Hodgson': ['277'],\n",
       " 'Jack Jansen': ['278', '8014'],\n",
       " 'Vinay Sajip': ['282', '391'],\n",
       " 'Trent Mick': ['282'],\n",
       " 'David Eppstein': ['284'],\n",
       " 'Gregory Ewing': ['284', '335', '380', '3152'],\n",
       " 'Neal Norwitz': ['291', '356', '361'],\n",
       " 'Walter Dörwald': ['293'],\n",
       " 'Oren Tirosh': ['294'],\n",
       " 'Stepan Koltsov': ['295'],\n",
       " 'Scott Gilbert': ['296'],\n",
       " 'Thomas Heller': ['298'],\n",
       " 'Jeff Epler': ['299'],\n",
       " 'Richard Jones': ['301', '314', '345', '439'],\n",
       " 'Just van Rossum': ['302'],\n",
       " 'Thomas Bellman': ['303'],\n",
       " 'Kevin Altis': ['305'],\n",
       " 'Dave Cole': ['305'],\n",
       " 'Andrew McNamara': ['305'],\n",
       " 'Cliff Wells': ['305'],\n",
       " 'Jack Diederich': ['306'],\n",
       " 'Benjamin Peterson': ['306', '373', '375', '387', '415', '552', '3139'],\n",
       " 'Peter Harris': ['309'],\n",
       " 'Mark Hammond': ['311', '397'],\n",
       " 'Roman Suzi': ['312'],\n",
       " 'Mike Meyer': ['313'],\n",
       " 'W Isaac Carroll': ['315'],\n",
       " 'Terence Way': ['316'],\n",
       " 'Steven Taschuk': ['317'],\n",
       " 'Kevin D. Smith': ['318'],\n",
       " 'Jim J. Jewett': ['318', '418', '3125', '3126', '3130', '3140'],\n",
       " 'Peter Astrand': ['324'],\n",
       " 'Samuele Pedroni': ['325'],\n",
       " 'Josiah Carlson': ['326', '3145'],\n",
       " 'Terry Reedy': ['326', '434'],\n",
       " 'Facundo Batista': ['327'],\n",
       " 'Christian R. Reis': ['331'],\n",
       " 'Phillip J. Eby': ['333', '342', '365', '402', '3124', '3333'],\n",
       " 'Andrew McClelland': ['336'],\n",
       " 'Michael P. Dubner': ['337'],\n",
       " 'Georg Brandl': ['341',\n",
       "  '385',\n",
       "  '392',\n",
       "  '398',\n",
       "  '407',\n",
       "  '515',\n",
       "  '3001',\n",
       "  '3099',\n",
       "  '3105',\n",
       "  '3117',\n",
       "  '3132'],\n",
       " 'Micah Elliott': ['350'],\n",
       " 'Ben Finney': ['354', '3143'],\n",
       " 'Björn Lindqvist': ['355'],\n",
       " 'Steven Bethard': ['359', '389', '3002'],\n",
       " 'Jiwon Seo': ['362'],\n",
       " 'Yury Selivanov': ['362', '492', '525', '530', '550', '567', '603', '654'],\n",
       " 'Larry Hastings': ['362', '429', '436', '457', '478', '549', '570', '649'],\n",
       " 'Ben North': ['363'],\n",
       " 'Calvin Spealman': ['367', '3135'],\n",
       " 'Tim Delaney': ['367', '3135'],\n",
       " 'Lino Mastrodomenico': ['368'],\n",
       " 'Christian Heimes': ['369', '370', '452', '456', '543', '594', '644', '8001'],\n",
       " 'Jesse Noller': ['371', '3003'],\n",
       " 'Richard Oudkerk': ['371'],\n",
       " 'Armin Ronacher': ['372', '414', '444'],\n",
       " 'Stephen J. Turnbull': ['374', '418'],\n",
       " 'Alexandre Vassalotti': ['374'],\n",
       " 'Dirkjan Ochtman': ['374', '385'],\n",
       " 'Tarek Ziadé': ['376', '381', '386', '390'],\n",
       " 'Jervis Whitley': ['379'],\n",
       " 'Antoine Pitrou': ['385',\n",
       "  '407',\n",
       "  '428',\n",
       "  '442',\n",
       "  '455',\n",
       "  '460',\n",
       "  '556',\n",
       "  '574',\n",
       "  '733',\n",
       "  '3151',\n",
       "  '3154',\n",
       "  '3155',\n",
       "  '8002'],\n",
       " 'Kerrick Staley': ['394'],\n",
       " 'Petr Viktorin': ['394',\n",
       "  '489',\n",
       "  '534',\n",
       "  '547',\n",
       "  '573',\n",
       "  '627',\n",
       "  '630',\n",
       "  '652',\n",
       "  '672',\n",
       "  '687',\n",
       "  '689',\n",
       "  '697',\n",
       "  '706',\n",
       "  '721',\n",
       "  '731',\n",
       "  '733',\n",
       "  '743'],\n",
       " 'Miro Hrončok': ['394', '608'],\n",
       " 'Carol Willing': ['394', '733', '8002'],\n",
       " 'Victor Stinner': ['400',\n",
       "  '410',\n",
       "  '416',\n",
       "  '418',\n",
       "  '432',\n",
       "  '433',\n",
       "  '445',\n",
       "  '446',\n",
       "  '454',\n",
       "  '475',\n",
       "  '490',\n",
       "  '509',\n",
       "  '510',\n",
       "  '511',\n",
       "  '524',\n",
       "  '540',\n",
       "  '545',\n",
       "  '546',\n",
       "  '564',\n",
       "  '587',\n",
       "  '606',\n",
       "  '608',\n",
       "  '620',\n",
       "  '670',\n",
       "  '674',\n",
       "  '731',\n",
       "  '733',\n",
       "  '737',\n",
       "  '741',\n",
       "  '743',\n",
       "  '756',\n",
       "  '757',\n",
       "  '8015'],\n",
       " 'Carl Meyer': ['405', '438', '690', '709'],\n",
       " 'Greg Slodkowicz': ['406'],\n",
       " 'Eli Bendersky': ['408', '411', '435'],\n",
       " 'Ethan Furman': ['409', '435', '461', '467', '663'],\n",
       " 'Mark Shannon': ['412',\n",
       "  '576',\n",
       "  '590',\n",
       "  '611',\n",
       "  '626',\n",
       "  '638',\n",
       "  '651',\n",
       "  '653',\n",
       "  '659',\n",
       "  '667',\n",
       "  '669',\n",
       "  '733'],\n",
       " 'Michael Foord': ['417'],\n",
       " 'Cameron Simpson': ['418', '499'],\n",
       " 'Paul Colomiets': ['419'],\n",
       " 'Eric V. Smith': ['420', '498', '557'],\n",
       " 'Eric Snow': ['421',\n",
       "  '432',\n",
       "  '451',\n",
       "  '468',\n",
       "  '520',\n",
       "  '554',\n",
       "  '573',\n",
       "  '683',\n",
       "  '684',\n",
       "  '733',\n",
       "  '734',\n",
       "  '8001'],\n",
       " 'Daniel Urban': ['422'],\n",
       " 'Benoit Bryon': ['423'],\n",
       " 'Alex Gaynor': ['424', '476'],\n",
       " 'Daniel Holth': ['425', '426', '427', '441', '491', '660'],\n",
       " 'Donald Stufft': ['426',\n",
       "  '440',\n",
       "  '449',\n",
       "  '453',\n",
       "  '464',\n",
       "  '470',\n",
       "  '477',\n",
       "  '481',\n",
       "  '503',\n",
       "  '518',\n",
       "  '527',\n",
       "  '582',\n",
       "  '592',\n",
       "  '629',\n",
       "  '668',\n",
       "  '691',\n",
       "  '694',\n",
       "  '708',\n",
       "  '714',\n",
       "  '8001',\n",
       "  '8016'],\n",
       " 'Lennart Regebro': ['431'],\n",
       " 'Todd Rovito': ['434'],\n",
       " 'Stefan Krah': ['437'],\n",
       " 'Holger Krekel': ['438'],\n",
       " 'Łukasz Langa': ['443',\n",
       "  '482',\n",
       "  '484',\n",
       "  '541',\n",
       "  '544',\n",
       "  '563',\n",
       "  '569',\n",
       "  '585',\n",
       "  '596',\n",
       "  '602',\n",
       "  '607',\n",
       "  '762',\n",
       "  '8001',\n",
       "  '8002',\n",
       "  '8012'],\n",
       " 'Chris McDonough': ['444'],\n",
       " 'Ronald Oussoren': ['447', '733'],\n",
       " 'Joshua Landau': ['448'],\n",
       " 'Steven D’Aprano': ['450', '506', '584'],\n",
       " 'Trishank Karthik Kuppusamy': ['458', '480'],\n",
       " 'Vladimir Diaz': ['458', '480'],\n",
       " 'Marina Moore': ['458', '480'],\n",
       " 'Lukas Puehringer': ['458'],\n",
       " 'Joshua Lock': ['458'],\n",
       " 'Lois Anne DeLong': ['458'],\n",
       " 'Justin Cappos': ['458', '480'],\n",
       " 'Chris Angelico': ['463', '479', '499', '572', '671', '736'],\n",
       " 'Nathaniel J. Smith': ['465',\n",
       "  '513',\n",
       "  '516',\n",
       "  '517',\n",
       "  '518',\n",
       "  '521',\n",
       "  '522',\n",
       "  '533',\n",
       "  '568',\n",
       "  '600',\n",
       "  '711',\n",
       "  '789',\n",
       "  '8001',\n",
       "  '8016',\n",
       "  '8100'],\n",
       " 'Ben Hoyt': ['471'],\n",
       " 'Stefano Borini': ['472', '637'],\n",
       " 'Joseph Martinot-Lagarde': ['472'],\n",
       " 'Sebastian Kreft': ['473'],\n",
       " 'Charles-François Natali': ['475'],\n",
       " 'Ivan Levkivskyi': ['483', '526', '544', '560', '562', '586', '591', '622'],\n",
       " 'Jukka Lehtosalo': ['484', '544', '586', '589'],\n",
       " 'Christopher Barker': ['485'],\n",
       " 'Martin Teichmann': ['487'],\n",
       " 'Stefan Behnel': ['489', '733'],\n",
       " 'Robert Kuska': ['493'],\n",
       " 'Ned Deily': ['494', '537'],\n",
       " 'Alexander Belopolsky': ['495', '500'],\n",
       " 'James Polley': ['496'],\n",
       " 'Ed Schofield': ['497'],\n",
       " 'Joseph Jevnik': ['499'],\n",
       " 'Nick Humrich': ['501'],\n",
       " 'Mike G. Miller': ['502'],\n",
       " 'Mark E. Haase': ['505', '532'],\n",
       " 'Steve Dower': ['505',\n",
       "  '514',\n",
       "  '528',\n",
       "  '529',\n",
       "  '551',\n",
       "  '578',\n",
       "  '582',\n",
       "  '605',\n",
       "  '607',\n",
       "  '632',\n",
       "  '641',\n",
       "  '731',\n",
       "  '733',\n",
       "  '8013'],\n",
       " 'Robert Collins': ['508', '516'],\n",
       " 'Robert T. McGibbon': ['513'],\n",
       " 'Serhiy Storchaka': ['515'],\n",
       " 'Thomas Kluyver': ['517', '571', '600', '621'],\n",
       " 'Koos Zevenhoven': ['519', '555'],\n",
       " 'Dino Viehland': ['523'],\n",
       " 'Ryan Gonzalez': ['526'],\n",
       " 'Philip House': ['526'],\n",
       " 'Lisa Roach': ['526'],\n",
       " 'Tomáš Orsava': ['534'],\n",
       " 'Philipp Angerer': ['536'],\n",
       " 'Erik M. Bray': ['539'],\n",
       " 'Masayuki Yamamoto': ['539'],\n",
       " 'Markus Meskanen': ['542'],\n",
       " 'Cory Benfield': ['543', '546'],\n",
       " 'Julien Palard': ['545'],\n",
       " 'Inada Naoki': ['545', '597', '623', '624', '686'],\n",
       " 'Marcel Plch': ['547', '573'],\n",
       " 'R David Murray': ['548'],\n",
       " 'Elvis Pranskevichus': ['550'],\n",
       " 'Ethan Smith': ['561', '759', '777'],\n",
       " 'Dustin Ingram': ['566', '599', '609', '621', '650', '691', '740'],\n",
       " 'Pablo Galindo': ['570', '617', '657', '701', '758', '760'],\n",
       " 'Mario Corchero': ['570', '648'],\n",
       " 'Eric N. Vander Weele': ['570'],\n",
       " 'Mark  Williams': ['571'],\n",
       " 'Geoffrey Thomas': ['571', '668'],\n",
       " 'Jeroen Demeyer': ['575', '579', '580', '590'],\n",
       " 'Mariatta': ['581', '588', '8001', '8011'],\n",
       " 'Kushal Das': ['582'],\n",
       " 'Jeffrey Yasskin': ['583', '3141', '3146'],\n",
       " 'Brandt Bucher': ['584', '614', '618', '622', '634', '744'],\n",
       " 'Michael Lee': ['586'],\n",
       " 'Michael J. Sullivan': ['591'],\n",
       " 'Till Varoquaux': ['593'],\n",
       " 'Konstantin Kashin': ['593'],\n",
       " 'Ezio Melotti': ['595'],\n",
       " 'Berker Peksag': ['595'],\n",
       " 'Damien George': ['601'],\n",
       " 'Batuhan Taskaya': ['601', '657', '701'],\n",
       " 'Philippe PRADOS': ['604'],\n",
       " 'Maggie Moss': ['604', '645'],\n",
       " 'Pradyun Gedam': ['609', '621', '665', '668', '691', '704', '725'],\n",
       " 'Sumana Harihareswara': ['609'],\n",
       " 'Stéphane Bidoul': ['610', '660'],\n",
       " 'Chris Jerdonek': ['610'],\n",
       " 'Mark Mendoza': ['612', '646'],\n",
       " 'Shannon Zhu': ['613', '698'],\n",
       " 'Paul Ganssle': ['615', '621'],\n",
       " 'Dennis Sweeney': ['616'],\n",
       " 'Lysandros Nikolaou': ['617', '701', '750', '762'],\n",
       " 'Pablo Galindo Salgado': ['619', '664', '679', '762', '768', '8001'],\n",
       " 'Sébastien Eustace': ['621'],\n",
       " 'Tzu-ping Chung': ['621', '625', '656', '658', '665', '668'],\n",
       " 'Daniel F Moisset': ['622', '636'],\n",
       " 'Tobias Kohn': ['622', '635'],\n",
       " 'Talin': ['622', '3101', '3102', '3115', '3119'],\n",
       " 'Ofek Lev': ['631', '723', '752', '755'],\n",
       " 'Laurie Opperman': ['633'],\n",
       " 'Arun Babu Neelicattu': ['633'],\n",
       " 'Philippe Ombredanne': ['639'],\n",
       " 'C.A.M. Gerlach': ['639'],\n",
       " 'Karolina Surma': ['639'],\n",
       " 'Matthew Rahtz': ['646'],\n",
       " 'Pradeep Kumar Srinivasan': ['646', '673', '675', '677'],\n",
       " 'Vincent Siles': ['646'],\n",
       " 'Eric Traut': ['647', '681', '695', '724', '747'],\n",
       " 'Vikram Jayanthi': ['650'],\n",
       " 'Irit Katriel': ['654', '707', '731', '733', '765'],\n",
       " 'David Foster': ['655', '747'],\n",
       " 'Ammar Askar': ['657'],\n",
       " 'Tal Einat': ['661', '8001'],\n",
       " 'Bernát Gábor': ['662'],\n",
       " 'Laura Creighton': ['666'],\n",
       " 'Tian Gao': ['667'],\n",
       " 'Matthias Klose': ['668'],\n",
       " 'Filipe Laíns': ['668', '720', '739'],\n",
       " 'Stefano Rivera': ['668'],\n",
       " 'Elana Hashman': ['668'],\n",
       " 'Erlend Egeberg Aasland': ['670', '687', '733'],\n",
       " 'James Hilton-Balfe': ['673', '696', '718'],\n",
       " 'Graham Bleaney': ['675'],\n",
       " 'Adam Turner': ['676'],\n",
       " 'Steven Troxler': ['677', '698'],\n",
       " 'Zac Hatfield-Dodds': ['678', '789'],\n",
       " 'Taneli Hukkinen': ['680'],\n",
       " 'Shantanu Jain': ['680', '729', '733'],\n",
       " 'Erik De Bonte': ['681', '724'],\n",
       " 'John Belmonte': ['682'],\n",
       " 'Eddie Elizondo': ['683'],\n",
       " 'Jelle Zijlstra': ['688', '702', '729', '733', '742', '749'],\n",
       " 'Germán Méndez Bravo': ['690'],\n",
       " 'Cooper Lees': ['691'],\n",
       " 'Franek Magiera': ['692'],\n",
       " 'Joshua Xu': ['698'],\n",
       " 'Ken Jin': ['699'],\n",
       " 'Marta Gómez Macías': ['701'],\n",
       " 'Sam Gross': ['703'],\n",
       " 'Alice Purcell': ['705'],\n",
       " 'Fridolín Pokorný': ['710'],\n",
       " 'Joshua Cannon': ['712'],\n",
       " 'Amethyst Reese': ['713'],\n",
       " 'William Woodruff': ['715', '733', '740', '748', '753', '763'],\n",
       " 'Rich Chiodo': ['724'],\n",
       " 'Ralf Gommers': ['725'],\n",
       " 'Sergey B Kirpichev': ['726', '757'],\n",
       " 'Sebastián Ramírez': ['727'],\n",
       " 'Zixuan James Li': ['728'],\n",
       " 'Russell Keith-Magee': ['730'],\n",
       " 'Joanna Jablonski': ['732'],\n",
       " 'Domenico Andreoli': ['733'],\n",
       " 'Carl Friedrich Bolz-Tereick': ['733'],\n",
       " 'Simon Cross': ['733'],\n",
       " 'Tim Felgentreff': ['733'],\n",
       " 'David Hewitt': ['733'],\n",
       " 'Wenzel Jakob': ['733'],\n",
       " 'Marc-Andre Lemburg': ['733'],\n",
       " 'Donghee Na': ['733'],\n",
       " 'Karl Nelson': ['733'],\n",
       " 'Stepan Sindelar': ['733'],\n",
       " 'Gregory P. Smith': ['733', '8001'],\n",
       " 'David Woods': ['733'],\n",
       " 'Stephen Rosen': ['735'],\n",
       " 'Joshua Bambrick': ['736'],\n",
       " 'Malcolm Smith': ['738'],\n",
       " 'Facundo Tuesca': ['740', '753'],\n",
       " 'Savannah Ostrowski': ['744'],\n",
       " 'Hugo van Kemenade': ['745', '2026'],\n",
       " 'Adrian Garcia Badaracco': ['746'],\n",
       " 'Joop van de Pol': ['748'],\n",
       " 'Jim Baker': ['750'],\n",
       " 'Paul Everitt': ['750'],\n",
       " 'Koudai Aono': ['750'],\n",
       " 'Dave Peck': ['750'],\n",
       " 'Gregory R. Warnes': ['754'],\n",
       " 'Seth Michael Larson': ['761'],\n",
       " 'Emily Morehouse-Valcarcel': ['762'],\n",
       " 'Alexis Challande': ['763'],\n",
       " 'Michael Sarahan': ['766'],\n",
       " 'Eneg': ['767'],\n",
       " 'Matt Wozniski': ['768'],\n",
       " 'Ivona Stojanovic': ['768'],\n",
       " 'Collin Winter': ['3107', '3109', '3110', '3129', '3133', '3146'],\n",
       " 'Tony Lownds': ['3107'],\n",
       " 'Andre Roberge': ['3111'],\n",
       " 'Jason Orendorff': ['3112'],\n",
       " 'Daniel Stutzbach': ['3116', '3128'],\n",
       " 'Mike Verdone': ['3116'],\n",
       " 'Carl Banks': ['3118'],\n",
       " 'Patrick Maupin': ['3127'],\n",
       " 'Lie Ryan': ['3135'],\n",
       " 'Matt Chisholm': ['3136'],\n",
       " 'Atsuo Ishimoto': ['3138'],\n",
       " 'Gerald Britton': ['3142'],\n",
       " 'Peter Moody': ['3144'],\n",
       " 'Eric Pruitt': ['3145'],\n",
       " 'Charles R. McCreary': ['3145'],\n",
       " 'Reid Kleckner': ['3146'],\n",
       " 'Brian Quinlan': ['3148'],\n",
       " 'Laurens Van Houtven': ['3153'],\n",
       " 'Zachary Ware': ['8001'],\n",
       " 'Doug Hellmann': ['8002'],\n",
       " 'Ee Durbin': ['8100', '8101', '8102', '8103', '8104', '8105', '8106'],\n",
       " 'Ewa Jodlowska': ['8101', '8102', '8103'],\n",
       " 'Joe Carey': ['8102', '8103']}"
      ]
     },
     "execution_count": 13,
     "metadata": {},
     "output_type": "execute_result"
    }
   ],
   "source": [
    "author_dict"
   ]
  },
  {
   "cell_type": "code",
   "execution_count": 15,
   "id": "fc10b2c5-ed78-41f5-babe-1277c5a97a56",
   "metadata": {},
   "outputs": [],
   "source": [
    "max_num = 0\n",
    "max_author = \"\"\n",
    "for author in author_dict:\n",
    "    pep_num = author_dict[author]\n",
    "    if len(pep_num) > max_num:\n",
    "        max_num = len(pep_num)\n",
    "        max_author = author"
   ]
  },
  {
   "cell_type": "code",
   "execution_count": 16,
   "id": "71a90cd2-b64e-4eb8-a58b-48c85f48c771",
   "metadata": {},
   "outputs": [
    {
     "data": {
      "text/plain": [
       "52"
      ]
     },
     "execution_count": 16,
     "metadata": {},
     "output_type": "execute_result"
    }
   ],
   "source": [
    "max_num"
   ]
  },
  {
   "cell_type": "code",
   "execution_count": 17,
   "id": "e35a0ab7-d763-452d-924f-e30329624553",
   "metadata": {},
   "outputs": [
    {
     "data": {
      "text/plain": [
       "'Alyssa Coghlan'"
      ]
     },
     "execution_count": 17,
     "metadata": {},
     "output_type": "execute_result"
    }
   ],
   "source": [
    "max_author"
   ]
  },
  {
   "cell_type": "code",
   "execution_count": 18,
   "id": "f75bb7f2-ab39-4344-b683-2762ef8eb0e6",
   "metadata": {},
   "outputs": [],
   "source": [
    "from functools import reduce"
   ]
  },
  {
   "cell_type": "code",
   "execution_count": 21,
   "id": "378f9bc8-7ecc-47a7-b41e-b831cd9283d1",
   "metadata": {},
   "outputs": [],
   "source": [
    "def more_pep(author1, author2):\n",
    "    if len(author_dict[author1]) > len(author_dict[author2]):\n",
    "        return author1\n",
    "    else:\n",
    "        return author2"
   ]
  },
  {
   "cell_type": "code",
   "execution_count": 22,
   "id": "2f5d4491-bf57-4421-9e0c-387aca2ea885",
   "metadata": {},
   "outputs": [
    {
     "data": {
      "text/plain": [
       "'Alyssa Coghlan'"
      ]
     },
     "execution_count": 22,
     "metadata": {},
     "output_type": "execute_result"
    }
   ],
   "source": [
    "reduce(more_pep, author_dict)"
   ]
  },
  {
   "cell_type": "code",
   "execution_count": null,
   "id": "213ca49d-3568-43b1-a50b-54c10535d5fe",
   "metadata": {},
   "outputs": [],
   "source": []
  }
 ],
 "metadata": {
  "kernelspec": {
   "display_name": "Python 3 (ipykernel)",
   "language": "python",
   "name": "python3"
  },
  "language_info": {
   "codemirror_mode": {
    "name": "ipython",
    "version": 3
   },
   "file_extension": ".py",
   "mimetype": "text/x-python",
   "name": "python",
   "nbconvert_exporter": "python",
   "pygments_lexer": "ipython3",
   "version": "3.12.4"
  }
 },
 "nbformat": 4,
 "nbformat_minor": 5
}

{
 "cells": [
  {
   "cell_type": "code",
   "execution_count": 1,
   "id": "53847e9e-de35-45c6-b6b6-6adbb6333157",
   "metadata": {},
   "outputs": [],
   "source": [
    "import sqlite3"
   ]
  },
  {
   "cell_type": "code",
   "execution_count": 2,
   "id": "92d17247-5f73-455a-b928-1d7578c79140",
   "metadata": {},
   "outputs": [],
   "source": [
    "con = sqlite3.connect(\"info.db\")"
   ]
  },
  {
   "cell_type": "code",
   "execution_count": 3,
   "id": "8e721d2b-c3c5-4502-a7f3-3c8fc869d88b",
   "metadata": {},
   "outputs": [
    {
     "ename": "OperationalError",
     "evalue": "table students already exists",
     "output_type": "error",
     "traceback": [
      "\u001b[1;31m---------------------------------------------------------------------------\u001b[0m",
      "\u001b[1;31mOperationalError\u001b[0m                          Traceback (most recent call last)",
      "Cell \u001b[1;32mIn[3], line 1\u001b[0m\n\u001b[1;32m----> 1\u001b[0m \u001b[43mcon\u001b[49m\u001b[38;5;241;43m.\u001b[39;49m\u001b[43mexecute\u001b[49m\u001b[43m(\u001b[49m\u001b[38;5;124;43m\"\u001b[39;49m\u001b[38;5;124;43mcreate table students (ID int, name text, age int)\u001b[39;49m\u001b[38;5;124;43m\"\u001b[39;49m\u001b[43m)\u001b[49m\n\u001b[0;32m      2\u001b[0m con\u001b[38;5;241m.\u001b[39mexecute(\u001b[38;5;124m\"\u001b[39m\u001b[38;5;124minsert into students values (123, \u001b[39m\u001b[38;5;124m'\u001b[39m\u001b[38;5;124mzhangsan\u001b[39m\u001b[38;5;124m'\u001b[39m\u001b[38;5;124m, 18)\u001b[39m\u001b[38;5;124m\"\u001b[39m)\n\u001b[0;32m      3\u001b[0m con\u001b[38;5;241m.\u001b[39mexecute(\u001b[38;5;124m\"\u001b[39m\u001b[38;5;124minsert into students values (124, \u001b[39m\u001b[38;5;124m'\u001b[39m\u001b[38;5;124mlisi\u001b[39m\u001b[38;5;124m'\u001b[39m\u001b[38;5;124m, 19)\u001b[39m\u001b[38;5;124m\"\u001b[39m)\n",
      "\u001b[1;31mOperationalError\u001b[0m: table students already exists"
     ]
    }
   ],
   "source": [
    "con.execute(\"create table students (ID int, name text, age int)\")\n",
    "con.execute(\"insert into students values (123, 'zhangsan', 18)\")\n",
    "con.execute(\"insert into students values (124, 'lisi', 19)\")"
   ]
  },
  {
   "cell_type": "code",
   "execution_count": 4,
   "id": "82ddcdd1-4bbe-4a7f-b7a2-a6a44d1c6a3c",
   "metadata": {},
   "outputs": [],
   "source": [
    "con.commit()"
   ]
  },
  {
   "cell_type": "code",
   "execution_count": null,
   "id": "2eda77b4-ef62-45af-b98c-a5e00fce916a",
   "metadata": {},
   "outputs": [],
   "source": []
  }
 ],
 "metadata": {
  "kernelspec": {
   "display_name": "Python 3 (ipykernel)",
   "language": "python",
   "name": "python3"
  },
  "language_info": {
   "codemirror_mode": {
    "name": "ipython",
    "version": 3
   },
   "file_extension": ".py",
   "mimetype": "text/x-python",
   "name": "python",
   "nbconvert_exporter": "python",
   "pygments_lexer": "ipython3",
   "version": "3.12.4"
  }
 },
 "nbformat": 4,
 "nbformat_minor": 5
}

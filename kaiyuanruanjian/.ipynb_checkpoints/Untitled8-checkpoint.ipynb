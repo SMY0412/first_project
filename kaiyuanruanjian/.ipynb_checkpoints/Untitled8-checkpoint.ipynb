{
 "cells": [
  {
   "cell_type": "code",
   "execution_count": 1,
   "id": "5ea5d2ac-3656-4a5d-97b4-4205fd8ebfcc",
   "metadata": {},
   "outputs": [],
   "source": [
    "import z3"
   ]
  },
  {
   "cell_type": "code",
   "execution_count": 2,
   "id": "ab74e3fc-a4ee-401e-a44f-f41e84ea7ade",
   "metadata": {},
   "outputs": [],
   "source": [
    "chicken = z3.Int(\"chicken\")\n",
    "rabbits = z3.Int(\"rabbits\")"
   ]
  },
  {
   "cell_type": "code",
   "execution_count": 3,
   "id": "2b7c188b-c209-4df3-904c-62487038b879",
   "metadata": {},
   "outputs": [
    {
     "name": "stdout",
     "output_type": "stream",
     "text": [
      "[rabbits = 12, chicken = 23]\n"
     ]
    }
   ],
   "source": [
    "solver = z3.Solver()\n",
    "solver.add(chicken >= 1)\n",
    "solver.add(rabbits >= 1)\n",
    "solver.add(chicken + rabbits == 35)\n",
    "solver.add(chicken * 2 + rabbits * 4 == 94)\n",
    "if solver.check() == z3.sat:\n",
    "    print(solver.model())\n",
    "else:\n",
    "    print(\"not satisfiable\")"
   ]
  },
  {
   "cell_type": "code",
   "execution_count": 4,
   "id": "c4d96fe7-cf16-41b6-be38-367843d23532",
   "metadata": {},
   "outputs": [
    {
     "name": "stdout",
     "output_type": "stream",
     "text": [
      "Triangle: 1\n",
      "Circle: 5\n",
      "Square: 2\n"
     ]
    }
   ],
   "source": [
    "# 练习\n",
    "from z3 import Ints, Solver, sat\n",
    "circle, square, triangle = Ints('circle square triangle')\n",
    "s = Solver()\n",
    "s.add(circle + circle == 10)\n",
    "s.add(circle * square + square == 12)\n",
    "s.add(circle * square - triangle * circle == circle)\n",
    "if s.check() == sat:\n",
    "    model = s.model()\n",
    "    print(\"Triangle:\", model[triangle].as_long())\n",
    "    print(\"Circle:\", model[circle].as_long())\n",
    "    print(\"Square:\", model[square].as_long())\n",
    "else:\n",
    "    print(\"not satisfiable\")"
   ]
  },
  {
   "cell_type": "code",
   "execution_count": 5,
   "id": "e098319a-7311-4eba-9d45-1d8e75677de9",
   "metadata": {},
   "outputs": [
    {
     "name": "stdout",
     "output_type": "stream",
     "text": [
      "1\n"
     ]
    }
   ],
   "source": [
    "circle, triangle, square = z3.Ints(\"circle triangle square\")\n",
    "solver = z3.Solver()\n",
    "solver.add(circle + circle == 10)\n",
    "solver.add(circle * square + square == 12)\n",
    "solver.add(circle * square - triangle * circle == circle)\n",
    "if solver.check() == z3.sat:\n",
    "    print(solver.model()[triangle])"
   ]
  },
  {
   "cell_type": "code",
   "execution_count": 6,
   "id": "ae8532cb-cc2b-4a91-b870-0ad05a9e5dab",
   "metadata": {},
   "outputs": [
    {
     "name": "stdout",
     "output_type": "stream",
     "text": [
      "Solution found:\n",
      "Queen 1 is placed in column 6.\n",
      "Queen 2 is placed in column 4.\n",
      "Queen 3 is placed in column 2.\n",
      "Queen 4 is placed in column 8.\n",
      "Queen 5 is placed in column 5.\n",
      "Queen 6 is placed in column 7.\n",
      "Queen 7 is placed in column 1.\n",
      "Queen 8 is placed in column 3.\n"
     ]
    }
   ],
   "source": [
    "# 八皇后问题\n",
    "from z3 import Int, Solver, sat\n",
    "s = Solver()\n",
    "# 为每一行创建一个变量，表示皇后所在的列\n",
    "queens = [Int(f'queen_{i}') for i in range(8)]\n",
    "# 添加约束条件，确保每一行只有一个皇后\n",
    "for i in range(8):\n",
    "    s.add(queens[i] >= 0, queens[i] < 8)  # 皇后在0到7列之间\n",
    "# 添加约束条件，确保没有两个皇后在同一列\n",
    "for i in range(8):\n",
    "    for j in range(i + 1, 8):\n",
    "        s.add(queens[i] != queens[j])\n",
    "# 添加约束条件，确保没有两个皇后在同一对角线上\n",
    "for i in range(8):\n",
    "    for j in range(i + 1, 8):\n",
    "        s.add(queens[i] + i != queens[j] + j)\n",
    "        s.add(queens[i] - i != queens[j] - j)\n",
    "# 检查是否有解\n",
    "if s.check() == sat:\n",
    "    model = s.model()\n",
    "    print(\"Solution found:\")\n",
    "    for i in range(8):\n",
    "        print(f\"Queen {i+1} is placed in column {model[queens[i]].as_long()+1}.\")\n",
    "else:\n",
    "    print(\"No solution found.\")"
   ]
  },
  {
   "cell_type": "code",
   "execution_count": 7,
   "id": "1a925b2d-8e3b-4ea0-b226-df64bde583ea",
   "metadata": {},
   "outputs": [],
   "source": [
    "# Decision problem\n",
    "# Optimization problem\n",
    "# SAT -> MAXSAT"
   ]
  },
  {
   "cell_type": "code",
   "execution_count": 8,
   "id": "b219bcbe-7556-490e-98b6-c01821daa1aa",
   "metadata": {},
   "outputs": [
    {
     "name": "stdout",
     "output_type": "stream",
     "text": [
      "not satisfiable\n"
     ]
    }
   ],
   "source": [
    "A, B, C, D = z3.Bools(\"A B C D\")\n",
    "solver = z3.Solver()\n",
    "# A -> B\n",
    "solver.add(-1 * z3.If(A, 1, 0) + z3.If(B, 1, 0) >=  0)\n",
    "# A -> C\n",
    "solver.add(-1 * z3.If(A, 1, 0) + z3.If(C, 1, 0) >= 0)\n",
    "# B -> D\n",
    "solver.add(-1 * z3.If(B, 1, 0) + z3.If(D, 1, 0) >= 0)\n",
    "# C -x- D\n",
    "solver.add(z3.If(C, 1, 0) + z3.If(D, 1, 0) <= 1)\n",
    "solver.add(A == True)\n",
    "\n",
    "if solver.check() == z3.sat:\n",
    "    print(solver.model())\n",
    "else:\n",
    "    print(\"not satisfiable\")"
   ]
  },
  {
   "cell_type": "code",
   "execution_count": 9,
   "id": "742033a9-a453-4a5f-9e87-53ecf7860fb3",
   "metadata": {},
   "outputs": [
    {
     "name": "stdout",
     "output_type": "stream",
     "text": [
      "No solution found.\n"
     ]
    }
   ],
   "source": [
    "from z3 import Bools, Solver, sat, Implies\n",
    "A, B, C, D = Bools(\"A B C D\")\n",
    "solver = Solver()\n",
    "solver.add(Implies(A, B))\n",
    "solver.add(Implies(A, C))\n",
    "solver.add(Implies(B, D))\n",
    "solver.add(A != C)\n",
    "solver.add(A == True)\n",
    "if solver.check() == sat:\n",
    "    model = solver.model()\n",
    "    print(\"Solution found:\")\n",
    "    print(f\"A = {model[A]}\")\n",
    "    print(f\"B = {model[B]}\")\n",
    "    print(f\"C = {model[C]}\")\n",
    "    print(f\"D = {model[D]}\")\n",
    "else:\n",
    "    print(\"No solution found.\")"
   ]
  },
  {
   "cell_type": "code",
   "execution_count": 10,
   "id": "f6564d69-ba70-4f5e-a1d8-d958fc8c7638",
   "metadata": {},
   "outputs": [
    {
     "name": "stdout",
     "output_type": "stream",
     "text": [
      "not satisfiable\n"
     ]
    }
   ],
   "source": [
    "A, B, C, D = z3.Bools(\"A B C D\")\n",
    "solver = z3.Solver()\n",
    "solver.add(z3.Implies(A, B))\n",
    "solver.add(z3.Implies(A, C))\n",
    "solver.add(z3.Implies(B, D))\n",
    "solver.add(z3.Implies(C, z3.Not(D)))\n",
    "solver.add(A == True)\n",
    "if solver.check() == z3.sat:\n",
    "    print(solver.model())\n",
    "else:\n",
    "    print(\"not satisfiable\")"
   ]
  },
  {
   "cell_type": "code",
   "execution_count": null,
   "id": "c737c991-bc05-4ee4-b7eb-0f1de9d2ca81",
   "metadata": {},
   "outputs": [],
   "source": []
  }
 ],
 "metadata": {
  "kernelspec": {
   "display_name": "Python 3 (ipykernel)",
   "language": "python",
   "name": "python3"
  },
  "language_info": {
   "codemirror_mode": {
    "name": "ipython",
    "version": 3
   },
   "file_extension": ".py",
   "mimetype": "text/x-python",
   "name": "python",
   "nbconvert_exporter": "python",
   "pygments_lexer": "ipython3",
   "version": "3.12.4"
  }
 },
 "nbformat": 4,
 "nbformat_minor": 5
}

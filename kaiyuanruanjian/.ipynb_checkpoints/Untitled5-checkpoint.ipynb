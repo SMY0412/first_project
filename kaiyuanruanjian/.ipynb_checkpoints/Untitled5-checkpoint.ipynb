{
 "cells": [
  {
   "cell_type": "code",
   "execution_count": 1,
   "id": "2dffbafc-ce9a-40b2-bf31-8fba19e3335c",
   "metadata": {},
   "outputs": [],
   "source": [
    "import sqlite3"
   ]
  },
  {
   "cell_type": "code",
   "execution_count": 2,
   "id": "02e86eac-5a64-41a0-8cd0-64c67bd02443",
   "metadata": {},
   "outputs": [
    {
     "data": {
      "text/plain": [
       "<sqlite3.Cursor at 0x2230e10a6c0>"
      ]
     },
     "execution_count": 2,
     "metadata": {},
     "output_type": "execute_result"
    }
   ],
   "source": [
    "con = sqlite3.connect(\"students.db\")\n",
    "con.execute(\"create table students (id int, name text, age int)\")\n",
    "con.execute(\"insert into students values (123, 'zhangsan', 18)\")\n",
    "con.execute(\"insert into students values (124, 'lisi', 19)\")"
   ]
  },
  {
   "cell_type": "code",
   "execution_count": 3,
   "id": "e6e8b711-71c4-4811-b7bd-eeb716cd20b5",
   "metadata": {},
   "outputs": [],
   "source": [
    "def check(con, name):\n",
    "    sql = f\"select * from students where name = '{name}'\"\n",
    "    cursor = con.execute(sql)\n",
    "    for entry in cursor:\n",
    "        print(entry)"
   ]
  },
  {
   "cell_type": "code",
   "execution_count": 4,
   "id": "ed134f17-4ff9-4f74-a5c1-43489ae140d2",
   "metadata": {},
   "outputs": [
    {
     "name": "stdout",
     "output_type": "stream",
     "text": [
      "(123, 'zhangsan', 18)\n"
     ]
    }
   ],
   "source": [
    "check(con, \"zhangsan\")"
   ]
  },
  {
   "cell_type": "code",
   "execution_count": 5,
   "id": "32274a99-c564-42c9-9663-c8eed228636e",
   "metadata": {},
   "outputs": [
    {
     "name": "stdout",
     "output_type": "stream",
     "text": [
      "(124, 'lisi', 19)\n"
     ]
    }
   ],
   "source": [
    "check(con, \"lisi\")"
   ]
  },
  {
   "cell_type": "code",
   "execution_count": 6,
   "id": "bbbe825f-9dba-4500-a1a2-1e7bbf4d4cbe",
   "metadata": {},
   "outputs": [],
   "source": [
    "check(con, \"wangwu\")"
   ]
  },
  {
   "cell_type": "code",
   "execution_count": 7,
   "id": "586d212b-fadf-46f6-9add-2e0c41c32880",
   "metadata": {},
   "outputs": [
    {
     "ename": "OperationalError",
     "evalue": "unrecognized token: \"'wangwu''\"",
     "output_type": "error",
     "traceback": [
      "\u001b[1;31m---------------------------------------------------------------------------\u001b[0m",
      "\u001b[1;31mOperationalError\u001b[0m                          Traceback (most recent call last)",
      "Cell \u001b[1;32mIn[7], line 1\u001b[0m\n\u001b[1;32m----> 1\u001b[0m \u001b[43mcheck\u001b[49m\u001b[43m(\u001b[49m\u001b[43mcon\u001b[49m\u001b[43m,\u001b[49m\u001b[43m \u001b[49m\u001b[38;5;124;43m\"\u001b[39;49m\u001b[38;5;124;43mwangwu\u001b[39;49m\u001b[38;5;124;43m'\u001b[39;49m\u001b[38;5;124;43m\"\u001b[39;49m\u001b[43m)\u001b[49m\n",
      "Cell \u001b[1;32mIn[3], line 3\u001b[0m, in \u001b[0;36mcheck\u001b[1;34m(con, name)\u001b[0m\n\u001b[0;32m      1\u001b[0m \u001b[38;5;28;01mdef\u001b[39;00m \u001b[38;5;21mcheck\u001b[39m(con, name):\n\u001b[0;32m      2\u001b[0m     sql \u001b[38;5;241m=\u001b[39m \u001b[38;5;124mf\u001b[39m\u001b[38;5;124m\"\u001b[39m\u001b[38;5;124mselect * from students where name = \u001b[39m\u001b[38;5;124m'\u001b[39m\u001b[38;5;132;01m{\u001b[39;00mname\u001b[38;5;132;01m}\u001b[39;00m\u001b[38;5;124m'\u001b[39m\u001b[38;5;124m\"\u001b[39m\n\u001b[1;32m----> 3\u001b[0m     cursor \u001b[38;5;241m=\u001b[39m \u001b[43mcon\u001b[49m\u001b[38;5;241;43m.\u001b[39;49m\u001b[43mexecute\u001b[49m\u001b[43m(\u001b[49m\u001b[43msql\u001b[49m\u001b[43m)\u001b[49m\n\u001b[0;32m      4\u001b[0m     \u001b[38;5;28;01mfor\u001b[39;00m entry \u001b[38;5;129;01min\u001b[39;00m cursor:\n\u001b[0;32m      5\u001b[0m         \u001b[38;5;28mprint\u001b[39m(entry)\n",
      "\u001b[1;31mOperationalError\u001b[0m: unrecognized token: \"'wangwu''\""
     ]
    }
   ],
   "source": [
    "check(con, \"wangwu'\")"
   ]
  },
  {
   "cell_type": "code",
   "execution_count": 8,
   "id": "48ee2a7c-2340-41be-ad57-31addaad81e5",
   "metadata": {},
   "outputs": [],
   "source": [
    "def check(con, name):\n",
    "    sql = f\"select * from students where name = '{name}'\"\n",
    "    print(sql)\n",
    "    cursor = con.execute(sql)\n",
    "    for entry in cursor:\n",
    "        print(entry)"
   ]
  },
  {
   "cell_type": "code",
   "execution_count": 9,
   "id": "39736169-e56e-420e-ac05-5dab903e597b",
   "metadata": {},
   "outputs": [
    {
     "name": "stdout",
     "output_type": "stream",
     "text": [
      "select * from students where name = 'wangwu'--'\n"
     ]
    }
   ],
   "source": [
    "check(con, \"wangwu'--\")"
   ]
  },
  {
   "cell_type": "code",
   "execution_count": 10,
   "id": "b2dc2085-7867-4a56-9a7b-bf23f4c2d1a1",
   "metadata": {},
   "outputs": [
    {
     "name": "stdout",
     "output_type": "stream",
     "text": [
      "select * from students where name = 'wangwu' or TRUE --'\n",
      "(123, 'zhangsan', 18)\n",
      "(124, 'lisi', 19)\n"
     ]
    }
   ],
   "source": [
    "check(con, \"wangwu' or TRUE --\")"
   ]
  },
  {
   "cell_type": "code",
   "execution_count": 11,
   "id": "1162a78d-5887-4a44-a092-57338372e5d9",
   "metadata": {},
   "outputs": [],
   "source": [
    "def check2(con, name):\n",
    "    sql = \"select * from students where name = ?\"\n",
    "    cursor = con.execute(sql, (name,))\n",
    "    for entry in cursor:\n",
    "        print(entry)"
   ]
  },
  {
   "cell_type": "code",
   "execution_count": 12,
   "id": "537d6eac-4858-477f-b175-ddb97adc6392",
   "metadata": {},
   "outputs": [
    {
     "name": "stdout",
     "output_type": "stream",
     "text": [
      "(123, 'zhangsan', 18)\n"
     ]
    }
   ],
   "source": [
    "check2(con, \"zhangsan\")"
   ]
  },
  {
   "cell_type": "code",
   "execution_count": 13,
   "id": "a752c144-c243-46ac-aa51-355b66e6607e",
   "metadata": {},
   "outputs": [],
   "source": [
    "check2(con, \"wangwu' or TRUE --\")"
   ]
  },
  {
   "cell_type": "code",
   "execution_count": 14,
   "id": "db2a985f-5565-4ef9-9933-6b955f0ebd23",
   "metadata": {},
   "outputs": [],
   "source": [
    "data = [\n",
    "    (125, \"wangwu\", 20),\n",
    "    (126, \"zhouliu\", 19),\n",
    "    (127, \"qiqi\", 23),\n",
    "]"
   ]
  },
  {
   "cell_type": "code",
   "execution_count": 15,
   "id": "d7e69165-4ca1-4e24-a162-fb561c8b0038",
   "metadata": {},
   "outputs": [
    {
     "data": {
      "text/plain": [
       "<sqlite3.Cursor at 0x2230e1d49c0>"
      ]
     },
     "execution_count": 15,
     "metadata": {},
     "output_type": "execute_result"
    }
   ],
   "source": [
    "con.executemany(\"insert into students values (?, ?, ?)\", data)"
   ]
  },
  {
   "cell_type": "code",
   "execution_count": 16,
   "id": "79cc4394-2335-447c-b54e-a098b8b519be",
   "metadata": {},
   "outputs": [],
   "source": [
    "import pickle"
   ]
  },
  {
   "cell_type": "code",
   "execution_count": 18,
   "id": "d83c211f-33ec-48c5-9705-b63c8ce8251c",
   "metadata": {},
   "outputs": [],
   "source": [
    "student = {\"name\": \"zahngsan\", \"age\": 19}\n",
    "with open(\"student.p\", \"wb\") as f:\n",
    "    pickle.dump(student, f)"
   ]
  },
  {
   "cell_type": "code",
   "execution_count": 19,
   "id": "88002bdb-5682-417d-bc20-99d4747de71e",
   "metadata": {},
   "outputs": [],
   "source": [
    "with open(\"student.p\", \"rb\") as f:\n",
    "    loaded = pickle.load(f)"
   ]
  },
  {
   "cell_type": "code",
   "execution_count": 20,
   "id": "00df53ed-fd37-425a-900b-400b75b0ddac",
   "metadata": {},
   "outputs": [
    {
     "data": {
      "text/plain": [
       "{'name': 'zahngsan', 'age': 19}"
      ]
     },
     "execution_count": 20,
     "metadata": {},
     "output_type": "execute_result"
    }
   ],
   "source": [
    "loaded"
   ]
  },
  {
   "cell_type": "code",
   "execution_count": 21,
   "id": "86e628f6-1957-4b83-b861-ecf71a19d683",
   "metadata": {},
   "outputs": [],
   "source": [
    "dumped = pickle.dumps(student)"
   ]
  },
  {
   "cell_type": "code",
   "execution_count": 22,
   "id": "d693b12d-46cd-4a66-aff6-9adc15930107",
   "metadata": {},
   "outputs": [
    {
     "data": {
      "text/plain": [
       "b'\\x80\\x04\\x95\\x1f\\x00\\x00\\x00\\x00\\x00\\x00\\x00}\\x94(\\x8c\\x04name\\x94\\x8c\\x08zahngsan\\x94\\x8c\\x03age\\x94K\\x13u.'"
      ]
     },
     "execution_count": 22,
     "metadata": {},
     "output_type": "execute_result"
    }
   ],
   "source": [
    "dumped"
   ]
  },
  {
   "cell_type": "code",
   "execution_count": 23,
   "id": "14ca46d3-82ff-4709-b8f5-c9f41877c301",
   "metadata": {},
   "outputs": [],
   "source": [
    "load_from_bytes = pickle.loads(dumped)"
   ]
  },
  {
   "cell_type": "code",
   "execution_count": 24,
   "id": "1f74abf2-22b7-4e1b-a794-6c2719425486",
   "metadata": {},
   "outputs": [
    {
     "data": {
      "text/plain": [
       "{'name': 'zahngsan', 'age': 19}"
      ]
     },
     "execution_count": 24,
     "metadata": {},
     "output_type": "execute_result"
    }
   ],
   "source": [
    "load_from_bytes"
   ]
  },
  {
   "cell_type": "code",
   "execution_count": null,
   "id": "3ffd5f3a-625e-49fd-84b8-30448630e45f",
   "metadata": {},
   "outputs": [],
   "source": [
    " "
   ]
  }
 ],
 "metadata": {
  "kernelspec": {
   "display_name": "Python 3 (ipykernel)",
   "language": "python",
   "name": "python3"
  },
  "language_info": {
   "codemirror_mode": {
    "name": "ipython",
    "version": 3
   },
   "file_extension": ".py",
   "mimetype": "text/x-python",
   "name": "python",
   "nbconvert_exporter": "python",
   "pygments_lexer": "ipython3",
   "version": "3.12.4"
  }
 },
 "nbformat": 4,
 "nbformat_minor": 5
}

{
 "cells": [
  {
   "cell_type": "code",
   "execution_count": 1,
   "id": "60c9544b-1bd8-4578-b591-1ce87b0643b7",
   "metadata": {},
   "outputs": [],
   "source": [
    "def outer(func):\n",
    "    def inner():\n",
    "        func()\n",
    "    return inner"
   ]
  },
  {
   "cell_type": "code",
   "execution_count": 2,
   "id": "5fd648f2-ff3d-4505-86ef-a17467794beb",
   "metadata": {},
   "outputs": [],
   "source": [
    "def foo():\n",
    "    print('in foo()')"
   ]
  },
  {
   "cell_type": "code",
   "execution_count": 3,
   "id": "b9068b6e-7b3a-4738-b74c-6054900e4ea1",
   "metadata": {},
   "outputs": [
    {
     "name": "stdout",
     "output_type": "stream",
     "text": [
      "in foo()\n"
     ]
    }
   ],
   "source": [
    "bar = outer(foo)\n",
    "bar()"
   ]
  },
  {
   "cell_type": "code",
   "execution_count": 4,
   "id": "1b8fb8cc-7e1d-4353-a8fe-11a68a1943b5",
   "metadata": {},
   "outputs": [],
   "source": [
    "def outer(func):\n",
    "    def inner():\n",
    "        print('before func')\n",
    "        func()\n",
    "        print('after func')\n",
    "    return inner"
   ]
  },
  {
   "cell_type": "code",
   "execution_count": 5,
   "id": "498552d1-a0ba-4ea3-8dee-73a47f0592f6",
   "metadata": {},
   "outputs": [
    {
     "name": "stdout",
     "output_type": "stream",
     "text": [
      "before func\n",
      "in foo()\n",
      "after func\n"
     ]
    }
   ],
   "source": [
    "bar = outer(foo)\n",
    "bar()"
   ]
  },
  {
   "cell_type": "code",
   "execution_count": 6,
   "id": "6e9940f9-ad9f-46cd-a23b-cf4f5cec3fa6",
   "metadata": {},
   "outputs": [],
   "source": [
    "@outer\n",
    "def foo():\n",
    "    print('in foo()')"
   ]
  },
  {
   "cell_type": "code",
   "execution_count": 7,
   "id": "5caafc5e-62f5-449a-9ea5-02d1e515040f",
   "metadata": {},
   "outputs": [
    {
     "name": "stdout",
     "output_type": "stream",
     "text": [
      "before func\n",
      "in foo()\n",
      "after func\n"
     ]
    }
   ],
   "source": [
    "foo()"
   ]
  },
  {
   "cell_type": "code",
   "execution_count": 8,
   "id": "a0e63579-08a4-4a9d-a975-09bbf67a8c32",
   "metadata": {},
   "outputs": [],
   "source": [
    "import time\n",
    "def outer(func):\n",
    "    def inner():\n",
    "        begin = time.time()\n",
    "        func()\n",
    "        end = time.time()\n",
    "        print(f\"time: {end - begin}\")\n",
    "    return inner"
   ]
  },
  {
   "cell_type": "code",
   "execution_count": 9,
   "id": "9d560aeb-06c2-449a-9a51-ce4333c2510c",
   "metadata": {},
   "outputs": [],
   "source": [
    "@outer\n",
    "def foo():\n",
    "    time.sleep(2)\n",
    "    print('in foo()')"
   ]
  },
  {
   "cell_type": "code",
   "execution_count": 10,
   "id": "c7cac17d-84c3-4ce4-ab9b-8f0bc986c8fd",
   "metadata": {},
   "outputs": [
    {
     "name": "stdout",
     "output_type": "stream",
     "text": [
      "in foo()\n",
      "time: 2.000565767288208\n"
     ]
    }
   ],
   "source": [
    "foo()"
   ]
  },
  {
   "cell_type": "code",
   "execution_count": 11,
   "id": "36fd1892-f2c3-43fb-a0d4-b8722d5a46f5",
   "metadata": {},
   "outputs": [],
   "source": [
    "@outer\n",
    "def foo():\n",
    "    time.sleep(2)\n",
    "    print('in foo()')\n",
    "    return 0"
   ]
  },
  {
   "cell_type": "code",
   "execution_count": 12,
   "id": "78a6c132-109a-4964-aa5b-01dd33bee413",
   "metadata": {},
   "outputs": [
    {
     "name": "stdout",
     "output_type": "stream",
     "text": [
      "in foo()\n",
      "time: 2.0005581378936768\n",
      "None\n"
     ]
    }
   ],
   "source": [
    "ret = foo()\n",
    "print(ret)"
   ]
  },
  {
   "cell_type": "code",
   "execution_count": 13,
   "id": "bd534a76-00dc-45d4-a3ce-d8a2541c1485",
   "metadata": {},
   "outputs": [],
   "source": [
    "import time\n",
    "def outer(func):\n",
    "    def inner():\n",
    "        begin = time.time()\n",
    "        ret = func()\n",
    "        end = time.time()\n",
    "        print(f\"time: {end - begin}\")\n",
    "        # 默认为return None\n",
    "        return ret\n",
    "    return inner"
   ]
  },
  {
   "cell_type": "code",
   "execution_count": 14,
   "id": "5ebe6d8a-7020-456b-ac29-7272ab4431ef",
   "metadata": {},
   "outputs": [
    {
     "name": "stdout",
     "output_type": "stream",
     "text": [
      "in foo()\n",
      "time: 2.0009803771972656\n",
      "0\n"
     ]
    }
   ],
   "source": [
    "@outer\n",
    "def foo():\n",
    "    time.sleep(2)\n",
    "    print('in foo()')\n",
    "    return 0\n",
    "\n",
    "ret = foo()\n",
    "print(ret)  # 这里应该打印出 0"
   ]
  },
  {
   "cell_type": "code",
   "execution_count": null,
   "id": "bd3f4576-2b23-4b11-ae0b-e193c95fb001",
   "metadata": {},
   "outputs": [],
   "source": []
  }
 ],
 "metadata": {
  "kernelspec": {
   "display_name": "Python 3 (ipykernel)",
   "language": "python",
   "name": "python3"
  },
  "language_info": {
   "codemirror_mode": {
    "name": "ipython",
    "version": 3
   },
   "file_extension": ".py",
   "mimetype": "text/x-python",
   "name": "python",
   "nbconvert_exporter": "python",
   "pygments_lexer": "ipython3",
   "version": "3.12.4"
  }
 },
 "nbformat": 4,
 "nbformat_minor": 5
}

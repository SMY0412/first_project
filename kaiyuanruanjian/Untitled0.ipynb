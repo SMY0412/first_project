{
 "cells": [
  {
   "cell_type": "code",
   "execution_count": 1,
   "id": "74b6a926-4f6d-491f-bd8a-92a0a7c0109e",
   "metadata": {},
   "outputs": [],
   "source": [
    "a = 1"
   ]
  },
  {
   "cell_type": "code",
   "execution_count": 2,
   "id": "2a3b9886-3692-4963-91eb-33ee1f01108b",
   "metadata": {},
   "outputs": [
    {
     "data": {
      "text/plain": [
       "1"
      ]
     },
     "execution_count": 2,
     "metadata": {},
     "output_type": "execute_result"
    }
   ],
   "source": [
    "a"
   ]
  },
  {
   "cell_type": "code",
   "execution_count": 3,
   "id": "ae4fef25-5187-409f-b36b-c199911ddb60",
   "metadata": {},
   "outputs": [
    {
     "data": {
      "text/plain": [
       "1"
      ]
     },
     "execution_count": 3,
     "metadata": {},
     "output_type": "execute_result"
    }
   ],
   "source": [
    "_"
   ]
  },
  {
   "cell_type": "code",
   "execution_count": 4,
   "id": "7465cccc-21fe-4fd2-a2d7-a7d9eb58bd6a",
   "metadata": {},
   "outputs": [
    {
     "ename": "NameError",
     "evalue": "name 'b' is not defined",
     "output_type": "error",
     "traceback": [
      "\u001b[1;31m---------------------------------------------------------------------------\u001b[0m",
      "\u001b[1;31mNameError\u001b[0m                                 Traceback (most recent call last)",
      "Cell \u001b[1;32mIn[4], line 1\u001b[0m\n\u001b[1;32m----> 1\u001b[0m \u001b[43mb\u001b[49m\n",
      "\u001b[1;31mNameError\u001b[0m: name 'b' is not defined"
     ]
    }
   ],
   "source": [
    "b"
   ]
  },
  {
   "cell_type": "code",
   "execution_count": 5,
   "id": "4b2f2713-c44f-4362-a4f4-37bcb7601b0b",
   "metadata": {},
   "outputs": [],
   "source": [
    "你好 = 1"
   ]
  },
  {
   "cell_type": "code",
   "execution_count": 6,
   "id": "afb1d74e-ffb0-439c-b9e7-9a8993264c6c",
   "metadata": {},
   "outputs": [],
   "source": [
    "世界 = 2"
   ]
  },
  {
   "cell_type": "code",
   "execution_count": 7,
   "id": "ebcf367a-4618-41a9-b404-43e6a1abb411",
   "metadata": {},
   "outputs": [
    {
     "data": {
      "text/plain": [
       "3"
      ]
     },
     "execution_count": 7,
     "metadata": {},
     "output_type": "execute_result"
    }
   ],
   "source": [
    "你好 + 世界"
   ]
  },
  {
   "cell_type": "code",
   "execution_count": 8,
   "id": "e98eed74-dda0-4141-80b2-c86d9bfffe0f",
   "metadata": {},
   "outputs": [
    {
     "data": {
      "text/plain": [
       "6.5"
      ]
     },
     "execution_count": 8,
     "metadata": {},
     "output_type": "execute_result"
    }
   ],
   "source": [
    "5 + 3 / 2"
   ]
  },
  {
   "cell_type": "code",
   "execution_count": 11,
   "id": "05146a11-f59f-4297-83a9-fde12d327f51",
   "metadata": {},
   "outputs": [
    {
     "data": {
      "text/plain": [
       "1.6"
      ]
     },
     "execution_count": 11,
     "metadata": {},
     "output_type": "execute_result"
    }
   ],
   "source": [
    "8 / 5"
   ]
  },
  {
   "cell_type": "code",
   "execution_count": 10,
   "id": "e216c6a5-1c1b-437b-9ac0-4deac13234b6",
   "metadata": {},
   "outputs": [
    {
     "data": {
      "text/plain": [
       "14"
      ]
     },
     "execution_count": 10,
     "metadata": {},
     "output_type": "execute_result"
    }
   ],
   "source": [
    "2 * 7"
   ]
  },
  {
   "cell_type": "code",
   "execution_count": 12,
   "id": "8ab3c837-5efc-4e4c-b927-2a2eda9df801",
   "metadata": {},
   "outputs": [
    {
     "data": {
      "text/plain": [
       "1"
      ]
     },
     "execution_count": 12,
     "metadata": {},
     "output_type": "execute_result"
    }
   ],
   "source": [
    "8 // 5"
   ]
  },
  {
   "cell_type": "code",
   "execution_count": 13,
   "id": "9a372814-aa20-425c-a277-ad1e86ca323e",
   "metadata": {},
   "outputs": [
    {
     "data": {
      "text/plain": [
       "128"
      ]
     },
     "execution_count": 13,
     "metadata": {},
     "output_type": "execute_result"
    }
   ],
   "source": [
    "2 ** 7"
   ]
  },
  {
   "cell_type": "code",
   "execution_count": 14,
   "id": "539c90aa-6e91-4c58-a42f-c2f98a30c6e2",
   "metadata": {},
   "outputs": [
    {
     "data": {
      "text/plain": [
       "'hello'"
      ]
     },
     "execution_count": 14,
     "metadata": {},
     "output_type": "execute_result"
    }
   ],
   "source": [
    "\"hello\""
   ]
  },
  {
   "cell_type": "code",
   "execution_count": 15,
   "id": "18587774-65fa-4c37-907a-4e5f08154862",
   "metadata": {},
   "outputs": [
    {
     "data": {
      "text/plain": [
       "'hello'"
      ]
     },
     "execution_count": 15,
     "metadata": {},
     "output_type": "execute_result"
    }
   ],
   "source": [
    "'hello'"
   ]
  },
  {
   "cell_type": "code",
   "execution_count": 16,
   "id": "8d3568c9-75b9-44ea-93c2-d1d63b7e2ea9",
   "metadata": {},
   "outputs": [
    {
     "data": {
      "text/plain": [
       "\"hello's\""
      ]
     },
     "execution_count": 16,
     "metadata": {},
     "output_type": "execute_result"
    }
   ],
   "source": [
    "\"hello's\""
   ]
  },
  {
   "cell_type": "code",
   "execution_count": 17,
   "id": "886bbec3-5f52-4d00-bce6-6664ad3b6660",
   "metadata": {},
   "outputs": [
    {
     "data": {
      "text/plain": [
       "\"hello's\""
      ]
     },
     "execution_count": 17,
     "metadata": {},
     "output_type": "execute_result"
    }
   ],
   "source": [
    "'hello\\'s'"
   ]
  },
  {
   "cell_type": "code",
   "execution_count": 18,
   "id": "cb9fcca5-317f-4ece-a16a-ba3f92d25a98",
   "metadata": {},
   "outputs": [
    {
     "name": "stdout",
     "output_type": "stream",
     "text": [
      "a\n",
      "b\n"
     ]
    }
   ],
   "source": [
    "print(\"a\\nb\")"
   ]
  },
  {
   "cell_type": "code",
   "execution_count": 19,
   "id": "482cd965-082c-4253-9958-b58cd4d83e46",
   "metadata": {},
   "outputs": [
    {
     "name": "stdout",
     "output_type": "stream",
     "text": [
      "a\n",
      "b\n"
     ]
    }
   ],
   "source": [
    "print('a\\nb')"
   ]
  },
  {
   "cell_type": "code",
   "execution_count": 20,
   "id": "bbc968c3-3ff8-422a-a28d-3bd2d1b0643a",
   "metadata": {},
   "outputs": [
    {
     "name": "stdout",
     "output_type": "stream",
     "text": [
      "a\\nb\n"
     ]
    }
   ],
   "source": [
    "print(r\"a\\nb\")"
   ]
  },
  {
   "cell_type": "code",
   "execution_count": 21,
   "id": "d9f1c5fd-dd0b-486e-ba34-e56bb51f5d63",
   "metadata": {},
   "outputs": [
    {
     "name": "stdout",
     "output_type": "stream",
     "text": [
      "a\\nb\n"
     ]
    }
   ],
   "source": [
    "print(\"a\\\\nb\")"
   ]
  },
  {
   "cell_type": "code",
   "execution_count": 22,
   "id": "b4e89b89-fc6c-4bd0-b28b-80964686c637",
   "metadata": {},
   "outputs": [
    {
     "data": {
      "text/plain": [
       "'hello world'"
      ]
     },
     "execution_count": 22,
     "metadata": {},
     "output_type": "execute_result"
    }
   ],
   "source": [
    "\"hello\" \" \" \"world\""
   ]
  },
  {
   "cell_type": "code",
   "execution_count": 23,
   "id": "434426ff-34ac-4cb3-af46-7169c13aa093",
   "metadata": {},
   "outputs": [],
   "source": [
    "a = \"hello\""
   ]
  },
  {
   "cell_type": "code",
   "execution_count": 24,
   "id": "9a455050-e81e-4e27-b5d0-d665207d3e3e",
   "metadata": {},
   "outputs": [
    {
     "ename": "SyntaxError",
     "evalue": "invalid syntax (376305997.py, line 1)",
     "output_type": "error",
     "traceback": [
      "\u001b[1;36m  Cell \u001b[1;32mIn[24], line 1\u001b[1;36m\u001b[0m\n\u001b[1;33m    a \"world\"\u001b[0m\n\u001b[1;37m      ^\u001b[0m\n\u001b[1;31mSyntaxError\u001b[0m\u001b[1;31m:\u001b[0m invalid syntax\n"
     ]
    }
   ],
   "source": [
    "a \"world\""
   ]
  },
  {
   "cell_type": "code",
   "execution_count": 25,
   "id": "39f1dc84-e25b-4161-8e9b-6836dad9497b",
   "metadata": {},
   "outputs": [],
   "source": [
    "a = \"hello\"\n",
    "b = f\"{a} world\""
   ]
  },
  {
   "cell_type": "code",
   "execution_count": 26,
   "id": "176ab918-227f-4b9c-990e-3ba55073739c",
   "metadata": {},
   "outputs": [
    {
     "data": {
      "text/plain": [
       "'hello world'"
      ]
     },
     "execution_count": 26,
     "metadata": {},
     "output_type": "execute_result"
    }
   ],
   "source": [
    "b"
   ]
  },
  {
   "cell_type": "code",
   "execution_count": 1,
   "id": "5a55550f-7bf6-4215-9f82-f75172feaa3e",
   "metadata": {},
   "outputs": [
    {
     "name": "stdout",
     "output_type": "stream",
     "text": [
      "HelloWorld!\n"
     ]
    }
   ],
   "source": [
    "str_list = [\"Hello\", \"World\", \"!\"]\n",
    "result = \"\".join(str_list)\n",
    "print(result)"
   ]
  },
  {
   "cell_type": "code",
   "execution_count": 2,
   "id": "035c5cd2-8b2c-4415-8bd4-91d71a63b24a",
   "metadata": {},
   "outputs": [
    {
     "name": "stdout",
     "output_type": "stream",
     "text": [
      "HELLO\n"
     ]
    }
   ],
   "source": [
    "s = \"hello\"\n",
    "print(s.upper())"
   ]
  },
  {
   "cell_type": "code",
   "execution_count": 3,
   "id": "d60e2a1b-4c9f-4c6c-83a3-8608812b520c",
   "metadata": {},
   "outputs": [
    {
     "name": "stdout",
     "output_type": "stream",
     "text": [
      "hello\n"
     ]
    }
   ],
   "source": [
    "s = \"HELLO\"\n",
    "print(s.lower())"
   ]
  },
  {
   "cell_type": "code",
   "execution_count": 4,
   "id": "2e48fb08-33a1-4772-a3e6-52792261f6a5",
   "metadata": {},
   "outputs": [
    {
     "name": "stdout",
     "output_type": "stream",
     "text": [
      "Hello\n"
     ]
    }
   ],
   "source": [
    "s = \"hello\"\n",
    "print(s.capitalize())"
   ]
  },
  {
   "cell_type": "code",
   "execution_count": 5,
   "id": "ba6d7360-1edb-4e41-be7f-08058fc59d93",
   "metadata": {},
   "outputs": [
    {
     "name": "stdout",
     "output_type": "stream",
     "text": [
      "Hello World\n"
     ]
    }
   ],
   "source": [
    "s = \"hello world\"\n",
    "print(s.title())"
   ]
  },
  {
   "cell_type": "code",
   "execution_count": 6,
   "id": "15028fdc-3388-4a69-8237-7827d6cd53c6",
   "metadata": {},
   "outputs": [
    {
     "name": "stdout",
     "output_type": "stream",
     "text": [
      "8\n"
     ]
    }
   ],
   "source": [
    "lis = [5, 3, 8, 2]\n",
    "print(max(lis))"
   ]
  },
  {
   "cell_type": "code",
   "execution_count": 7,
   "id": "bb33546d-348f-43c4-8ca0-9c87493c6652",
   "metadata": {},
   "outputs": [
    {
     "name": "stdout",
     "output_type": "stream",
     "text": [
      "2\n"
     ]
    }
   ],
   "source": [
    "lis = [5, 3, 8, 2]\n",
    "print(min(lis))"
   ]
  },
  {
   "cell_type": "code",
   "execution_count": 8,
   "id": "269c9fa3-6c79-4b3b-ba3b-650aa9b20d2a",
   "metadata": {},
   "outputs": [
    {
     "name": "stdout",
     "output_type": "stream",
     "text": [
      "2\n"
     ]
    }
   ],
   "source": [
    "s = {1:2,5:3}\n",
    "print(len(s))"
   ]
  },
  {
   "cell_type": "code",
   "execution_count": 9,
   "id": "7a8f0bec-ff78-4531-aeb0-df66d74b72be",
   "metadata": {},
   "outputs": [
    {
     "ename": "TypeError",
     "evalue": "'type' object is not iterable",
     "output_type": "error",
     "traceback": [
      "\u001b[1;31m---------------------------------------------------------------------------\u001b[0m",
      "\u001b[1;31mTypeError\u001b[0m                                 Traceback (most recent call last)",
      "Cell \u001b[1;32mIn[9], line 1\u001b[0m\n\u001b[1;32m----> 1\u001b[0m \u001b[38;5;28;43;01mfor\u001b[39;49;00m\u001b[43m \u001b[49m\u001b[43mi\u001b[49m\u001b[43m \u001b[49m\u001b[38;5;129;43;01min\u001b[39;49;00m\u001b[43m \u001b[49m\u001b[38;5;28;43mrange\u001b[39;49m\u001b[43m:\u001b[49m\n\u001b[0;32m      2\u001b[0m \u001b[43m    \u001b[49m\u001b[38;5;28;43mprint\u001b[39;49m\u001b[43m(\u001b[49m\u001b[43mi\u001b[49m\u001b[43m)\u001b[49m\n",
      "\u001b[1;31mTypeError\u001b[0m: 'type' object is not iterable"
     ]
    }
   ],
   "source": [
    "for i in range:\n",
    "    print(i)"
   ]
  },
  {
   "cell_type": "code",
   "execution_count": 10,
   "id": "4e953483-a8f6-4f2b-8e76-1bdd9bac2a95",
   "metadata": {},
   "outputs": [
    {
     "name": "stdout",
     "output_type": "stream",
     "text": [
      "0\n",
      "1\n",
      "2\n",
      "3\n",
      "4\n",
      "5\n",
      "6\n",
      "7\n",
      "8\n",
      "9\n"
     ]
    }
   ],
   "source": [
    "for i in range(10):\n",
    "    print(i)"
   ]
  },
  {
   "cell_type": "code",
   "execution_count": 11,
   "id": "1556face-f38e-41ad-8fee-bec105349807",
   "metadata": {},
   "outputs": [
    {
     "name": "stdout",
     "output_type": "stream",
     "text": [
      "H\n",
      "e\n",
      "l\n",
      "l\n",
      "o\n",
      ",\n",
      " \n",
      "W\n",
      "o\n",
      "r\n",
      "l\n",
      "d\n",
      "!\n"
     ]
    }
   ],
   "source": [
    "s = \"Hello, World!\"\n",
    "for char in s:\n",
    "    print(char)"
   ]
  },
  {
   "cell_type": "code",
   "execution_count": 12,
   "id": "eb7e2bde-52bf-4202-bad2-e57deabecf86",
   "metadata": {},
   "outputs": [
    {
     "name": "stdout",
     "output_type": "stream",
     "text": [
      "1\n",
      "2\n",
      "3\n",
      "4\n",
      "5\n"
     ]
    }
   ],
   "source": [
    "l = [1, 2, 3, 4, 5]\n",
    "for item in l:\n",
    "    print(item)"
   ]
  },
  {
   "cell_type": "code",
   "execution_count": 13,
   "id": "59ab5ab0-4134-4ef3-b411-6fb5fdfc03f6",
   "metadata": {},
   "outputs": [
    {
     "name": "stdout",
     "output_type": "stream",
     "text": [
      "10\n",
      "9\n",
      "8\n",
      "7\n",
      "6\n",
      "5\n",
      "4\n",
      "3\n",
      "2\n",
      "1\n",
      "0\n"
     ]
    }
   ],
   "source": [
    "i = 10\n",
    "while i >= 0:\n",
    "    print(i)\n",
    "    i -= 1"
   ]
  },
  {
   "cell_type": "code",
   "execution_count": 14,
   "id": "2e3b6803-0bc4-4444-87da-bf6562b1d822",
   "metadata": {},
   "outputs": [],
   "source": [
    "def foo():\n",
    "    print(\"hello world\")"
   ]
  },
  {
   "cell_type": "code",
   "execution_count": 15,
   "id": "8b80bf43-2577-44e0-8db8-a69cb16694b6",
   "metadata": {},
   "outputs": [
    {
     "name": "stdout",
     "output_type": "stream",
     "text": [
      "hello world\n"
     ]
    }
   ],
   "source": [
    "a = foo()"
   ]
  },
  {
   "cell_type": "code",
   "execution_count": 16,
   "id": "9ce8b4ea-350d-4078-89f9-d4984c17204c",
   "metadata": {},
   "outputs": [],
   "source": [
    "a"
   ]
  },
  {
   "cell_type": "code",
   "execution_count": 17,
   "id": "6c584ede-5c82-46f7-88f2-855e4d44cd9b",
   "metadata": {},
   "outputs": [],
   "source": [
    "def 你好(名字):\n",
    "    print(f\"你好，{名字}\")"
   ]
  },
  {
   "cell_type": "code",
   "execution_count": 18,
   "id": "e7db5952-ba15-47ef-83ab-b4b030c456cd",
   "metadata": {},
   "outputs": [
    {
     "name": "stdout",
     "output_type": "stream",
     "text": [
      "你好，张三\n"
     ]
    }
   ],
   "source": [
    "你好(\"张三\")"
   ]
  },
  {
   "cell_type": "code",
   "execution_count": 19,
   "id": "144542d0-26bf-4a4f-9c89-ec9015bed281",
   "metadata": {},
   "outputs": [],
   "source": [
    "import turtle"
   ]
  },
  {
   "cell_type": "code",
   "execution_count": 20,
   "id": "c8eca9e0-9178-4948-90b1-2f270bcc3f6e",
   "metadata": {},
   "outputs": [],
   "source": [
    "turtle.home()"
   ]
  },
  {
   "cell_type": "code",
   "execution_count": 21,
   "id": "2fc7b485-2c4a-4d25-985b-1e74d9754b33",
   "metadata": {},
   "outputs": [],
   "source": [
    "def tree(length):\n",
    "    if length <= 1:\n",
    "        return\n",
    "    else:\n",
    "        # 树干\n",
    "        turtle.forward(length)\n",
    "        # 左转\n",
    "        turtle.left(45)\n",
    "        # 小树\n",
    "        tree(length/2)\n",
    "        # 右转\n",
    "        turtle.right(90)\n",
    "        # 小树\n",
    "        tree(length/2)\n",
    "        # 左转\n",
    "        turtle.left(45)\n",
    "        # 后退\n",
    "        turtle.backward(length)"
   ]
  },
  {
   "cell_type": "code",
   "execution_count": 22,
   "id": "9c130444-95f0-466b-9446-69598e0a285e",
   "metadata": {},
   "outputs": [],
   "source": [
    "tree(100)"
   ]
  },
  {
   "cell_type": "code",
   "execution_count": 23,
   "id": "cf837f14-fb06-49f5-86bd-0f8097a3610b",
   "metadata": {},
   "outputs": [],
   "source": [
    "turtle.clear()"
   ]
  },
  {
   "cell_type": "code",
   "execution_count": 24,
   "id": "4464cdf5-b240-44f4-b00b-5b45b3aa17a8",
   "metadata": {},
   "outputs": [],
   "source": [
    "def triangle(length):\n",
    "    if length <= 1:\n",
    "        return\n",
    "    else:\n",
    "        for i in range(3):\n",
    "            # 前进\n",
    "            turtle.forward(length)\n",
    "            # 画小三角形\n",
    "            triangle(length/2)\n",
    "            # 后退\n",
    "            turtle.backward(length)\n",
    "            #转120°\n",
    "            turtle.right(120)"
   ]
  },
  {
   "cell_type": "code",
   "execution_count": 25,
   "id": "15db293e-069f-4f4a-a51e-eba24a51f6f6",
   "metadata": {},
   "outputs": [],
   "source": [
    "triangle(100)"
   ]
  },
  {
   "cell_type": "code",
   "execution_count": 26,
   "id": "963624af-fcf2-4463-a916-81be85b84c39",
   "metadata": {},
   "outputs": [],
   "source": [
    "def line(length):\n",
    "    if length <= 2:\n",
    "        turtle.forward(length)\n",
    "    else:\n",
    "        # line1\n",
    "        line(length/3)\n",
    "        # left 60\n",
    "        turtle.left(60)\n",
    "        # line2\n",
    "        line(length/3)\n",
    "        # right 120\n",
    "        turtle.right(120)\n",
    "        # line3\n",
    "        line(length/3)\n",
    "        # left 60\n",
    "        turtle.left(60)\n",
    "        # line4\n",
    "        line(length/3)"
   ]
  },
  {
   "cell_type": "code",
   "execution_count": 27,
   "id": "af4436bd-00a9-496f-89da-e579c89e1585",
   "metadata": {},
   "outputs": [],
   "source": [
    "for i in range(3):\n",
    "    line(100)\n",
    "    turtle.right(120)"
   ]
  },
  {
   "cell_type": "code",
   "execution_count": 1,
   "id": "88e94e4e-35b2-4955-87bf-853da04ef13d",
   "metadata": {},
   "outputs": [],
   "source": [
    "# MyFirstClass\n",
    "# my_first_class\n",
    "class Complex:\n",
    "    def __init__(self,real,image):\n",
    "        self.real = real\n",
    "        self.image = image"
   ]
  },
  {
   "cell_type": "code",
   "execution_count": 3,
   "id": "befc737c-f585-4318-b98b-03106e59b85c",
   "metadata": {},
   "outputs": [
    {
     "data": {
      "text/plain": [
       "(3.0, -4.5)"
      ]
     },
     "execution_count": 3,
     "metadata": {},
     "output_type": "execute_result"
    }
   ],
   "source": [
    "x = Complex(3.0, -4.5)\n",
    "x.real, x.image"
   ]
  },
  {
   "cell_type": "code",
   "execution_count": 9,
   "id": "c6e4aaf6-57bc-4f8d-8042-b01ff0686b22",
   "metadata": {},
   "outputs": [],
   "source": [
    "class Dog:\n",
    "    skill = []\n",
    "    def __init__(self,name):\n",
    "        self.name = name\n",
    "    def addSkill(self,skill):\n",
    "        self.skills.append(skill)"
   ]
  },
  {
   "cell_type": "code",
   "execution_count": 11,
   "id": "a6704b60-deed-4a56-a336-44fc839e973e",
   "metadata": {},
   "outputs": [
    {
     "ename": "AttributeError",
     "evalue": "'Dog' object has no attribute 'skills'",
     "output_type": "error",
     "traceback": [
      "\u001b[1;31m---------------------------------------------------------------------------\u001b[0m",
      "\u001b[1;31mAttributeError\u001b[0m                            Traceback (most recent call last)",
      "Cell \u001b[1;32mIn[11], line 3\u001b[0m\n\u001b[0;32m      1\u001b[0m a \u001b[38;5;241m=\u001b[39m Dog(\u001b[38;5;124m\"\u001b[39m\u001b[38;5;124ma\u001b[39m\u001b[38;5;124m\"\u001b[39m)\n\u001b[0;32m      2\u001b[0m b \u001b[38;5;241m=\u001b[39m Dog(\u001b[38;5;124m\"\u001b[39m\u001b[38;5;124mb\u001b[39m\u001b[38;5;124m\"\u001b[39m)\n\u001b[1;32m----> 3\u001b[0m \u001b[43ma\u001b[49m\u001b[38;5;241;43m.\u001b[39;49m\u001b[43maddSkill\u001b[49m\u001b[43m(\u001b[49m\u001b[38;5;124;43m\"\u001b[39;49m\u001b[38;5;124;43mrun\u001b[39;49m\u001b[38;5;124;43m\"\u001b[39;49m\u001b[43m)\u001b[49m\n\u001b[0;32m      4\u001b[0m \u001b[38;5;28mprint\u001b[39m(a\u001b[38;5;241m.\u001b[39mskills)\n",
      "Cell \u001b[1;32mIn[9], line 6\u001b[0m, in \u001b[0;36mDog.addSkill\u001b[1;34m(self, skill)\u001b[0m\n\u001b[0;32m      5\u001b[0m \u001b[38;5;28;01mdef\u001b[39;00m \u001b[38;5;21maddSkill\u001b[39m(\u001b[38;5;28mself\u001b[39m,skill):\n\u001b[1;32m----> 6\u001b[0m     \u001b[38;5;28;43mself\u001b[39;49m\u001b[38;5;241;43m.\u001b[39;49m\u001b[43mskills\u001b[49m\u001b[38;5;241m.\u001b[39mappend(skill)\n",
      "\u001b[1;31mAttributeError\u001b[0m: 'Dog' object has no attribute 'skills'"
     ]
    }
   ],
   "source": [
    "a = Dog(\"a\")\n",
    "b = Dog(\"b\")\n",
    "a.addSkill(\"run\")\n",
    "print(a.skills)"
   ]
  },
  {
   "cell_type": "code",
   "execution_count": 1,
   "id": "e0a62de4-7621-4859-afed-338cd918cf3a",
   "metadata": {},
   "outputs": [],
   "source": [
    "class Student:\n",
    "    def __init__(self, name, age):\n",
    "        self.name = name\n",
    "        self.age = age\n",
    "\n",
    "student = Student(\"John\", 20)"
   ]
  },
  {
   "cell_type": "code",
   "execution_count": 2,
   "id": "44da9ba4-d634-4345-9cb1-3b145fec2fca",
   "metadata": {},
   "outputs": [
    {
     "name": "stdout",
     "output_type": "stream",
     "text": [
      "True\n"
     ]
    }
   ],
   "source": [
    "print(hasattr(student, \"name\"))"
   ]
  },
  {
   "cell_type": "code",
   "execution_count": 3,
   "id": "48877106-8807-44a3-b33a-e5d73ee8ce1c",
   "metadata": {},
   "outputs": [
    {
     "name": "stdout",
     "output_type": "stream",
     "text": [
      "John\n"
     ]
    }
   ],
   "source": [
    "print(getattr(student, \"name\"))"
   ]
  },
  {
   "cell_type": "code",
   "execution_count": 5,
   "id": "95a429a6-05aa-43c1-9d23-b5fa1e789742",
   "metadata": {},
   "outputs": [],
   "source": [
    "class A:\n",
    "    def foo(self):\n",
    "        print(\"A::foo()\")\n",
    "class B(A):\n",
    "    def foo(self):\n",
    "        print(\"A::foo()\")"
   ]
  },
  {
   "cell_type": "code",
   "execution_count": 6,
   "id": "e47a88ed-7e4f-4be6-b87a-7692425969eb",
   "metadata": {},
   "outputs": [
    {
     "name": "stdout",
     "output_type": "stream",
     "text": [
      "A::foo()\n"
     ]
    },
    {
     "data": {
      "text/plain": [
       "True"
      ]
     },
     "execution_count": 6,
     "metadata": {},
     "output_type": "execute_result"
    }
   ],
   "source": [
    "b = B()\n",
    "b.foo()\n",
    "isinstance(b, B)\n",
    "isinstance(b, A)"
   ]
  },
  {
   "cell_type": "code",
   "execution_count": 7,
   "id": "2d6b8357-9d4f-4420-8bdc-26ad1eccc86d",
   "metadata": {},
   "outputs": [],
   "source": [
    "def bar(self):\n",
    "    print(\"another\")"
   ]
  },
  {
   "cell_type": "code",
   "execution_count": 8,
   "id": "7c817d78-4566-43de-98a4-dcb0c428ebc5",
   "metadata": {},
   "outputs": [
    {
     "name": "stdout",
     "output_type": "stream",
     "text": [
      "another\n"
     ]
    }
   ],
   "source": [
    "b.foo = bar\n",
    "b.foo(1)"
   ]
  },
  {
   "cell_type": "code",
   "execution_count": 9,
   "id": "60a751c9-2dc7-4972-bb06-8b00f7524508",
   "metadata": {},
   "outputs": [
    {
     "ename": "NameError",
     "evalue": "name 'add' is not defined",
     "output_type": "error",
     "traceback": [
      "\u001b[1;31m---------------------------------------------------------------------------\u001b[0m",
      "\u001b[1;31mNameError\u001b[0m                                 Traceback (most recent call last)",
      "Cell \u001b[1;32mIn[9], line 1\u001b[0m\n\u001b[1;32m----> 1\u001b[0m \u001b[43madd\u001b[49m(\u001b[38;5;241m3\u001b[39m,\u001b[38;5;241m4\u001b[39m)\n",
      "\u001b[1;31mNameError\u001b[0m: name 'add' is not defined"
     ]
    }
   ],
   "source": [
    "add(3,4)"
   ]
  },
  {
   "cell_type": "code",
   "execution_count": 10,
   "id": "4250b508-6c26-4182-832a-a7826a698c99",
   "metadata": {},
   "outputs": [
    {
     "ename": "NameError",
     "evalue": "name 'add' is not defined",
     "output_type": "error",
     "traceback": [
      "\u001b[1;31m---------------------------------------------------------------------------\u001b[0m",
      "\u001b[1;31mNameError\u001b[0m                                 Traceback (most recent call last)",
      "Cell \u001b[1;32mIn[10], line 1\u001b[0m\n\u001b[1;32m----> 1\u001b[0m \u001b[43madd\u001b[49m(\u001b[38;5;124m\"\u001b[39m\u001b[38;5;124mhello\u001b[39m\u001b[38;5;124m\"\u001b[39m,\u001b[38;5;124m\"\u001b[39m\u001b[38;5;124mworld\u001b[39m\u001b[38;5;124m\"\u001b[39m)\n",
      "\u001b[1;31mNameError\u001b[0m: name 'add' is not defined"
     ]
    }
   ],
   "source": [
    "add(\"hello\",\"world\")"
   ]
  },
  {
   "cell_type": "code",
   "execution_count": 11,
   "id": "d50f8347-4daf-451e-8365-6a81c9c885a3",
   "metadata": {},
   "outputs": [],
   "source": [
    " inc = lambda x: x + 1"
   ]
  },
  {
   "cell_type": "code",
   "execution_count": 12,
   "id": "4f67295d-5d2b-4da7-ae9c-e9aefb6f1742",
   "metadata": {},
   "outputs": [
    {
     "data": {
      "text/plain": [
       "<function __main__.<lambda>(x)>"
      ]
     },
     "execution_count": 12,
     "metadata": {},
     "output_type": "execute_result"
    }
   ],
   "source": [
    "inc"
   ]
  },
  {
   "cell_type": "code",
   "execution_count": 13,
   "id": "f45c4ca9-1850-44e5-8d11-51a5cec62e06",
   "metadata": {},
   "outputs": [],
   "source": [
    "add = lambda x, y: x + y"
   ]
  },
  {
   "cell_type": "code",
   "execution_count": 14,
   "id": "bf35e28f-274f-44df-b836-b0f80f1cbd59",
   "metadata": {},
   "outputs": [
    {
     "data": {
      "text/plain": [
       "30"
      ]
     },
     "execution_count": 14,
     "metadata": {},
     "output_type": "execute_result"
    }
   ],
   "source": [
    "inc(5)\n",
    "add(10, 20)"
   ]
  },
  {
   "cell_type": "code",
   "execution_count": 15,
   "id": "49d1a24a-f695-4c18-89a6-efc5b55e07a1",
   "metadata": {},
   "outputs": [],
   "source": [
    "def outer():\n",
    "    count = 0\n",
    "    def inner():\n",
    "        nonlocal count\n",
    "        count += 1\n",
    "        return count\n",
    "    return inner"
   ]
  },
  {
   "cell_type": "code",
   "execution_count": 16,
   "id": "f0e2a9b1-9a44-4ce2-8dd3-0570fc720423",
   "metadata": {},
   "outputs": [],
   "source": [
    "counter = outer()"
   ]
  },
  {
   "cell_type": "code",
   "execution_count": 17,
   "id": "a6aae4ae-435f-4688-94ec-41846c4b0f94",
   "metadata": {},
   "outputs": [
    {
     "data": {
      "text/plain": [
       "1"
      ]
     },
     "execution_count": 17,
     "metadata": {},
     "output_type": "execute_result"
    }
   ],
   "source": [
    "counter()"
   ]
  },
  {
   "cell_type": "code",
   "execution_count": 18,
   "id": "aa89fa3c-2a64-4a34-9138-c0d1ac70f22a",
   "metadata": {},
   "outputs": [
    {
     "data": {
      "text/plain": [
       "2"
      ]
     },
     "execution_count": 18,
     "metadata": {},
     "output_type": "execute_result"
    }
   ],
   "source": [
    "counter()"
   ]
  },
  {
   "cell_type": "code",
   "execution_count": 19,
   "id": "9804090d-4bd3-4a0e-b25b-72a69c9b506f",
   "metadata": {},
   "outputs": [
    {
     "data": {
      "text/plain": [
       "3"
      ]
     },
     "execution_count": 19,
     "metadata": {},
     "output_type": "execute_result"
    }
   ],
   "source": [
    "counter()"
   ]
  },
  {
   "cell_type": "code",
   "execution_count": 20,
   "id": "3fd3c249-737b-4241-aba3-bd9026a96b7a",
   "metadata": {},
   "outputs": [],
   "source": [
    "counter2 = outer()"
   ]
  },
  {
   "cell_type": "code",
   "execution_count": 21,
   "id": "6da6f75d-0d1b-42c1-b8aa-4b1b057ccfef",
   "metadata": {},
   "outputs": [
    {
     "data": {
      "text/plain": [
       "1"
      ]
     },
     "execution_count": 21,
     "metadata": {},
     "output_type": "execute_result"
    }
   ],
   "source": [
    "counter2()"
   ]
  },
  {
   "cell_type": "code",
   "execution_count": 22,
   "id": "1ba34cd0-6ae3-4b18-bb10-a9ccd4d2b710",
   "metadata": {},
   "outputs": [
    {
     "data": {
      "text/plain": [
       "2"
      ]
     },
     "execution_count": 22,
     "metadata": {},
     "output_type": "execute_result"
    }
   ],
   "source": [
    "counter2()"
   ]
  },
  {
   "cell_type": "code",
   "execution_count": 23,
   "id": "b74274d8-5751-4c49-a656-655f33deb7c9",
   "metadata": {},
   "outputs": [
    {
     "data": {
      "text/plain": [
       "3"
      ]
     },
     "execution_count": 23,
     "metadata": {},
     "output_type": "execute_result"
    }
   ],
   "source": [
    "counter2()"
   ]
  },
  {
   "cell_type": "code",
   "execution_count": 24,
   "id": "59a97f7f-d6ff-407b-823f-4b9cdbecc942",
   "metadata": {},
   "outputs": [],
   "source": [
    "from functools import partial"
   ]
  },
  {
   "cell_type": "code",
   "execution_count": 25,
   "id": "8a9d7697-e9c6-4331-9ef3-069edde01ca2",
   "metadata": {},
   "outputs": [],
   "source": [
    "def multiply(x, y):\n",
    "    return x * y"
   ]
  },
  {
   "cell_type": "code",
   "execution_count": 26,
   "id": "28819dfc-905c-4db2-a483-209d82812760",
   "metadata": {},
   "outputs": [],
   "source": [
    "double = partial(multiply, 2)\n",
    "triple = partial(multiply, 3)"
   ]
  },
  {
   "cell_type": "code",
   "execution_count": 27,
   "id": "c0d93726-41af-4260-b46f-ed6fdaf242a6",
   "metadata": {},
   "outputs": [
    {
     "data": {
      "text/plain": [
       "functools.partial(<function multiply at 0x00000115CE8AB420>, 2)"
      ]
     },
     "execution_count": 27,
     "metadata": {},
     "output_type": "execute_result"
    }
   ],
   "source": [
    "double"
   ]
  },
  {
   "cell_type": "code",
   "execution_count": 28,
   "id": "83b4e885-0abc-45e8-a202-8bef042613da",
   "metadata": {},
   "outputs": [
    {
     "data": {
      "text/plain": [
       "functools.partial"
      ]
     },
     "execution_count": 28,
     "metadata": {},
     "output_type": "execute_result"
    }
   ],
   "source": [
    "type(double)"
   ]
  },
  {
   "cell_type": "code",
   "execution_count": 29,
   "id": "76228523-8dfd-42b6-8e56-3c28997dc7ac",
   "metadata": {},
   "outputs": [
    {
     "data": {
      "text/plain": [
       "10"
      ]
     },
     "execution_count": 29,
     "metadata": {},
     "output_type": "execute_result"
    }
   ],
   "source": [
    "double(5)"
   ]
  },
  {
   "cell_type": "code",
   "execution_count": 30,
   "id": "a2f8ef57-ca25-4a9a-957a-a0a4cb326ba1",
   "metadata": {},
   "outputs": [
    {
     "data": {
      "text/plain": [
       "'hello hello hello '"
      ]
     },
     "execution_count": 30,
     "metadata": {},
     "output_type": "execute_result"
    }
   ],
   "source": [
    "triple(\"hello \")"
   ]
  },
  {
   "cell_type": "code",
   "execution_count": 31,
   "id": "51d4f5e8-3df2-414b-81d2-7888300688a6",
   "metadata": {},
   "outputs": [
    {
     "data": {
      "text/plain": [
       "[0, 2, 4, 6, 8, 10, 12, 14, 16, 18]"
      ]
     },
     "execution_count": 31,
     "metadata": {},
     "output_type": "execute_result"
    }
   ],
   "source": [
    "[i * 2 for i in range(10)]"
   ]
  },
  {
   "cell_type": "code",
   "execution_count": 32,
   "id": "ff320fb1-ce75-463f-b061-296601d596f2",
   "metadata": {},
   "outputs": [
    {
     "data": {
      "text/plain": [
       "[0, 4, 8, 12, 16]"
      ]
     },
     "execution_count": 32,
     "metadata": {},
     "output_type": "execute_result"
    }
   ],
   "source": [
    "[i * 2 for i in range(10) if i % 2 == 0]"
   ]
  },
  {
   "cell_type": "code",
   "execution_count": 33,
   "id": "cd5ba075-a6a3-4290-986c-4a1b661cb901",
   "metadata": {},
   "outputs": [],
   "source": [
    "colours = [\"红\", \"绿\", \"黄\", \"蓝\"]\n",
    "things = [\"房子\", \"车\", \"树\"]\n",
    "combined =  [(x,y) for x in colours for y in things]"
   ]
  },
  {
   "cell_type": "code",
   "execution_count": 34,
   "id": "1591f905-d712-419b-bf5a-c0c1c43fc3b0",
   "metadata": {},
   "outputs": [
    {
     "data": {
      "text/plain": [
       "[('红', '房子'),\n",
       " ('红', '车'),\n",
       " ('红', '树'),\n",
       " ('绿', '房子'),\n",
       " ('绿', '车'),\n",
       " ('绿', '树'),\n",
       " ('黄', '房子'),\n",
       " ('黄', '车'),\n",
       " ('黄', '树'),\n",
       " ('蓝', '房子'),\n",
       " ('蓝', '车'),\n",
       " ('蓝', '树')]"
      ]
     },
     "execution_count": 34,
     "metadata": {},
     "output_type": "execute_result"
    }
   ],
   "source": [
    "combined"
   ]
  },
  {
   "cell_type": "code",
   "execution_count": null,
   "id": "63bcbebd-5c8a-4945-8d2e-c3f9a0aca138",
   "metadata": {},
   "outputs": [],
   "source": []
  }
 ],
 "metadata": {
  "kernelspec": {
   "display_name": "Python 3 (ipykernel)",
   "language": "python",
   "name": "python3"
  },
  "language_info": {
   "codemirror_mode": {
    "name": "ipython",
    "version": 3
   },
   "file_extension": ".py",
   "mimetype": "text/x-python",
   "name": "python",
   "nbconvert_exporter": "python",
   "pygments_lexer": "ipython3",
   "version": "3.12.4"
  }
 },
 "nbformat": 4,
 "nbformat_minor": 5
}

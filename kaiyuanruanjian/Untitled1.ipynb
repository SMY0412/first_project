{
 "cells": [
  {
   "cell_type": "code",
   "execution_count": 1,
   "id": "7c579a38-47a6-4963-a8d4-90262b7f5e8d",
   "metadata": {},
   "outputs": [],
   "source": [
    "from functools import reduce"
   ]
  },
  {
   "cell_type": "code",
   "execution_count": 5,
   "id": "5140b82e-3edf-48b2-bf9a-c8a86b277d19",
   "metadata": {},
   "outputs": [],
   "source": [
    "mapped = map(lambda x: x ** 2,range(10))"
   ]
  },
  {
   "cell_type": "code",
   "execution_count": 7,
   "id": "e7d57dbd-c3e5-44fa-8123-ff9bb327e223",
   "metadata": {},
   "outputs": [
    {
     "data": {
      "text/plain": [
       "[0, 1, 4, 9, 16, 25, 36, 49, 64, 81]"
      ]
     },
     "execution_count": 7,
     "metadata": {},
     "output_type": "execute_result"
    }
   ],
   "source": [
    "list(mapped)"
   ]
  },
  {
   "cell_type": "code",
   "execution_count": 8,
   "id": "427ab49a-3ef9-47c7-b067-02f058c15785",
   "metadata": {},
   "outputs": [],
   "source": [
    "def less_than_20(x):\n",
    "    return x < 20\n",
    "mapped = list(map(lambda x: x ** 2,range(10)))\n",
    "filtered = list(filter(less_than_20, mapped))"
   ]
  },
  {
   "cell_type": "code",
   "execution_count": 9,
   "id": "7a248d58-ad92-48db-ba7d-5d57ab06f4c3",
   "metadata": {},
   "outputs": [
    {
     "data": {
      "text/plain": [
       "[0, 1, 4, 9, 16]"
      ]
     },
     "execution_count": 9,
     "metadata": {},
     "output_type": "execute_result"
    }
   ],
   "source": [
    "filtered"
   ]
  },
  {
   "cell_type": "code",
   "execution_count": 10,
   "id": "9a24d85a-5629-4808-977d-94edfc822e7a",
   "metadata": {},
   "outputs": [],
   "source": [
    "reduced = reduce(lambda x, y: x+y,filtered)"
   ]
  },
  {
   "cell_type": "code",
   "execution_count": 11,
   "id": "909c3f83-d3c2-4c7e-bbce-34b7b870390b",
   "metadata": {},
   "outputs": [
    {
     "data": {
      "text/plain": [
       "30"
      ]
     },
     "execution_count": 11,
     "metadata": {},
     "output_type": "execute_result"
    }
   ],
   "source": [
    "reduced"
   ]
  },
  {
   "cell_type": "code",
   "execution_count": 12,
   "id": "ab1e0f3f-4606-40b6-aea7-f24c1db59c8d",
   "metadata": {},
   "outputs": [],
   "source": [
    "a = (1)"
   ]
  },
  {
   "cell_type": "code",
   "execution_count": 13,
   "id": "6a923d84-09d9-4e53-a29d-f0b0be42a56c",
   "metadata": {},
   "outputs": [
    {
     "data": {
      "text/plain": [
       "1"
      ]
     },
     "execution_count": 13,
     "metadata": {},
     "output_type": "execute_result"
    }
   ],
   "source": [
    "a"
   ]
  },
  {
   "cell_type": "code",
   "execution_count": 14,
   "id": "958dfeb7-6083-4846-a478-50847d578b08",
   "metadata": {},
   "outputs": [],
   "source": [
    "a = (1,)"
   ]
  },
  {
   "cell_type": "code",
   "execution_count": 15,
   "id": "2fcf1fbb-7e53-4db2-8417-eff326317e7c",
   "metadata": {},
   "outputs": [
    {
     "data": {
      "text/plain": [
       "(1,)"
      ]
     },
     "execution_count": 15,
     "metadata": {},
     "output_type": "execute_result"
    }
   ],
   "source": [
    "a"
   ]
  },
  {
   "cell_type": "code",
   "execution_count": 16,
   "id": "1f6cd889-37cc-477e-8161-1cf99c9415a2",
   "metadata": {},
   "outputs": [],
   "source": [
    "a = [1]"
   ]
  },
  {
   "cell_type": "code",
   "execution_count": 17,
   "id": "e6618ffa-a86b-4ce4-81fa-8b67ef3d6ebe",
   "metadata": {},
   "outputs": [
    {
     "data": {
      "text/plain": [
       "[1]"
      ]
     },
     "execution_count": 17,
     "metadata": {},
     "output_type": "execute_result"
    }
   ],
   "source": [
    "a"
   ]
  },
  {
   "cell_type": "code",
   "execution_count": 18,
   "id": "dda75073-d97c-4908-903b-e4e2fab47859",
   "metadata": {},
   "outputs": [
    {
     "data": {
      "text/plain": [
       "int"
      ]
     },
     "execution_count": 18,
     "metadata": {},
     "output_type": "execute_result"
    }
   ],
   "source": [
    "type((1))"
   ]
  },
  {
   "cell_type": "code",
   "execution_count": 19,
   "id": "32817275-a7a9-44e8-9993-635c24863a28",
   "metadata": {},
   "outputs": [
    {
     "data": {
      "text/plain": [
       "tuple"
      ]
     },
     "execution_count": 19,
     "metadata": {},
     "output_type": "execute_result"
    }
   ],
   "source": [
    "type((1,))"
   ]
  },
  {
   "cell_type": "code",
   "execution_count": 20,
   "id": "580722c9-c8b1-4577-b9a0-40c1300a5d43",
   "metadata": {},
   "outputs": [
    {
     "data": {
      "text/plain": [
       "list"
      ]
     },
     "execution_count": 20,
     "metadata": {},
     "output_type": "execute_result"
    }
   ],
   "source": [
    "type([1])"
   ]
  },
  {
   "cell_type": "code",
   "execution_count": 21,
   "id": "8ba730d8-2000-4cf5-84df-f081816213fc",
   "metadata": {},
   "outputs": [],
   "source": [
    "a = 1,"
   ]
  },
  {
   "cell_type": "code",
   "execution_count": 22,
   "id": "0b90a0e1-4dc4-4ce8-8573-913d6f242991",
   "metadata": {},
   "outputs": [
    {
     "data": {
      "text/plain": [
       "(1,)"
      ]
     },
     "execution_count": 22,
     "metadata": {},
     "output_type": "execute_result"
    }
   ],
   "source": [
    "a"
   ]
  },
  {
   "cell_type": "code",
   "execution_count": 23,
   "id": "7af7099f-30c2-432f-9262-b20eeb80af10",
   "metadata": {},
   "outputs": [
    {
     "data": {
      "text/plain": [
       "tuple"
      ]
     },
     "execution_count": 23,
     "metadata": {},
     "output_type": "execute_result"
    }
   ],
   "source": [
    "type(a)"
   ]
  },
  {
   "cell_type": "code",
   "execution_count": 24,
   "id": "40194773-b273-4e56-a9ae-7050d93e3b55",
   "metadata": {},
   "outputs": [],
   "source": [
    "a = (1, 2, 3)"
   ]
  },
  {
   "cell_type": "code",
   "execution_count": 25,
   "id": "56b0172b-9f25-4eb6-a83e-976c25384bcb",
   "metadata": {},
   "outputs": [
    {
     "data": {
      "text/plain": [
       "2"
      ]
     },
     "execution_count": 25,
     "metadata": {},
     "output_type": "execute_result"
    }
   ],
   "source": [
    "a[1]"
   ]
  },
  {
   "cell_type": "code",
   "execution_count": 26,
   "id": "796f068e-34d5-47e2-a964-bfbcf2f14b31",
   "metadata": {},
   "outputs": [
    {
     "data": {
      "text/plain": [
       "(1, 2)"
      ]
     },
     "execution_count": 26,
     "metadata": {},
     "output_type": "execute_result"
    }
   ],
   "source": [
    "a[0:2]"
   ]
  },
  {
   "cell_type": "code",
   "execution_count": 27,
   "id": "43e95c84-7886-4a2f-9a13-93e9d06ce56f",
   "metadata": {},
   "outputs": [
    {
     "ename": "TypeError",
     "evalue": "'tuple' object does not support item assignment",
     "output_type": "error",
     "traceback": [
      "\u001b[1;31m---------------------------------------------------------------------------\u001b[0m",
      "\u001b[1;31mTypeError\u001b[0m                                 Traceback (most recent call last)",
      "Cell \u001b[1;32mIn[27], line 1\u001b[0m\n\u001b[1;32m----> 1\u001b[0m \u001b[43ma\u001b[49m\u001b[43m[\u001b[49m\u001b[38;5;241;43m0\u001b[39;49m\u001b[43m]\u001b[49m \u001b[38;5;241m=\u001b[39m \u001b[38;5;241m10\u001b[39m\n",
      "\u001b[1;31mTypeError\u001b[0m: 'tuple' object does not support item assignment"
     ]
    }
   ],
   "source": [
    "a[0] = 10"
   ]
  },
  {
   "cell_type": "code",
   "execution_count": 28,
   "id": "cdce48e9-6316-4b65-a3df-0f9df14a33dd",
   "metadata": {},
   "outputs": [],
   "source": [
    "b = (1, 2, \"hello\", [1, 2, 3])"
   ]
  },
  {
   "cell_type": "code",
   "execution_count": 29,
   "id": "25bfb6c6-ea50-4c4e-ac98-4ca1d926e568",
   "metadata": {},
   "outputs": [],
   "source": [
    "b[-1].append(4)"
   ]
  },
  {
   "cell_type": "code",
   "execution_count": 30,
   "id": "562bb4cf-8be0-4e6c-8ff2-3560cc9111cf",
   "metadata": {},
   "outputs": [
    {
     "data": {
      "text/plain": [
       "(1, 2, 'hello', [1, 2, 3, 4])"
      ]
     },
     "execution_count": 30,
     "metadata": {},
     "output_type": "execute_result"
    }
   ],
   "source": [
    "b"
   ]
  },
  {
   "cell_type": "code",
   "execution_count": 31,
   "id": "1bb0917a-d870-4443-8456-dc179e7f7a83",
   "metadata": {},
   "outputs": [
    {
     "ename": "TypeError",
     "evalue": "'tuple' object does not support item assignment",
     "output_type": "error",
     "traceback": [
      "\u001b[1;31m---------------------------------------------------------------------------\u001b[0m",
      "\u001b[1;31mTypeError\u001b[0m                                 Traceback (most recent call last)",
      "Cell \u001b[1;32mIn[31], line 1\u001b[0m\n\u001b[1;32m----> 1\u001b[0m \u001b[43mb\u001b[49m\u001b[43m[\u001b[49m\u001b[38;5;241;43m-\u001b[39;49m\u001b[38;5;241;43m1\u001b[39;49m\u001b[43m]\u001b[49m \u001b[38;5;241m+\u001b[39m\u001b[38;5;241m=\u001b[39m [\u001b[38;5;241m5\u001b[39m]\n",
      "\u001b[1;31mTypeError\u001b[0m: 'tuple' object does not support item assignment"
     ]
    }
   ],
   "source": [
    "b[-1] += [5]"
   ]
  },
  {
   "cell_type": "code",
   "execution_count": 32,
   "id": "c0e036db-673e-42e3-98c8-69f5d70ff53c",
   "metadata": {},
   "outputs": [
    {
     "data": {
      "text/plain": [
       "(1, 2, 'hello', [1, 2, 3, 4, 5])"
      ]
     },
     "execution_count": 32,
     "metadata": {},
     "output_type": "execute_result"
    }
   ],
   "source": [
    "b"
   ]
  },
  {
   "cell_type": "code",
   "execution_count": 33,
   "id": "5239ee1d-12ff-41ed-8216-4eae48a66c04",
   "metadata": {},
   "outputs": [],
   "source": [
    "c = 1\n",
    "d = 2"
   ]
  },
  {
   "cell_type": "code",
   "execution_count": 34,
   "id": "3b798a62-1582-477a-9c67-bed8486f024a",
   "metadata": {},
   "outputs": [],
   "source": [
    "temp = c\n",
    "c = d\n",
    "d = temp"
   ]
  },
  {
   "cell_type": "code",
   "execution_count": 35,
   "id": "3ef3c102-323b-4307-b93e-46b17103c5bb",
   "metadata": {},
   "outputs": [
    {
     "name": "stdout",
     "output_type": "stream",
     "text": [
      "2 1\n"
     ]
    }
   ],
   "source": [
    "print(c, d)"
   ]
  },
  {
   "cell_type": "code",
   "execution_count": 36,
   "id": "eecfe6e1-03ed-4be1-b480-ecfa85854304",
   "metadata": {},
   "outputs": [],
   "source": [
    "c, d = d, c"
   ]
  },
  {
   "cell_type": "code",
   "execution_count": 37,
   "id": "a56702c7-85ea-45e5-bae2-2e805e4fdaf7",
   "metadata": {},
   "outputs": [
    {
     "name": "stdout",
     "output_type": "stream",
     "text": [
      "1 2\n"
     ]
    }
   ],
   "source": [
    "print(c, d)"
   ]
  },
  {
   "cell_type": "code",
   "execution_count": 38,
   "id": "0671f15b-1669-44db-841d-33319ebd58b9",
   "metadata": {},
   "outputs": [],
   "source": [
    "def foo():\n",
    "    return 1, 2"
   ]
  },
  {
   "cell_type": "code",
   "execution_count": 39,
   "id": "84142cbd-3dc6-40f2-becd-e25dd6fae5e2",
   "metadata": {},
   "outputs": [],
   "source": [
    "e, f = foo()"
   ]
  },
  {
   "cell_type": "code",
   "execution_count": 40,
   "id": "5fa23587-267e-4494-8dd7-7f9578b68427",
   "metadata": {},
   "outputs": [
    {
     "name": "stdout",
     "output_type": "stream",
     "text": [
      "1 2\n"
     ]
    }
   ],
   "source": [
    "print(e, f)"
   ]
  },
  {
   "cell_type": "code",
   "execution_count": 41,
   "id": "87d0094c-e6d3-41eb-b1f6-a372338f8d5b",
   "metadata": {},
   "outputs": [],
   "source": [
    "import lolviz"
   ]
  },
  {
   "cell_type": "code",
   "execution_count": 42,
   "id": "31ae7db0-8b91-48e9-ba63-e83b314bbd2f",
   "metadata": {},
   "outputs": [],
   "source": [
    "dict={'myint':1,'myfloat':3.1415,'mystr':'name','myint':100,'mytuple':(1,2,3),'mydict':{}}"
   ]
  },
  {
   "cell_type": "code",
   "execution_count": 46,
   "id": "da316c7f-e344-41b9-a132-be930c1ad1a4",
   "metadata": {},
   "outputs": [],
   "source": [
    "from lolviz import listviz"
   ]
  },
  {
   "cell_type": "code",
   "execution_count": 49,
   "id": "d13835cc-4c11-4646-b763-0dd7cfff7818",
   "metadata": {},
   "outputs": [],
   "source": [
    "g = listviz(dict)"
   ]
  },
  {
   "cell_type": "code",
   "execution_count": 50,
   "id": "1046ec3e-eec7-411c-8a58-89685db58b73",
   "metadata": {},
   "outputs": [
    {
     "data": {
      "text/plain": [
       "{0: 0, 1: 1, 2: 4, 3: 9, 4: 16, 5: 25, 6: 36, 7: 49, 8: 64, 9: 81}"
      ]
     },
     "execution_count": 50,
     "metadata": {},
     "output_type": "execute_result"
    }
   ],
   "source": [
    "{x: x ** 2 for x in range(10)}"
   ]
  },
  {
   "cell_type": "code",
   "execution_count": 53,
   "id": "7a383d15-ae9b-40ca-be4e-801b2f085fd1",
   "metadata": {},
   "outputs": [
    {
     "data": {
      "text/plain": [
       "{4: -2, 1: 1, 0: 0}"
      ]
     },
     "execution_count": 53,
     "metadata": {},
     "output_type": "execute_result"
    }
   ],
   "source": [
    "{x ** 2: x for x in range(-2, 2)}"
   ]
  },
  {
   "cell_type": "code",
   "execution_count": 54,
   "id": "a4f2189e-8b43-41c4-b878-e6536b4a91e8",
   "metadata": {},
   "outputs": [
    {
     "data": {
      "text/plain": [
       "[-2, -1, 0, 1]"
      ]
     },
     "execution_count": 54,
     "metadata": {},
     "output_type": "execute_result"
    }
   ],
   "source": [
    "list(range(-2, 2))"
   ]
  },
  {
   "cell_type": "code",
   "execution_count": 1,
   "id": "b45bc247-a9ad-4906-85d2-9b289edeb170",
   "metadata": {},
   "outputs": [],
   "source": [
    "empty_dict = dict()"
   ]
  },
  {
   "cell_type": "code",
   "execution_count": 2,
   "id": "176c6e21-dd5a-4e13-b6b0-c5a8d44a5968",
   "metadata": {},
   "outputs": [
    {
     "data": {
      "text/plain": [
       "{}"
      ]
     },
     "execution_count": 2,
     "metadata": {},
     "output_type": "execute_result"
    }
   ],
   "source": [
    "empty_dict"
   ]
  },
  {
   "cell_type": "code",
   "execution_count": 3,
   "id": "3fc1658d-c599-49ff-a8f1-2eb1ee0746e9",
   "metadata": {},
   "outputs": [
    {
     "data": {
      "text/plain": [
       "{}"
      ]
     },
     "execution_count": 3,
     "metadata": {},
     "output_type": "execute_result"
    }
   ],
   "source": [
    "{}"
   ]
  },
  {
   "cell_type": "code",
   "execution_count": 4,
   "id": "5bdf88e5-6a86-4a5b-9711-34dbaa5bb5b7",
   "metadata": {},
   "outputs": [
    {
     "data": {
      "text/plain": [
       "dict"
      ]
     },
     "execution_count": 4,
     "metadata": {},
     "output_type": "execute_result"
    }
   ],
   "source": [
    "type({})"
   ]
  },
  {
   "cell_type": "code",
   "execution_count": 5,
   "id": "ec5fb574-2eba-410c-ad02-05f3916f40e0",
   "metadata": {},
   "outputs": [
    {
     "data": {
      "text/plain": [
       "{'name': 'zhangsan', 'age': 18}"
      ]
     },
     "execution_count": 5,
     "metadata": {},
     "output_type": "execute_result"
    }
   ],
   "source": [
    "dict(name = \"zhangsan\", age = 18)"
   ]
  },
  {
   "cell_type": "code",
   "execution_count": 7,
   "id": "69f2c193-428e-4939-a734-29568980f594",
   "metadata": {},
   "outputs": [],
   "source": [
    "student = {\"name\": \"zhangsan\", \"age\": 18}"
   ]
  },
  {
   "cell_type": "code",
   "execution_count": 8,
   "id": "a3fda45c-415f-4144-a80a-e9794a839391",
   "metadata": {},
   "outputs": [
    {
     "data": {
      "text/plain": [
       "False"
      ]
     },
     "execution_count": 8,
     "metadata": {},
     "output_type": "execute_result"
    }
   ],
   "source": [
    "18 in student"
   ]
  },
  {
   "cell_type": "code",
   "execution_count": 9,
   "id": "28bf8a6b-98bf-4c05-9fdd-99da0e4fcba6",
   "metadata": {},
   "outputs": [
    {
     "data": {
      "text/plain": [
       "True"
      ]
     },
     "execution_count": 9,
     "metadata": {},
     "output_type": "execute_result"
    }
   ],
   "source": [
    "\"age\" in student"
   ]
  },
  {
   "cell_type": "code",
   "execution_count": 10,
   "id": "5d5f7cd5-f159-4b3a-9d6d-65c66bbb914a",
   "metadata": {},
   "outputs": [
    {
     "name": "stdout",
     "output_type": "stream",
     "text": [
      "NA\n"
     ]
    }
   ],
   "source": [
    "print(student.get(\"abc\", \"NA\"))"
   ]
  },
  {
   "cell_type": "code",
   "execution_count": 11,
   "id": "1efa12e4-c5ea-4604-81cc-b615f1ef4d9b",
   "metadata": {},
   "outputs": [
    {
     "data": {
      "text/plain": [
       "set()"
      ]
     },
     "execution_count": 11,
     "metadata": {},
     "output_type": "execute_result"
    }
   ],
   "source": [
    "set()"
   ]
  },
  {
   "cell_type": "code",
   "execution_count": 12,
   "id": "d381216f-6dd8-4d2c-a2b5-9df45fb517f7",
   "metadata": {},
   "outputs": [
    {
     "data": {
      "text/plain": [
       "(1, 2, 3, 'hello')"
      ]
     },
     "execution_count": 12,
     "metadata": {},
     "output_type": "execute_result"
    }
   ],
   "source": [
    "(1, 2, 3, \"hello\")"
   ]
  },
  {
   "cell_type": "code",
   "execution_count": 13,
   "id": "0d4b374d-08ff-40c9-9ebb-e1435fe55a10",
   "metadata": {},
   "outputs": [
    {
     "data": {
      "text/plain": [
       "(1, 2, 3, 'hello', 1)"
      ]
     },
     "execution_count": 13,
     "metadata": {},
     "output_type": "execute_result"
    }
   ],
   "source": [
    "(1, 2, 3, \"hello\", 1)"
   ]
  },
  {
   "cell_type": "code",
   "execution_count": 14,
   "id": "9df0362d-17a9-45bc-91e2-401f4ab7a6f5",
   "metadata": {},
   "outputs": [
    {
     "data": {
      "text/plain": [
       "{1, 2, 3, 'hello'}"
      ]
     },
     "execution_count": 14,
     "metadata": {},
     "output_type": "execute_result"
    }
   ],
   "source": [
    "{1, 2, 3, \"hello\", 1}"
   ]
  },
  {
   "cell_type": "code",
   "execution_count": 15,
   "id": "1b26a3f1-0fc9-4de8-9dba-c7b9c334e348",
   "metadata": {},
   "outputs": [
    {
     "ename": "TypeError",
     "evalue": "unhashable type: 'list'",
     "output_type": "error",
     "traceback": [
      "\u001b[1;31m---------------------------------------------------------------------------\u001b[0m",
      "\u001b[1;31mTypeError\u001b[0m                                 Traceback (most recent call last)",
      "Cell \u001b[1;32mIn[15], line 1\u001b[0m\n\u001b[1;32m----> 1\u001b[0m {\u001b[38;5;241m1\u001b[39m, \u001b[38;5;241m2\u001b[39m, [\u001b[38;5;241m3\u001b[39m, \u001b[38;5;241m4\u001b[39m]}\n",
      "\u001b[1;31mTypeError\u001b[0m: unhashable type: 'list'"
     ]
    }
   ],
   "source": [
    "{1, 2, [3, 4]}"
   ]
  },
  {
   "cell_type": "code",
   "execution_count": 16,
   "id": "c7d56374-e655-46e5-966c-2b8e4f980ac1",
   "metadata": {},
   "outputs": [
    {
     "data": {
      "text/plain": [
       "{(3, 4), 1, 2}"
      ]
     },
     "execution_count": 16,
     "metadata": {},
     "output_type": "execute_result"
    }
   ],
   "source": [
    "{1, 2, (3, 4)}"
   ]
  },
  {
   "cell_type": "code",
   "execution_count": 17,
   "id": "d07b3412-64e2-46df-9799-2428127edf2c",
   "metadata": {},
   "outputs": [
    {
     "data": {
      "text/plain": [
       "True"
      ]
     },
     "execution_count": 17,
     "metadata": {},
     "output_type": "execute_result"
    }
   ],
   "source": [
    "(3, 4) in {1, 2, (3, 4)}"
   ]
  },
  {
   "cell_type": "code",
   "execution_count": 18,
   "id": "7bede6c3-1690-43c8-bc69-a404393f7877",
   "metadata": {},
   "outputs": [
    {
     "data": {
      "text/plain": [
       "{'a', 'b', 'n'}"
      ]
     },
     "execution_count": 18,
     "metadata": {},
     "output_type": "execute_result"
    }
   ],
   "source": [
    "set(\"banana\")"
   ]
  },
  {
   "cell_type": "code",
   "execution_count": 19,
   "id": "75fcd429-29b7-4c24-8dbf-a017a589f2df",
   "metadata": {},
   "outputs": [],
   "source": [
    "a = {1, 2, 3}\n",
    "b = {2, 3, 4}"
   ]
  },
  {
   "cell_type": "code",
   "execution_count": 20,
   "id": "75546a84-0ed3-44eb-bc48-2f08b91e5c35",
   "metadata": {},
   "outputs": [
    {
     "data": {
      "text/plain": [
       "{2, 3}"
      ]
     },
     "execution_count": 20,
     "metadata": {},
     "output_type": "execute_result"
    }
   ],
   "source": [
    "a & b"
   ]
  },
  {
   "cell_type": "code",
   "execution_count": 21,
   "id": "87e3b9ed-6800-4374-a877-bdc6d6773b06",
   "metadata": {},
   "outputs": [
    {
     "data": {
      "text/plain": [
       "{1, 4}"
      ]
     },
     "execution_count": 21,
     "metadata": {},
     "output_type": "execute_result"
    }
   ],
   "source": [
    "a ^ b"
   ]
  },
  {
   "cell_type": "code",
   "execution_count": 22,
   "id": "f5df3857-fb3a-4e76-8e23-7331325834e2",
   "metadata": {},
   "outputs": [
    {
     "data": {
      "text/plain": [
       "{1, 4}"
      ]
     },
     "execution_count": 22,
     "metadata": {},
     "output_type": "execute_result"
    }
   ],
   "source": [
    "(a | b) - (a & b)"
   ]
  },
  {
   "cell_type": "code",
   "execution_count": 23,
   "id": "1dbef526-0d39-4660-b18d-a5e96486f499",
   "metadata": {},
   "outputs": [
    {
     "data": {
      "text/plain": [
       "{4: 2, 0: 0}"
      ]
     },
     "execution_count": 23,
     "metadata": {},
     "output_type": "execute_result"
    }
   ],
   "source": [
    "{x ** 2: x for x in range(-3, 4) if x % 2 == 0}"
   ]
  },
  {
   "cell_type": "code",
   "execution_count": 1,
   "id": "54a66d1f-dd43-48fc-844a-a749ff05c19f",
   "metadata": {},
   "outputs": [],
   "source": [
    "class LNode:\n",
    "    def __init__(self, value, next_):\n",
    "        self.value = value\n",
    "        self.next_ = next_"
   ]
  },
  {
   "cell_type": "code",
   "execution_count": 2,
   "id": "74cab5d4-33c9-4b7c-aea7-c0969cf4a085",
   "metadata": {},
   "outputs": [],
   "source": [
    "l = LNode(1, LNode(2, LNode(3, LNode(4, LNode(5, None)))))"
   ]
  },
  {
   "cell_type": "code",
   "execution_count": 3,
   "id": "a046e1a0-fded-4b08-bd67-63f1c84e264b",
   "metadata": {},
   "outputs": [],
   "source": [
    "import lolviz"
   ]
  },
  {
   "cell_type": "code",
   "execution_count": 4,
   "id": "d6e29cbb-132c-4001-aa87-8d53077cd638",
   "metadata": {},
   "outputs": [],
   "source": [
    "def sum_list(input_list):\n",
    "    if not input_list:\n",
    "        return 0\n",
    "    else:\n",
    "        return input_list.value + sum_list(input_list.next_)"
   ]
  },
  {
   "cell_type": "code",
   "execution_count": 5,
   "id": "edbfd49c-fae5-4148-ae7f-06ecafbc4a4d",
   "metadata": {},
   "outputs": [
    {
     "data": {
      "text/plain": [
       "15"
      ]
     },
     "execution_count": 5,
     "metadata": {},
     "output_type": "execute_result"
    }
   ],
   "source": [
    "sum_list(l)"
   ]
  },
  {
   "cell_type": "code",
   "execution_count": 6,
   "id": "7882b289-cb7c-42c5-af61-f01d6a76a326",
   "metadata": {},
   "outputs": [],
   "source": [
    "input_list = [1, 3, 2, 4, 5]"
   ]
  },
  {
   "cell_type": "code",
   "execution_count": 7,
   "id": "7069727c-4a4d-477e-9985-2b9c4190cc21",
   "metadata": {},
   "outputs": [],
   "source": [
    "def init_linked_list(l):\n",
    "    if not l:\n",
    "        return None\n",
    "    else:\n",
    "        return LNode(l[0], init_linked_list(l[1:]))"
   ]
  },
  {
   "cell_type": "code",
   "execution_count": 8,
   "id": "6c01e382-cc8f-4d44-a1ce-3761e1298086",
   "metadata": {},
   "outputs": [],
   "source": [
    "linked_list = init_linked_list(input_list)"
   ]
  },
  {
   "cell_type": "code",
   "execution_count": 9,
   "id": "e5bc486d-ffb1-4a8c-8401-65af42ac63f5",
   "metadata": {},
   "outputs": [],
   "source": [
    "def reverse_list(l):\n",
    "    if not l or not l.next_:\n",
    "        return l\n",
    "    else:\n",
    "        ret = reverse_list(l.next_)\n",
    "        # 把节点作为最后一个节点\n",
    "        l.next_.next_ = l\n",
    "        l.next_ = None\n",
    "        return ret"
   ]
  },
  {
   "cell_type": "code",
   "execution_count": 10,
   "id": "ba5f8788-c754-4117-a2ae-09dd488a7c7c",
   "metadata": {},
   "outputs": [],
   "source": [
    "r = reverse_list(linked_list)"
   ]
  },
  {
   "cell_type": "code",
   "execution_count": 11,
   "id": "fa639111-375f-461a-a77d-fcde3fa0d2fa",
   "metadata": {},
   "outputs": [
    {
     "data": {
      "image/svg+xml": [
       "<?xml version=\"1.0\" encoding=\"UTF-8\" standalone=\"no\"?>\n",
       "<!DOCTYPE svg PUBLIC \"-//W3C//DTD SVG 1.1//EN\"\n",
       " \"http://www.w3.org/Graphics/SVG/1.1/DTD/svg11.dtd\">\n",
       "<!-- Generated by graphviz version 12.1.2 (20240928.0832)\n",
       " -->\n",
       "<!-- Title: G Pages: 1 -->\n",
       "<svg width=\"375pt\" height=\"94pt\"\n",
       " viewBox=\"0.00 0.00 374.60 94.00\" xmlns=\"http://www.w3.org/2000/svg\" xmlns:xlink=\"http://www.w3.org/1999/xlink\">\n",
       "<g id=\"graph0\" class=\"graph\" transform=\"scale(1 1) rotate(0) translate(4 90)\">\n",
       "<title>G</title>\n",
       "<polygon fill=\"white\" stroke=\"none\" points=\"-4,4 -4,-90 370.6,-90 370.6,4 -4,4\"/>\n",
       "<g id=\"clust1\" class=\"cluster\">\n",
       "<title>cluster1</title>\n",
       "</g>\n",
       "<!-- node2494280641056 -->\n",
       "<g id=\"node1\" class=\"node\">\n",
       "<title>node2494280641056</title>\n",
       "<polygon fill=\"#fefecd\" stroke=\"#444443\" stroke-width=\"0.5\" points=\"65.32,-69.66 16,-69.66 16,-16.34 65.32,-16.34 65.32,-69.66\"/>\n",
       "<polygon fill=\"#fefecd\" stroke=\"none\" points=\"18.16,-52.5 18.16,-67.5 63.16,-67.5 63.16,-52.5 18.16,-52.5\"/>\n",
       "<polyline fill=\"none\" stroke=\"#444443\" points=\"18.16,-52.5 63.16,-52.5\"/>\n",
       "<text text-anchor=\"start\" x=\"26.04\" y=\"-56.05\" font-family=\"Times,serif\" font-style=\"italic\" font-size=\"11.00\" fill=\"#444443\">LNode</text>\n",
       "<polygon fill=\"#fefecd\" stroke=\"none\" points=\"18.16,-50.5 18.16,-52.5 63.16,-52.5 63.16,-50.5 18.16,-50.5\"/>\n",
       "<polygon fill=\"#fefecd\" stroke=\"none\" points=\"18.16,-35.5 18.16,-50.5 49.16,-50.5 49.16,-35.5 18.16,-35.5\"/>\n",
       "<polyline fill=\"none\" stroke=\"#444443\" points=\"49.16,-35.5 49.16,-50.5\"/>\n",
       "<text text-anchor=\"start\" x=\"19.66\" y=\"-39.05\" font-family=\"Helvetica,sans-Serif\" font-size=\"11.00\" fill=\"#444443\">value </text>\n",
       "<polygon fill=\"#fefecd\" stroke=\"none\" points=\"49.16,-35.5 49.16,-50.5 63.16,-50.5 63.16,-35.5 49.16,-35.5\"/>\n",
       "<text text-anchor=\"start\" x=\"50.16\" y=\"-39.05\" font-family=\"Helvetica,sans-Serif\" font-size=\"11.00\" fill=\"#444443\"> 5</text>\n",
       "<polygon fill=\"#fefecd\" stroke=\"none\" points=\"18.16,-33.5 18.16,-35.5 63.16,-35.5 63.16,-33.5 18.16,-33.5\"/>\n",
       "<polygon fill=\"#fefecd\" stroke=\"none\" points=\"18.16,-18.5 18.16,-33.5 49.16,-33.5 49.16,-18.5 18.16,-18.5\"/>\n",
       "<polyline fill=\"none\" stroke=\"#444443\" points=\"49.16,-18.5 49.16,-33.5\"/>\n",
       "<text text-anchor=\"start\" x=\"19.04\" y=\"-22.05\" font-family=\"Helvetica,sans-Serif\" font-size=\"11.00\" fill=\"#444443\">next_ </text>\n",
       "<polygon fill=\"#fefecd\" stroke=\"none\" points=\"49.16,-18.5 49.16,-33.5 63.16,-33.5 63.16,-18.5 49.16,-18.5\"/>\n",
       "<text text-anchor=\"start\" x=\"50.16\" y=\"-22.05\" font-family=\"Helvetica,sans-Serif\" font-size=\"11.00\" fill=\"#444443\"> &#160;&#160;&#160;</text>\n",
       "</g>\n",
       "<!-- node2494280640864 -->\n",
       "<g id=\"node5\" class=\"node\">\n",
       "<title>node2494280640864</title>\n",
       "<polygon fill=\"#fefecd\" stroke=\"#444443\" stroke-width=\"0.5\" points=\"136.64,-69.66 87.32,-69.66 87.32,-16.34 136.64,-16.34 136.64,-69.66\"/>\n",
       "<polygon fill=\"#fefecd\" stroke=\"none\" points=\"89.48,-52.5 89.48,-67.5 134.48,-67.5 134.48,-52.5 89.48,-52.5\"/>\n",
       "<polyline fill=\"none\" stroke=\"#444443\" points=\"89.48,-52.5 134.48,-52.5\"/>\n",
       "<text text-anchor=\"start\" x=\"97.36\" y=\"-56.05\" font-family=\"Times,serif\" font-style=\"italic\" font-size=\"11.00\" fill=\"#444443\">LNode</text>\n",
       "<polygon fill=\"#fefecd\" stroke=\"none\" points=\"89.48,-50.5 89.48,-52.5 134.48,-52.5 134.48,-50.5 89.48,-50.5\"/>\n",
       "<polygon fill=\"#fefecd\" stroke=\"none\" points=\"89.48,-35.5 89.48,-50.5 120.48,-50.5 120.48,-35.5 89.48,-35.5\"/>\n",
       "<polyline fill=\"none\" stroke=\"#444443\" points=\"120.48,-35.5 120.48,-50.5\"/>\n",
       "<text text-anchor=\"start\" x=\"90.98\" y=\"-39.05\" font-family=\"Helvetica,sans-Serif\" font-size=\"11.00\" fill=\"#444443\">value </text>\n",
       "<polygon fill=\"#fefecd\" stroke=\"none\" points=\"120.48,-35.5 120.48,-50.5 134.48,-50.5 134.48,-35.5 120.48,-35.5\"/>\n",
       "<text text-anchor=\"start\" x=\"121.48\" y=\"-39.05\" font-family=\"Helvetica,sans-Serif\" font-size=\"11.00\" fill=\"#444443\"> 4</text>\n",
       "<polygon fill=\"#fefecd\" stroke=\"none\" points=\"89.48,-33.5 89.48,-35.5 134.48,-35.5 134.48,-33.5 89.48,-33.5\"/>\n",
       "<polygon fill=\"#fefecd\" stroke=\"none\" points=\"89.48,-18.5 89.48,-33.5 120.48,-33.5 120.48,-18.5 89.48,-18.5\"/>\n",
       "<polyline fill=\"none\" stroke=\"#444443\" points=\"120.48,-18.5 120.48,-33.5\"/>\n",
       "<text text-anchor=\"start\" x=\"90.36\" y=\"-22.05\" font-family=\"Helvetica,sans-Serif\" font-size=\"11.00\" fill=\"#444443\">next_ </text>\n",
       "<polygon fill=\"#fefecd\" stroke=\"none\" points=\"120.48,-18.5 120.48,-33.5 134.48,-33.5 134.48,-18.5 120.48,-18.5\"/>\n",
       "<text text-anchor=\"start\" x=\"121.48\" y=\"-22.05\" font-family=\"Helvetica,sans-Serif\" font-size=\"11.00\" fill=\"#444443\"> &#160;&#160;&#160;</text>\n",
       "</g>\n",
       "<!-- node2494280641056&#45;&gt;node2494280640864 -->\n",
       "<g id=\"edge1\" class=\"edge\">\n",
       "<title>node2494280641056:c&#45;&gt;node2494280640864</title>\n",
       "<path fill=\"none\" stroke=\"#444443\" stroke-width=\"0.5\" d=\"M60.54,-27.07C65.21,-28.54 74.09,-31.35 83.11,-34.2\"/>\n",
       "<ellipse fill=\"#444443\" stroke=\"#444443\" stroke-width=\"0.5\" cx=\"58.92\" cy=\"-26.56\" rx=\"1.6\" ry=\"1.6\"/>\n",
       "<polygon fill=\"#444443\" stroke=\"#444443\" stroke-width=\"0.5\" points=\"82.57,-35.5 86.81,-35.37 83.42,-32.83 82.57,-35.5\"/>\n",
       "</g>\n",
       "<!-- node2494280632896 -->\n",
       "<g id=\"node2\" class=\"node\">\n",
       "<title>node2494280632896</title>\n",
       "<polygon fill=\"#fefecd\" stroke=\"#444443\" stroke-width=\"0.5\" points=\"207.96,-69.66 158.64,-69.66 158.64,-16.34 207.96,-16.34 207.96,-69.66\"/>\n",
       "<polygon fill=\"#fefecd\" stroke=\"none\" points=\"160.8,-52.5 160.8,-67.5 205.8,-67.5 205.8,-52.5 160.8,-52.5\"/>\n",
       "<polyline fill=\"none\" stroke=\"#444443\" points=\"160.8,-52.5 205.8,-52.5\"/>\n",
       "<text text-anchor=\"start\" x=\"168.68\" y=\"-56.05\" font-family=\"Times,serif\" font-style=\"italic\" font-size=\"11.00\" fill=\"#444443\">LNode</text>\n",
       "<polygon fill=\"#fefecd\" stroke=\"none\" points=\"160.8,-50.5 160.8,-52.5 205.8,-52.5 205.8,-50.5 160.8,-50.5\"/>\n",
       "<polygon fill=\"#fefecd\" stroke=\"none\" points=\"160.8,-35.5 160.8,-50.5 191.8,-50.5 191.8,-35.5 160.8,-35.5\"/>\n",
       "<polyline fill=\"none\" stroke=\"#444443\" points=\"191.8,-35.5 191.8,-50.5\"/>\n",
       "<text text-anchor=\"start\" x=\"162.3\" y=\"-39.05\" font-family=\"Helvetica,sans-Serif\" font-size=\"11.00\" fill=\"#444443\">value </text>\n",
       "<polygon fill=\"#fefecd\" stroke=\"none\" points=\"191.8,-35.5 191.8,-50.5 205.8,-50.5 205.8,-35.5 191.8,-35.5\"/>\n",
       "<text text-anchor=\"start\" x=\"192.8\" y=\"-39.05\" font-family=\"Helvetica,sans-Serif\" font-size=\"11.00\" fill=\"#444443\"> 2</text>\n",
       "<polygon fill=\"#fefecd\" stroke=\"none\" points=\"160.8,-33.5 160.8,-35.5 205.8,-35.5 205.8,-33.5 160.8,-33.5\"/>\n",
       "<polygon fill=\"#fefecd\" stroke=\"none\" points=\"160.8,-18.5 160.8,-33.5 191.8,-33.5 191.8,-18.5 160.8,-18.5\"/>\n",
       "<polyline fill=\"none\" stroke=\"#444443\" points=\"191.8,-18.5 191.8,-33.5\"/>\n",
       "<text text-anchor=\"start\" x=\"161.68\" y=\"-22.05\" font-family=\"Helvetica,sans-Serif\" font-size=\"11.00\" fill=\"#444443\">next_ </text>\n",
       "<polygon fill=\"#fefecd\" stroke=\"none\" points=\"191.8,-18.5 191.8,-33.5 205.8,-33.5 205.8,-18.5 191.8,-18.5\"/>\n",
       "<text text-anchor=\"start\" x=\"192.8\" y=\"-22.05\" font-family=\"Helvetica,sans-Serif\" font-size=\"11.00\" fill=\"#444443\"> &#160;&#160;&#160;</text>\n",
       "</g>\n",
       "<!-- node2494280939760 -->\n",
       "<g id=\"node3\" class=\"node\">\n",
       "<title>node2494280939760</title>\n",
       "<polygon fill=\"#fefecd\" stroke=\"#444443\" stroke-width=\"0.5\" points=\"279.28,-69.66 229.96,-69.66 229.96,-16.34 279.28,-16.34 279.28,-69.66\"/>\n",
       "<polygon fill=\"#fefecd\" stroke=\"none\" points=\"232.12,-52.5 232.12,-67.5 277.12,-67.5 277.12,-52.5 232.12,-52.5\"/>\n",
       "<polyline fill=\"none\" stroke=\"#444443\" points=\"232.12,-52.5 277.12,-52.5\"/>\n",
       "<text text-anchor=\"start\" x=\"240\" y=\"-56.05\" font-family=\"Times,serif\" font-style=\"italic\" font-size=\"11.00\" fill=\"#444443\">LNode</text>\n",
       "<polygon fill=\"#fefecd\" stroke=\"none\" points=\"232.12,-50.5 232.12,-52.5 277.12,-52.5 277.12,-50.5 232.12,-50.5\"/>\n",
       "<polygon fill=\"#fefecd\" stroke=\"none\" points=\"232.12,-35.5 232.12,-50.5 263.12,-50.5 263.12,-35.5 232.12,-35.5\"/>\n",
       "<polyline fill=\"none\" stroke=\"#444443\" points=\"263.12,-35.5 263.12,-50.5\"/>\n",
       "<text text-anchor=\"start\" x=\"233.62\" y=\"-39.05\" font-family=\"Helvetica,sans-Serif\" font-size=\"11.00\" fill=\"#444443\">value </text>\n",
       "<polygon fill=\"#fefecd\" stroke=\"none\" points=\"263.12,-35.5 263.12,-50.5 277.12,-50.5 277.12,-35.5 263.12,-35.5\"/>\n",
       "<text text-anchor=\"start\" x=\"264.12\" y=\"-39.05\" font-family=\"Helvetica,sans-Serif\" font-size=\"11.00\" fill=\"#444443\"> 3</text>\n",
       "<polygon fill=\"#fefecd\" stroke=\"none\" points=\"232.12,-33.5 232.12,-35.5 277.12,-35.5 277.12,-33.5 232.12,-33.5\"/>\n",
       "<polygon fill=\"#fefecd\" stroke=\"none\" points=\"232.12,-18.5 232.12,-33.5 263.12,-33.5 263.12,-18.5 232.12,-18.5\"/>\n",
       "<polyline fill=\"none\" stroke=\"#444443\" points=\"263.12,-18.5 263.12,-33.5\"/>\n",
       "<text text-anchor=\"start\" x=\"233\" y=\"-22.05\" font-family=\"Helvetica,sans-Serif\" font-size=\"11.00\" fill=\"#444443\">next_ </text>\n",
       "<polygon fill=\"#fefecd\" stroke=\"none\" points=\"263.12,-18.5 263.12,-33.5 277.12,-33.5 277.12,-18.5 263.12,-18.5\"/>\n",
       "<text text-anchor=\"start\" x=\"264.12\" y=\"-22.05\" font-family=\"Helvetica,sans-Serif\" font-size=\"11.00\" fill=\"#444443\"> &#160;&#160;&#160;</text>\n",
       "</g>\n",
       "<!-- node2494280632896&#45;&gt;node2494280939760 -->\n",
       "<g id=\"edge3\" class=\"edge\">\n",
       "<title>node2494280632896:c&#45;&gt;node2494280939760</title>\n",
       "<path fill=\"none\" stroke=\"#444443\" stroke-width=\"0.5\" d=\"M203.18,-27.07C207.85,-28.54 216.73,-31.35 225.75,-34.2\"/>\n",
       "<ellipse fill=\"#444443\" stroke=\"#444443\" stroke-width=\"0.5\" cx=\"201.56\" cy=\"-26.56\" rx=\"1.6\" ry=\"1.6\"/>\n",
       "<polygon fill=\"#444443\" stroke=\"#444443\" stroke-width=\"0.5\" points=\"225.21,-35.5 229.45,-35.37 226.06,-32.83 225.21,-35.5\"/>\n",
       "</g>\n",
       "<!-- node2494280939808 -->\n",
       "<g id=\"node4\" class=\"node\">\n",
       "<title>node2494280939808</title>\n",
       "<polygon fill=\"#fefecd\" stroke=\"#444443\" stroke-width=\"0.5\" points=\"350.6,-69.66 301.28,-69.66 301.28,-16.34 350.6,-16.34 350.6,-69.66\"/>\n",
       "<polygon fill=\"#fefecd\" stroke=\"none\" points=\"303.44,-52.5 303.44,-67.5 348.44,-67.5 348.44,-52.5 303.44,-52.5\"/>\n",
       "<polyline fill=\"none\" stroke=\"#444443\" points=\"303.44,-52.5 348.44,-52.5\"/>\n",
       "<text text-anchor=\"start\" x=\"311.31\" y=\"-56.05\" font-family=\"Times,serif\" font-style=\"italic\" font-size=\"11.00\" fill=\"#444443\">LNode</text>\n",
       "<polygon fill=\"#fefecd\" stroke=\"none\" points=\"303.44,-50.5 303.44,-52.5 348.44,-52.5 348.44,-50.5 303.44,-50.5\"/>\n",
       "<polygon fill=\"#fefecd\" stroke=\"none\" points=\"303.44,-35.5 303.44,-50.5 334.44,-50.5 334.44,-35.5 303.44,-35.5\"/>\n",
       "<polyline fill=\"none\" stroke=\"#444443\" points=\"334.44,-35.5 334.44,-50.5\"/>\n",
       "<text text-anchor=\"start\" x=\"304.94\" y=\"-39.05\" font-family=\"Helvetica,sans-Serif\" font-size=\"11.00\" fill=\"#444443\">value </text>\n",
       "<polygon fill=\"#fefecd\" stroke=\"none\" points=\"334.44,-35.5 334.44,-50.5 348.44,-50.5 348.44,-35.5 334.44,-35.5\"/>\n",
       "<text text-anchor=\"start\" x=\"335.44\" y=\"-39.05\" font-family=\"Helvetica,sans-Serif\" font-size=\"11.00\" fill=\"#444443\"> 1</text>\n",
       "<polygon fill=\"#fefecd\" stroke=\"none\" points=\"303.44,-33.5 303.44,-35.5 348.44,-35.5 348.44,-33.5 303.44,-33.5\"/>\n",
       "<polygon fill=\"#fefecd\" stroke=\"none\" points=\"303.44,-18.5 303.44,-33.5 334.44,-33.5 334.44,-18.5 303.44,-18.5\"/>\n",
       "<polyline fill=\"none\" stroke=\"#444443\" points=\"334.44,-18.5 334.44,-33.5\"/>\n",
       "<text text-anchor=\"start\" x=\"304.31\" y=\"-22.05\" font-family=\"Helvetica,sans-Serif\" font-size=\"11.00\" fill=\"#444443\">next_ </text>\n",
       "<polygon fill=\"#fefecd\" stroke=\"none\" points=\"334.44,-18.5 334.44,-33.5 348.44,-33.5 348.44,-18.5 334.44,-18.5\"/>\n",
       "<text text-anchor=\"start\" x=\"335.44\" y=\"-22.05\" font-family=\"Helvetica,sans-Serif\" font-size=\"11.00\" fill=\"#444443\"> &#160;&#160;&#160;</text>\n",
       "</g>\n",
       "<!-- node2494280939760&#45;&gt;node2494280939808 -->\n",
       "<g id=\"edge4\" class=\"edge\">\n",
       "<title>node2494280939760:c&#45;&gt;node2494280939808</title>\n",
       "<path fill=\"none\" stroke=\"#444443\" stroke-width=\"0.5\" d=\"M274.5,-27.07C279.17,-28.54 288.05,-31.35 297.07,-34.2\"/>\n",
       "<ellipse fill=\"#444443\" stroke=\"#444443\" stroke-width=\"0.5\" cx=\"272.88\" cy=\"-26.56\" rx=\"1.6\" ry=\"1.6\"/>\n",
       "<polygon fill=\"#444443\" stroke=\"#444443\" stroke-width=\"0.5\" points=\"296.53,-35.5 300.77,-35.37 297.38,-32.83 296.53,-35.5\"/>\n",
       "</g>\n",
       "<!-- node2494280640864&#45;&gt;node2494280632896 -->\n",
       "<g id=\"edge2\" class=\"edge\">\n",
       "<title>node2494280640864:c&#45;&gt;node2494280632896</title>\n",
       "<path fill=\"none\" stroke=\"#444443\" stroke-width=\"0.5\" d=\"M131.86,-27.07C136.53,-28.54 145.41,-31.35 154.43,-34.2\"/>\n",
       "<ellipse fill=\"#444443\" stroke=\"#444443\" stroke-width=\"0.5\" cx=\"130.24\" cy=\"-26.56\" rx=\"1.6\" ry=\"1.6\"/>\n",
       "<polygon fill=\"#444443\" stroke=\"#444443\" stroke-width=\"0.5\" points=\"153.89,-35.5 158.13,-35.37 154.74,-32.83 153.89,-35.5\"/>\n",
       "</g>\n",
       "</g>\n",
       "</svg>\n"
      ],
      "text/plain": [
       "<graphviz.sources.Source at 0x244beb62390>"
      ]
     },
     "execution_count": 11,
     "metadata": {},
     "output_type": "execute_result"
    }
   ],
   "source": [
    "lolviz.objviz(r)"
   ]
  },
  {
   "cell_type": "code",
   "execution_count": 1,
   "id": "ad5c60fa-7d18-4bc4-ac96-057fdb7c7fa3",
   "metadata": {},
   "outputs": [],
   "source": [
    "class TNode:\n",
    "    def __init__(self, value, left, right):\n",
    "        self.value = value\n",
    "        self.left = left\n",
    "        self.right = right"
   ]
  },
  {
   "cell_type": "code",
   "execution_count": 2,
   "id": "f934641e-0cc2-41d8-a0b7-47d2c903847d",
   "metadata": {},
   "outputs": [],
   "source": [
    "def insert_tree(value, node):\n",
    "    if not node:\n",
    "        return TNode(value, None, None)\n",
    "    elif value == node.value:\n",
    "        return node\n",
    "    elif value < node.value:\n",
    "        return TNode(node.value, insert_tree(value, node.left), node.right)\n",
    "    else:\n",
    "        return TNode(node.value, node.left, insert_tree(value, node.right))"
   ]
  },
  {
   "cell_type": "code",
   "execution_count": 3,
   "id": "616d7c44-2ce5-4033-b794-10e48e3f1f02",
   "metadata": {},
   "outputs": [],
   "source": [
    "tree = insert_tree(5, insert_tree(3, insert_tree(4, None)))"
   ]
  },
  {
   "cell_type": "code",
   "execution_count": 4,
   "id": "cb449208-5f6d-4980-a0ef-878c58125fbe",
   "metadata": {},
   "outputs": [
    {
     "data": {
      "image/svg+xml": [
       "<?xml version=\"1.0\" encoding=\"UTF-8\" standalone=\"no\"?>\n",
       "<!DOCTYPE svg PUBLIC \"-//W3C//DTD SVG 1.1//EN\"\n",
       " \"http://www.w3.org/Graphics/SVG/1.1/DTD/svg11.dtd\">\n",
       "<!-- Generated by graphviz version 12.1.2 (20240928.0832)\n",
       " -->\n",
       "<!-- Title: G Pages: 1 -->\n",
       "<svg width=\"113pt\" height=\"147pt\"\n",
       " viewBox=\"0.00 0.00 113.32 146.64\" xmlns=\"http://www.w3.org/2000/svg\" xmlns:xlink=\"http://www.w3.org/1999/xlink\">\n",
       "<g id=\"graph0\" class=\"graph\" transform=\"scale(1 1) rotate(0) translate(4 142.64)\">\n",
       "<title>G</title>\n",
       "<polygon fill=\"white\" stroke=\"none\" points=\"-4,4 -4,-142.64 109.32,-142.64 109.32,4 -4,4\"/>\n",
       "<!-- node2526411465424 -->\n",
       "<g id=\"node1\" class=\"node\">\n",
       "<title>node2526411465424</title>\n",
       "<polygon fill=\"#fefecd\" stroke=\"#444443\" stroke-width=\"0.5\" points=\"73.32,-138.64 24,-138.64 24,-80.32 73.32,-80.32 73.32,-138.64\"/>\n",
       "<polygon fill=\"#fefecd\" stroke=\"none\" points=\"26.16,-121.48 26.16,-136.48 71.16,-136.48 71.16,-121.48 26.16,-121.48\"/>\n",
       "<polyline fill=\"none\" stroke=\"#444443\" points=\"26.16,-121.48 71.16,-121.48\"/>\n",
       "<text text-anchor=\"start\" x=\"34.04\" y=\"-125.03\" font-family=\"Times,serif\" font-style=\"italic\" font-size=\"11.00\" fill=\"#444443\">TNode</text>\n",
       "<polygon fill=\"#fefecd\" stroke=\"none\" points=\"26.16,-119.48 26.16,-121.48 71.16,-121.48 71.16,-119.48 26.16,-119.48\"/>\n",
       "<polygon fill=\"#fefecd\" stroke=\"none\" points=\"26.16,-104.48 26.16,-119.48 56.16,-119.48 56.16,-104.48 26.16,-104.48\"/>\n",
       "<polyline fill=\"none\" stroke=\"#444443\" points=\"56.16,-104.48 56.16,-119.48\"/>\n",
       "<text text-anchor=\"start\" x=\"26.91\" y=\"-108.03\" font-family=\"Helvetica,sans-Serif\" font-size=\"11.00\" fill=\"#444443\">value </text>\n",
       "<polygon fill=\"#fefecd\" stroke=\"none\" points=\"56.16,-104.48 56.16,-119.48 71.16,-119.48 71.16,-104.48 56.16,-104.48\"/>\n",
       "<text text-anchor=\"start\" x=\"56.91\" y=\"-108.03\" font-family=\"Helvetica,sans-Serif\" font-size=\"11.00\" fill=\"#444443\"> &#39;4&#39;</text>\n",
       "<polyline fill=\"none\" stroke=\"#444443\" points=\"26.16,-101.48 71.16,-101.48\"/>\n",
       "<polygon fill=\"#fefecd\" stroke=\"none\" points=\"26.16,-99.48 26.16,-101.48 71.16,-101.48 71.16,-99.48 26.16,-99.48\"/>\n",
       "<polygon fill=\"#fefecd\" stroke=\"none\" points=\"26.16,-90.48 26.16,-99.48 56.16,-99.48 56.16,-90.48 26.16,-90.48\"/>\n",
       "<polyline fill=\"none\" stroke=\"#444443\" points=\"56.16,-90.48 56.16,-99.48\"/>\n",
       "<text text-anchor=\"start\" x=\"27.16\" y=\"-92.78\" font-family=\"Helvetica,sans-Serif\" font-size=\"6.00\" fill=\"#444443\">left</text>\n",
       "<polygon fill=\"#fefecd\" stroke=\"none\" points=\"56.16,-90.48 56.16,-99.48 56.16,-99.48 56.16,-90.48 56.16,-90.48\"/>\n",
       "<polygon fill=\"#fefecd\" stroke=\"none\" points=\"56.16,-90.48 56.16,-99.48 71.16,-99.48 71.16,-90.48 56.16,-90.48\"/>\n",
       "<text text-anchor=\"start\" x=\"58.91\" y=\"-92.78\" font-family=\"Helvetica,sans-Serif\" font-size=\"6.00\" fill=\"#444443\">right</text>\n",
       "<polygon fill=\"#fefecd\" stroke=\"none\" points=\"26.16,-87.48 26.16,-90.48 56.16,-90.48 56.16,-87.48 26.16,-87.48\"/>\n",
       "<polyline fill=\"none\" stroke=\"#444443\" points=\"56.16,-87.48 56.16,-90.48\"/>\n",
       "<text text-anchor=\"start\" x=\"41.02\" y=\"-88.58\" font-family=\"Helvetica,sans-Serif\" font-size=\"1.00\" fill=\"#444443\"> </text>\n",
       "<polygon fill=\"#fefecd\" stroke=\"none\" points=\"56.16,-87.48 56.16,-90.48 56.16,-90.48 56.16,-87.48 56.16,-87.48\"/>\n",
       "<polygon fill=\"#fefecd\" stroke=\"none\" points=\"56.16,-87.48 56.16,-90.48 71.16,-90.48 71.16,-87.48 56.16,-87.48\"/>\n",
       "<text text-anchor=\"start\" x=\"63.52\" y=\"-88.68\" font-family=\"Helvetica,sans-Serif\" font-size=\"1.00\" fill=\"#444443\"> </text>\n",
       "<polygon fill=\"#fefecd\" stroke=\"none\" points=\"26.16,-82.48 26.16,-87.48 56.16,-87.48 56.16,-82.48 26.16,-82.48\"/>\n",
       "<polyline fill=\"none\" stroke=\"#444443\" points=\"56.16,-82.48 56.16,-87.48\"/>\n",
       "<text text-anchor=\"start\" x=\"40.79\" y=\"-83.63\" font-family=\"Helvetica,sans-Serif\" font-size=\"3.00\" fill=\"#444443\"> </text>\n",
       "<polygon fill=\"#fefecd\" stroke=\"none\" points=\"56.16,-82.48 56.16,-87.48 56.16,-87.48 56.16,-82.48 56.16,-82.48\"/>\n",
       "<polygon fill=\"#fefecd\" stroke=\"none\" points=\"56.16,-82.48 56.16,-87.48 71.16,-87.48 71.16,-82.48 56.16,-82.48\"/>\n",
       "<text text-anchor=\"start\" x=\"63.29\" y=\"-84.01\" font-family=\"Helvetica,sans-Serif\" font-size=\"3.00\" fill=\"#444443\"> </text>\n",
       "</g>\n",
       "<!-- node2526411468928 -->\n",
       "<g id=\"node2\" class=\"node\">\n",
       "<title>node2526411468928</title>\n",
       "<polygon fill=\"#fefecd\" stroke=\"#444443\" stroke-width=\"0.5\" points=\"49.32,-58.32 0,-58.32 0,0 49.32,0 49.32,-58.32\"/>\n",
       "<polygon fill=\"#fefecd\" stroke=\"none\" points=\"2.16,-41.16 2.16,-56.16 47.16,-56.16 47.16,-41.16 2.16,-41.16\"/>\n",
       "<polyline fill=\"none\" stroke=\"#444443\" points=\"2.16,-41.16 47.16,-41.16\"/>\n",
       "<text text-anchor=\"start\" x=\"10.04\" y=\"-44.71\" font-family=\"Times,serif\" font-style=\"italic\" font-size=\"11.00\" fill=\"#444443\">TNode</text>\n",
       "<polygon fill=\"#fefecd\" stroke=\"none\" points=\"2.16,-39.16 2.16,-41.16 47.16,-41.16 47.16,-39.16 2.16,-39.16\"/>\n",
       "<polygon fill=\"#fefecd\" stroke=\"none\" points=\"2.16,-24.16 2.16,-39.16 32.16,-39.16 32.16,-24.16 2.16,-24.16\"/>\n",
       "<polyline fill=\"none\" stroke=\"#444443\" points=\"32.16,-24.16 32.16,-39.16\"/>\n",
       "<text text-anchor=\"start\" x=\"2.91\" y=\"-27.71\" font-family=\"Helvetica,sans-Serif\" font-size=\"11.00\" fill=\"#444443\">value </text>\n",
       "<polygon fill=\"#fefecd\" stroke=\"none\" points=\"32.16,-24.16 32.16,-39.16 47.16,-39.16 47.16,-24.16 32.16,-24.16\"/>\n",
       "<text text-anchor=\"start\" x=\"32.91\" y=\"-27.71\" font-family=\"Helvetica,sans-Serif\" font-size=\"11.00\" fill=\"#444443\"> &#39;3&#39;</text>\n",
       "<polyline fill=\"none\" stroke=\"#444443\" points=\"2.16,-21.16 47.16,-21.16\"/>\n",
       "<polygon fill=\"#fefecd\" stroke=\"none\" points=\"2.16,-19.16 2.16,-21.16 47.16,-21.16 47.16,-19.16 2.16,-19.16\"/>\n",
       "<polygon fill=\"#fefecd\" stroke=\"none\" points=\"2.16,-10.16 2.16,-19.16 32.16,-19.16 32.16,-10.16 2.16,-10.16\"/>\n",
       "<polyline fill=\"none\" stroke=\"#444443\" points=\"32.16,-10.16 32.16,-19.16\"/>\n",
       "<text text-anchor=\"start\" x=\"3.16\" y=\"-12.46\" font-family=\"Helvetica,sans-Serif\" font-size=\"6.00\" fill=\"#444443\">left</text>\n",
       "<polygon fill=\"#fefecd\" stroke=\"none\" points=\"32.16,-10.16 32.16,-19.16 32.16,-19.16 32.16,-10.16 32.16,-10.16\"/>\n",
       "<polygon fill=\"#fefecd\" stroke=\"none\" points=\"32.16,-10.16 32.16,-19.16 47.16,-19.16 47.16,-10.16 32.16,-10.16\"/>\n",
       "<text text-anchor=\"start\" x=\"34.91\" y=\"-12.46\" font-family=\"Helvetica,sans-Serif\" font-size=\"6.00\" fill=\"#444443\">right</text>\n",
       "<polygon fill=\"#fefecd\" stroke=\"none\" points=\"2.16,-7.16 2.16,-10.16 32.16,-10.16 32.16,-7.16 2.16,-7.16\"/>\n",
       "<polyline fill=\"none\" stroke=\"#444443\" points=\"32.16,-7.16 32.16,-10.16\"/>\n",
       "<text text-anchor=\"start\" x=\"17.02\" y=\"-8.26\" font-family=\"Helvetica,sans-Serif\" font-size=\"1.00\" fill=\"#444443\"> </text>\n",
       "<polygon fill=\"#fefecd\" stroke=\"none\" points=\"32.16,-7.16 32.16,-10.16 32.16,-10.16 32.16,-7.16 32.16,-7.16\"/>\n",
       "<polygon fill=\"#fefecd\" stroke=\"none\" points=\"32.16,-7.16 32.16,-10.16 47.16,-10.16 47.16,-7.16 32.16,-7.16\"/>\n",
       "<text text-anchor=\"start\" x=\"39.52\" y=\"-8.36\" font-family=\"Helvetica,sans-Serif\" font-size=\"1.00\" fill=\"#444443\"> </text>\n",
       "<polygon fill=\"#fefecd\" stroke=\"none\" points=\"2.16,-2.16 2.16,-7.16 32.16,-7.16 32.16,-2.16 2.16,-2.16\"/>\n",
       "<polyline fill=\"none\" stroke=\"#444443\" points=\"32.16,-2.16 32.16,-7.16\"/>\n",
       "<text text-anchor=\"start\" x=\"16.79\" y=\"-3.31\" font-family=\"Helvetica,sans-Serif\" font-size=\"3.00\" fill=\"#444443\"> </text>\n",
       "<polygon fill=\"#fefecd\" stroke=\"none\" points=\"32.16,-2.16 32.16,-7.16 32.16,-7.16 32.16,-2.16 32.16,-2.16\"/>\n",
       "<polygon fill=\"#fefecd\" stroke=\"none\" points=\"32.16,-2.16 32.16,-7.16 47.16,-7.16 47.16,-2.16 32.16,-2.16\"/>\n",
       "<text text-anchor=\"start\" x=\"39.29\" y=\"-3.69\" font-family=\"Helvetica,sans-Serif\" font-size=\"3.00\" fill=\"#444443\"> </text>\n",
       "</g>\n",
       "<!-- node2526411465424&#45;&gt;node2526411468928 -->\n",
       "<g id=\"edge1\" class=\"edge\">\n",
       "<title>node2526411465424:c&#45;&gt;node2526411468928</title>\n",
       "<path fill=\"none\" stroke=\"#444443\" stroke-width=\"0.5\" d=\"M40.23,-84.73C38.95,-80.23 36.49,-71.61 33.9,-62.53\"/>\n",
       "<ellipse fill=\"#444443\" stroke=\"#444443\" stroke-width=\"0.5\" cx=\"40.65\" cy=\"-86.2\" rx=\"1.6\" ry=\"1.6\"/>\n",
       "<polygon fill=\"#444443\" stroke=\"#444443\" stroke-width=\"0.5\" points=\"35.27,-62.24 32.83,-58.78 32.58,-63.01 35.27,-62.24\"/>\n",
       "</g>\n",
       "<!-- node2526386828448 -->\n",
       "<g id=\"node3\" class=\"node\">\n",
       "<title>node2526386828448</title>\n",
       "<polygon fill=\"#fefecd\" stroke=\"#444443\" stroke-width=\"0.5\" points=\"105.32,-58.32 56,-58.32 56,0 105.32,0 105.32,-58.32\"/>\n",
       "<polygon fill=\"#fefecd\" stroke=\"none\" points=\"58.16,-41.16 58.16,-56.16 103.16,-56.16 103.16,-41.16 58.16,-41.16\"/>\n",
       "<polyline fill=\"none\" stroke=\"#444443\" points=\"58.16,-41.16 103.16,-41.16\"/>\n",
       "<text text-anchor=\"start\" x=\"66.03\" y=\"-44.71\" font-family=\"Times,serif\" font-style=\"italic\" font-size=\"11.00\" fill=\"#444443\">TNode</text>\n",
       "<polygon fill=\"#fefecd\" stroke=\"none\" points=\"58.16,-39.16 58.16,-41.16 103.16,-41.16 103.16,-39.16 58.16,-39.16\"/>\n",
       "<polygon fill=\"#fefecd\" stroke=\"none\" points=\"58.16,-24.16 58.16,-39.16 88.16,-39.16 88.16,-24.16 58.16,-24.16\"/>\n",
       "<polyline fill=\"none\" stroke=\"#444443\" points=\"88.16,-24.16 88.16,-39.16\"/>\n",
       "<text text-anchor=\"start\" x=\"58.91\" y=\"-27.71\" font-family=\"Helvetica,sans-Serif\" font-size=\"11.00\" fill=\"#444443\">value </text>\n",
       "<polygon fill=\"#fefecd\" stroke=\"none\" points=\"88.16,-24.16 88.16,-39.16 103.16,-39.16 103.16,-24.16 88.16,-24.16\"/>\n",
       "<text text-anchor=\"start\" x=\"88.91\" y=\"-27.71\" font-family=\"Helvetica,sans-Serif\" font-size=\"11.00\" fill=\"#444443\"> &#39;5&#39;</text>\n",
       "<polyline fill=\"none\" stroke=\"#444443\" points=\"58.16,-21.16 103.16,-21.16\"/>\n",
       "<polygon fill=\"#fefecd\" stroke=\"none\" points=\"58.16,-19.16 58.16,-21.16 103.16,-21.16 103.16,-19.16 58.16,-19.16\"/>\n",
       "<polygon fill=\"#fefecd\" stroke=\"none\" points=\"58.16,-10.16 58.16,-19.16 88.16,-19.16 88.16,-10.16 58.16,-10.16\"/>\n",
       "<polyline fill=\"none\" stroke=\"#444443\" points=\"88.16,-10.16 88.16,-19.16\"/>\n",
       "<text text-anchor=\"start\" x=\"59.16\" y=\"-12.46\" font-family=\"Helvetica,sans-Serif\" font-size=\"6.00\" fill=\"#444443\">left</text>\n",
       "<polygon fill=\"#fefecd\" stroke=\"none\" points=\"88.16,-10.16 88.16,-19.16 88.16,-19.16 88.16,-10.16 88.16,-10.16\"/>\n",
       "<polygon fill=\"#fefecd\" stroke=\"none\" points=\"88.16,-10.16 88.16,-19.16 103.16,-19.16 103.16,-10.16 88.16,-10.16\"/>\n",
       "<text text-anchor=\"start\" x=\"90.91\" y=\"-12.46\" font-family=\"Helvetica,sans-Serif\" font-size=\"6.00\" fill=\"#444443\">right</text>\n",
       "<polygon fill=\"#fefecd\" stroke=\"none\" points=\"58.16,-7.16 58.16,-10.16 88.16,-10.16 88.16,-7.16 58.16,-7.16\"/>\n",
       "<polyline fill=\"none\" stroke=\"#444443\" points=\"88.16,-7.16 88.16,-10.16\"/>\n",
       "<text text-anchor=\"start\" x=\"73.02\" y=\"-8.26\" font-family=\"Helvetica,sans-Serif\" font-size=\"1.00\" fill=\"#444443\"> </text>\n",
       "<polygon fill=\"#fefecd\" stroke=\"none\" points=\"88.16,-7.16 88.16,-10.16 88.16,-10.16 88.16,-7.16 88.16,-7.16\"/>\n",
       "<polygon fill=\"#fefecd\" stroke=\"none\" points=\"88.16,-7.16 88.16,-10.16 103.16,-10.16 103.16,-7.16 88.16,-7.16\"/>\n",
       "<text text-anchor=\"start\" x=\"95.52\" y=\"-8.36\" font-family=\"Helvetica,sans-Serif\" font-size=\"1.00\" fill=\"#444443\"> </text>\n",
       "<polygon fill=\"#fefecd\" stroke=\"none\" points=\"58.16,-2.16 58.16,-7.16 88.16,-7.16 88.16,-2.16 58.16,-2.16\"/>\n",
       "<polyline fill=\"none\" stroke=\"#444443\" points=\"88.16,-2.16 88.16,-7.16\"/>\n",
       "<text text-anchor=\"start\" x=\"72.78\" y=\"-3.31\" font-family=\"Helvetica,sans-Serif\" font-size=\"3.00\" fill=\"#444443\"> </text>\n",
       "<polygon fill=\"#fefecd\" stroke=\"none\" points=\"88.16,-2.16 88.16,-7.16 88.16,-7.16 88.16,-2.16 88.16,-2.16\"/>\n",
       "<polygon fill=\"#fefecd\" stroke=\"none\" points=\"88.16,-2.16 88.16,-7.16 103.16,-7.16 103.16,-2.16 88.16,-2.16\"/>\n",
       "<text text-anchor=\"start\" x=\"95.28\" y=\"-3.69\" font-family=\"Helvetica,sans-Serif\" font-size=\"3.00\" fill=\"#444443\"> </text>\n",
       "</g>\n",
       "<!-- node2526411465424&#45;&gt;node2526386828448 -->\n",
       "<g id=\"edge2\" class=\"edge\">\n",
       "<title>node2526411465424:c&#45;&gt;node2526386828448</title>\n",
       "<path fill=\"none\" stroke=\"#444443\" stroke-width=\"0.5\" d=\"M64.62,-84.73C65.94,-80.23 68.47,-71.61 71.14,-62.53\"/>\n",
       "<ellipse fill=\"#444443\" stroke=\"#444443\" stroke-width=\"0.5\" cx=\"64.18\" cy=\"-86.21\" rx=\"1.6\" ry=\"1.6\"/>\n",
       "<polygon fill=\"#444443\" stroke=\"#444443\" stroke-width=\"0.5\" points=\"72.46,-63.01 72.25,-58.78 69.77,-62.22 72.46,-63.01\"/>\n",
       "</g>\n",
       "</g>\n",
       "</svg>\n"
      ],
      "text/plain": [
       "<graphviz.sources.Source at 0x24c386753a0>"
      ]
     },
     "execution_count": 4,
     "metadata": {},
     "output_type": "execute_result"
    }
   ],
   "source": [
    "import lolviz\n",
    "lolviz.treeviz(tree)"
   ]
  },
  {
   "cell_type": "code",
   "execution_count": 5,
   "id": "6ca40ca9-5385-4820-b18d-f9361f3633b8",
   "metadata": {},
   "outputs": [
    {
     "data": {
      "image/svg+xml": [
       "<?xml version=\"1.0\" encoding=\"UTF-8\" standalone=\"no\"?>\n",
       "<!DOCTYPE svg PUBLIC \"-//W3C//DTD SVG 1.1//EN\"\n",
       " \"http://www.w3.org/Graphics/SVG/1.1/DTD/svg11.dtd\">\n",
       "<!-- Generated by graphviz version 12.1.2 (20240928.0832)\n",
       " -->\n",
       "<!-- Title: G Pages: 1 -->\n",
       "<svg width=\"127pt\" height=\"155pt\"\n",
       " viewBox=\"0.00 0.00 126.64 155.32\" xmlns=\"http://www.w3.org/2000/svg\" xmlns:xlink=\"http://www.w3.org/1999/xlink\">\n",
       "<g id=\"graph0\" class=\"graph\" transform=\"scale(1 1) rotate(0) translate(4 151.32)\">\n",
       "<title>G</title>\n",
       "<polygon fill=\"white\" stroke=\"none\" points=\"-4,4 -4,-151.32 122.64,-151.32 122.64,4 -4,4\"/>\n",
       "<!-- node2526411468928 -->\n",
       "<g id=\"node1\" class=\"node\">\n",
       "<title>node2526411468928</title>\n",
       "<polygon fill=\"#fefecd\" stroke=\"#444443\" stroke-width=\"0.5\" points=\"118.64,-147.32 70.32,-147.32 70.32,-77 118.64,-77 118.64,-147.32\"/>\n",
       "<polygon fill=\"#fefecd\" stroke=\"none\" points=\"72.48,-130.16 72.48,-145.16 116.48,-145.16 116.48,-130.16 72.48,-130.16\"/>\n",
       "<polyline fill=\"none\" stroke=\"#444443\" points=\"72.48,-130.16 116.48,-130.16\"/>\n",
       "<text text-anchor=\"start\" x=\"79.85\" y=\"-133.71\" font-family=\"Times,serif\" font-style=\"italic\" font-size=\"11.00\" fill=\"#444443\">TNode</text>\n",
       "<polygon fill=\"#fefecd\" stroke=\"none\" points=\"72.48,-128.16 72.48,-130.16 116.48,-130.16 116.48,-128.16 72.48,-128.16\"/>\n",
       "<polygon fill=\"#fefecd\" stroke=\"none\" points=\"72.48,-113.16 72.48,-128.16 102.48,-128.16 102.48,-113.16 72.48,-113.16\"/>\n",
       "<polyline fill=\"none\" stroke=\"#444443\" points=\"102.48,-113.16 102.48,-128.16\"/>\n",
       "<text text-anchor=\"start\" x=\"73.23\" y=\"-116.71\" font-family=\"Helvetica,sans-Serif\" font-size=\"11.00\" fill=\"#444443\">value </text>\n",
       "<polygon fill=\"#fefecd\" stroke=\"none\" points=\"102.48,-113.16 102.48,-128.16 116.48,-128.16 116.48,-113.16 102.48,-113.16\"/>\n",
       "<text text-anchor=\"start\" x=\"103.48\" y=\"-116.71\" font-family=\"Helvetica,sans-Serif\" font-size=\"11.00\" fill=\"#444443\"> 3</text>\n",
       "<polygon fill=\"#fefecd\" stroke=\"none\" points=\"72.48,-111.16 72.48,-113.16 116.48,-113.16 116.48,-111.16 72.48,-111.16\"/>\n",
       "<polygon fill=\"#fefecd\" stroke=\"none\" points=\"72.48,-96.16 72.48,-111.16 102.48,-111.16 102.48,-96.16 72.48,-96.16\"/>\n",
       "<polyline fill=\"none\" stroke=\"#444443\" points=\"102.48,-96.16 102.48,-111.16\"/>\n",
       "<text text-anchor=\"start\" x=\"84.23\" y=\"-99.71\" font-family=\"Helvetica,sans-Serif\" font-size=\"11.00\" fill=\"#444443\">left </text>\n",
       "<polygon fill=\"#fefecd\" stroke=\"none\" points=\"102.48,-96.16 102.48,-111.16 116.48,-111.16 116.48,-96.16 102.48,-96.16\"/>\n",
       "<text text-anchor=\"start\" x=\"103.48\" y=\"-99.71\" font-family=\"Helvetica,sans-Serif\" font-size=\"11.00\" fill=\"#444443\"> &#160;&#160;&#160;</text>\n",
       "<polygon fill=\"#fefecd\" stroke=\"none\" points=\"72.48,-94.16 72.48,-96.16 116.48,-96.16 116.48,-94.16 72.48,-94.16\"/>\n",
       "<polygon fill=\"#fefecd\" stroke=\"none\" points=\"72.48,-79.16 72.48,-94.16 102.48,-94.16 102.48,-79.16 72.48,-79.16\"/>\n",
       "<polyline fill=\"none\" stroke=\"#444443\" points=\"102.48,-79.16 102.48,-94.16\"/>\n",
       "<text text-anchor=\"start\" x=\"77.48\" y=\"-82.71\" font-family=\"Helvetica,sans-Serif\" font-size=\"11.00\" fill=\"#444443\">right </text>\n",
       "<polygon fill=\"#fefecd\" stroke=\"none\" points=\"102.48,-79.16 102.48,-94.16 116.48,-94.16 116.48,-79.16 102.48,-79.16\"/>\n",
       "<text text-anchor=\"start\" x=\"103.48\" y=\"-82.71\" font-family=\"Helvetica,sans-Serif\" font-size=\"11.00\" fill=\"#444443\"> &#160;&#160;&#160;</text>\n",
       "</g>\n",
       "<!-- node2526386828448 -->\n",
       "<g id=\"node2\" class=\"node\">\n",
       "<title>node2526386828448</title>\n",
       "<polygon fill=\"#fefecd\" stroke=\"#444443\" stroke-width=\"0.5\" points=\"118.64,-70.32 70.32,-70.32 70.32,0 118.64,0 118.64,-70.32\"/>\n",
       "<polygon fill=\"#fefecd\" stroke=\"none\" points=\"72.48,-53.16 72.48,-68.16 116.48,-68.16 116.48,-53.16 72.48,-53.16\"/>\n",
       "<polyline fill=\"none\" stroke=\"#444443\" points=\"72.48,-53.16 116.48,-53.16\"/>\n",
       "<text text-anchor=\"start\" x=\"79.85\" y=\"-56.71\" font-family=\"Times,serif\" font-style=\"italic\" font-size=\"11.00\" fill=\"#444443\">TNode</text>\n",
       "<polygon fill=\"#fefecd\" stroke=\"none\" points=\"72.48,-51.16 72.48,-53.16 116.48,-53.16 116.48,-51.16 72.48,-51.16\"/>\n",
       "<polygon fill=\"#fefecd\" stroke=\"none\" points=\"72.48,-36.16 72.48,-51.16 102.48,-51.16 102.48,-36.16 72.48,-36.16\"/>\n",
       "<polyline fill=\"none\" stroke=\"#444443\" points=\"102.48,-36.16 102.48,-51.16\"/>\n",
       "<text text-anchor=\"start\" x=\"73.23\" y=\"-39.71\" font-family=\"Helvetica,sans-Serif\" font-size=\"11.00\" fill=\"#444443\">value </text>\n",
       "<polygon fill=\"#fefecd\" stroke=\"none\" points=\"102.48,-36.16 102.48,-51.16 116.48,-51.16 116.48,-36.16 102.48,-36.16\"/>\n",
       "<text text-anchor=\"start\" x=\"103.48\" y=\"-39.71\" font-family=\"Helvetica,sans-Serif\" font-size=\"11.00\" fill=\"#444443\"> 5</text>\n",
       "<polygon fill=\"#fefecd\" stroke=\"none\" points=\"72.48,-34.16 72.48,-36.16 116.48,-36.16 116.48,-34.16 72.48,-34.16\"/>\n",
       "<polygon fill=\"#fefecd\" stroke=\"none\" points=\"72.48,-19.16 72.48,-34.16 102.48,-34.16 102.48,-19.16 72.48,-19.16\"/>\n",
       "<polyline fill=\"none\" stroke=\"#444443\" points=\"102.48,-19.16 102.48,-34.16\"/>\n",
       "<text text-anchor=\"start\" x=\"84.23\" y=\"-22.71\" font-family=\"Helvetica,sans-Serif\" font-size=\"11.00\" fill=\"#444443\">left </text>\n",
       "<polygon fill=\"#fefecd\" stroke=\"none\" points=\"102.48,-19.16 102.48,-34.16 116.48,-34.16 116.48,-19.16 102.48,-19.16\"/>\n",
       "<text text-anchor=\"start\" x=\"103.48\" y=\"-22.71\" font-family=\"Helvetica,sans-Serif\" font-size=\"11.00\" fill=\"#444443\"> &#160;&#160;&#160;</text>\n",
       "<polygon fill=\"#fefecd\" stroke=\"none\" points=\"72.48,-17.16 72.48,-19.16 116.48,-19.16 116.48,-17.16 72.48,-17.16\"/>\n",
       "<polygon fill=\"#fefecd\" stroke=\"none\" points=\"72.48,-2.16 72.48,-17.16 102.48,-17.16 102.48,-2.16 72.48,-2.16\"/>\n",
       "<polyline fill=\"none\" stroke=\"#444443\" points=\"102.48,-2.16 102.48,-17.16\"/>\n",
       "<text text-anchor=\"start\" x=\"77.48\" y=\"-5.71\" font-family=\"Helvetica,sans-Serif\" font-size=\"11.00\" fill=\"#444443\">right </text>\n",
       "<polygon fill=\"#fefecd\" stroke=\"none\" points=\"102.48,-2.16 102.48,-17.16 116.48,-17.16 116.48,-2.16 102.48,-2.16\"/>\n",
       "<text text-anchor=\"start\" x=\"103.48\" y=\"-5.71\" font-family=\"Helvetica,sans-Serif\" font-size=\"11.00\" fill=\"#444443\"> &#160;&#160;&#160;</text>\n",
       "</g>\n",
       "<!-- node2526411465424 -->\n",
       "<g id=\"node3\" class=\"node\">\n",
       "<title>node2526411465424</title>\n",
       "<polygon fill=\"#fefecd\" stroke=\"#444443\" stroke-width=\"0.5\" points=\"48.32,-125.32 0,-125.32 0,-55 48.32,-55 48.32,-125.32\"/>\n",
       "<polygon fill=\"#fefecd\" stroke=\"none\" points=\"2.16,-108.16 2.16,-123.16 46.16,-123.16 46.16,-108.16 2.16,-108.16\"/>\n",
       "<polyline fill=\"none\" stroke=\"#444443\" points=\"2.16,-108.16 46.16,-108.16\"/>\n",
       "<text text-anchor=\"start\" x=\"9.53\" y=\"-111.71\" font-family=\"Times,serif\" font-style=\"italic\" font-size=\"11.00\" fill=\"#444443\">TNode</text>\n",
       "<polygon fill=\"#fefecd\" stroke=\"none\" points=\"2.16,-106.16 2.16,-108.16 46.16,-108.16 46.16,-106.16 2.16,-106.16\"/>\n",
       "<polygon fill=\"#fefecd\" stroke=\"none\" points=\"2.16,-91.16 2.16,-106.16 32.16,-106.16 32.16,-91.16 2.16,-91.16\"/>\n",
       "<polyline fill=\"none\" stroke=\"#444443\" points=\"32.16,-91.16 32.16,-106.16\"/>\n",
       "<text text-anchor=\"start\" x=\"2.91\" y=\"-94.71\" font-family=\"Helvetica,sans-Serif\" font-size=\"11.00\" fill=\"#444443\">value </text>\n",
       "<polygon fill=\"#fefecd\" stroke=\"none\" points=\"32.16,-91.16 32.16,-106.16 46.16,-106.16 46.16,-91.16 32.16,-91.16\"/>\n",
       "<text text-anchor=\"start\" x=\"33.16\" y=\"-94.71\" font-family=\"Helvetica,sans-Serif\" font-size=\"11.00\" fill=\"#444443\"> 4</text>\n",
       "<polygon fill=\"#fefecd\" stroke=\"none\" points=\"2.16,-89.16 2.16,-91.16 46.16,-91.16 46.16,-89.16 2.16,-89.16\"/>\n",
       "<polygon fill=\"#fefecd\" stroke=\"none\" points=\"2.16,-74.16 2.16,-89.16 32.16,-89.16 32.16,-74.16 2.16,-74.16\"/>\n",
       "<polyline fill=\"none\" stroke=\"#444443\" points=\"32.16,-74.16 32.16,-89.16\"/>\n",
       "<text text-anchor=\"start\" x=\"13.91\" y=\"-77.71\" font-family=\"Helvetica,sans-Serif\" font-size=\"11.00\" fill=\"#444443\">left </text>\n",
       "<polygon fill=\"#fefecd\" stroke=\"none\" points=\"32.16,-74.16 32.16,-89.16 46.16,-89.16 46.16,-74.16 32.16,-74.16\"/>\n",
       "<text text-anchor=\"start\" x=\"33.16\" y=\"-77.71\" font-family=\"Helvetica,sans-Serif\" font-size=\"11.00\" fill=\"#444443\"> &#160;&#160;&#160;</text>\n",
       "<polygon fill=\"#fefecd\" stroke=\"none\" points=\"2.16,-72.16 2.16,-74.16 46.16,-74.16 46.16,-72.16 2.16,-72.16\"/>\n",
       "<polygon fill=\"#fefecd\" stroke=\"none\" points=\"2.16,-57.16 2.16,-72.16 32.16,-72.16 32.16,-57.16 2.16,-57.16\"/>\n",
       "<polyline fill=\"none\" stroke=\"#444443\" points=\"32.16,-57.16 32.16,-72.16\"/>\n",
       "<text text-anchor=\"start\" x=\"7.16\" y=\"-60.71\" font-family=\"Helvetica,sans-Serif\" font-size=\"11.00\" fill=\"#444443\">right </text>\n",
       "<polygon fill=\"#fefecd\" stroke=\"none\" points=\"32.16,-57.16 32.16,-72.16 46.16,-72.16 46.16,-57.16 32.16,-57.16\"/>\n",
       "<text text-anchor=\"start\" x=\"33.16\" y=\"-60.71\" font-family=\"Helvetica,sans-Serif\" font-size=\"11.00\" fill=\"#444443\"> &#160;&#160;&#160;</text>\n",
       "</g>\n",
       "<!-- node2526411465424&#45;&gt;node2526411468928 -->\n",
       "<g id=\"edge1\" class=\"edge\">\n",
       "<title>node2526411465424:c&#45;&gt;node2526411468928</title>\n",
       "<path fill=\"none\" stroke=\"#444443\" stroke-width=\"0.5\" d=\"M43.21,-83.4C47.86,-86.07 57.19,-91.4 66.55,-96.76\"/>\n",
       "<ellipse fill=\"#444443\" stroke=\"#444443\" stroke-width=\"0.5\" cx=\"41.77\" cy=\"-82.58\" rx=\"1.6\" ry=\"1.6\"/>\n",
       "<polygon fill=\"#444443\" stroke=\"#444443\" stroke-width=\"0.5\" points=\"65.73,-97.9 69.9,-98.67 67.12,-95.47 65.73,-97.9\"/>\n",
       "</g>\n",
       "<!-- node2526411465424&#45;&gt;node2526386828448 -->\n",
       "<g id=\"edge2\" class=\"edge\">\n",
       "<title>node2526411465424:c&#45;&gt;node2526386828448</title>\n",
       "<path fill=\"none\" stroke=\"#444443\" stroke-width=\"0.5\" d=\"M43.21,-62.97C47.86,-60.4 57.19,-55.24 66.55,-50.06\"/>\n",
       "<ellipse fill=\"#444443\" stroke=\"#444443\" stroke-width=\"0.5\" cx=\"41.78\" cy=\"-63.76\" rx=\"1.6\" ry=\"1.6\"/>\n",
       "<polygon fill=\"#444443\" stroke=\"#444443\" stroke-width=\"0.5\" points=\"67.07,-51.37 69.9,-48.21 65.72,-48.92 67.07,-51.37\"/>\n",
       "</g>\n",
       "</g>\n",
       "</svg>\n"
      ],
      "text/plain": [
       "<graphviz.sources.Source at 0x24c38676e40>"
      ]
     },
     "execution_count": 5,
     "metadata": {},
     "output_type": "execute_result"
    }
   ],
   "source": [
    "lolviz.objviz(tree)"
   ]
  },
  {
   "cell_type": "code",
   "execution_count": 6,
   "id": "55c24762-6c8f-4260-9709-eef1f129eb27",
   "metadata": {},
   "outputs": [],
   "source": [
    "from urllib import robotparser"
   ]
  },
  {
   "cell_type": "code",
   "execution_count": 7,
   "id": "1e3a6db1-df32-4e81-8bcb-ba6f51470f36",
   "metadata": {},
   "outputs": [],
   "source": [
    "rp = robotparser.RobotFileParser()"
   ]
  },
  {
   "cell_type": "code",
   "execution_count": 8,
   "id": "bb5e8bec-7fd9-4002-ade0-8ee5ce68bf43",
   "metadata": {},
   "outputs": [],
   "source": [
    "rp.set_url(\"https://www.baidu.com/robot.txt\")\n",
    "rp.read()"
   ]
  },
  {
   "cell_type": "code",
   "execution_count": 9,
   "id": "35a8ca51-a6f2-4cd3-831a-df9d033c6968",
   "metadata": {},
   "outputs": [
    {
     "data": {
      "text/plain": [
       "True"
      ]
     },
     "execution_count": 9,
     "metadata": {},
     "output_type": "execute_result"
    }
   ],
   "source": [
    "rp.can_fetch(\"Baiduspider\", \"https://www.baidu.com/baidu\")"
   ]
  },
  {
   "cell_type": "code",
   "execution_count": 10,
   "id": "8a1a1f95-c613-40df-b935-aaa8bc2c8d7a",
   "metadata": {},
   "outputs": [
    {
     "data": {
      "text/plain": [
       "True"
      ]
     },
     "execution_count": 10,
     "metadata": {},
     "output_type": "execute_result"
    }
   ],
   "source": [
    "rp.can_fetch(\"Baiduspider\", \"https://www.baidu.com/abc\")"
   ]
  },
  {
   "cell_type": "code",
   "execution_count": 13,
   "id": "aef82b19-3080-418d-ac33-cbefcb0a636b",
   "metadata": {},
   "outputs": [],
   "source": [
    "import requests\n",
    "url = \"http://httpbin.org/get\"\n",
    "data = {\"key1\":\"value1\", \"key2\":\"value2\"}"
   ]
  },
  {
   "cell_type": "code",
   "execution_count": 15,
   "id": "ac98a249-3f50-4c11-91aa-20e56211d183",
   "metadata": {},
   "outputs": [],
   "source": [
    "response = requests.get(url, params = data)"
   ]
  },
  {
   "cell_type": "code",
   "execution_count": 16,
   "id": "f74d0ac2-9dbc-4ac2-a8d8-4d14ecbee4a2",
   "metadata": {},
   "outputs": [
    {
     "name": "stdout",
     "output_type": "stream",
     "text": [
      "{\n",
      "  \"args\": {\n",
      "    \"key1\": \"value1\", \n",
      "    \"key2\": \"value2\"\n",
      "  }, \n",
      "  \"headers\": {\n",
      "    \"Accept\": \"*/*\", \n",
      "    \"Accept-Encoding\": \"gzip, deflate\", \n",
      "    \"Host\": \"httpbin.org\", \n",
      "    \"User-Agent\": \"python-requests/2.32.3\", \n",
      "    \"X-Amzn-Trace-Id\": \"Root=1-674ec0fb-4f4b9ee86376954307a265a7\"\n",
      "  }, \n",
      "  \"origin\": \"210.30.104.177\", \n",
      "  \"url\": \"http://httpbin.org/get?key1=value1&key2=value2\"\n",
      "}\n",
      "\n"
     ]
    }
   ],
   "source": [
    "print(response.text)"
   ]
  },
  {
   "cell_type": "code",
   "execution_count": 17,
   "id": "83298c9d-a9e3-45a3-abd0-9d99c976bab4",
   "metadata": {},
   "outputs": [],
   "source": [
    "def encode(params):\n",
    "    return \"?\" + \"&\".join([f\"{key}={params[key]}\" for key in params])"
   ]
  },
  {
   "cell_type": "code",
   "execution_count": 18,
   "id": "71a44e40-73b5-4626-87c6-b00c98f286bc",
   "metadata": {},
   "outputs": [
    {
     "data": {
      "text/plain": [
       "'?key1=value1&key2=value2'"
      ]
     },
     "execution_count": 18,
     "metadata": {},
     "output_type": "execute_result"
    }
   ],
   "source": [
    "encode(data)"
   ]
  },
  {
   "cell_type": "code",
   "execution_count": 19,
   "id": "af393c19-b0c3-4a8e-9975-4857ec84ca1b",
   "metadata": {},
   "outputs": [
    {
     "data": {
      "text/plain": [
       "'http://httpbin.org/get?key1=value1&key2=value2'"
      ]
     },
     "execution_count": 19,
     "metadata": {},
     "output_type": "execute_result"
    }
   ],
   "source": [
    "url + encode(data)"
   ]
  },
  {
   "cell_type": "code",
   "execution_count": 21,
   "id": "8d6ca1bd-09f0-4e23-a59a-5d90ec29bfe9",
   "metadata": {},
   "outputs": [],
   "source": [
    "response2 = requests.get(\"http://oscar-lab.org\")"
   ]
  },
  {
   "cell_type": "code",
   "execution_count": 22,
   "id": "f46541ca-75f1-472f-a7b9-d21582694017",
   "metadata": {},
   "outputs": [
    {
     "data": {
      "text/plain": [
       "'<!DOCTYPE html PUBLIC \"-//W3C//DTD XHTML 1.0 Transitional//EN\" \"http://www.w3.org/TR/xhtml1/DTD/xhtml1-transitional.dtd\">\\n<html xmlns=\"http://www.w3.org/1999/xhtml\"  xml:lang=\"en-us\" lang=\"en-us\">\\n\\n<head>\\n<meta http-equiv=\"Content-Type\" content=\"text/html; charset=gb2312\" />\\n<meta http-equiv=\"X-UA-Compatible\" content=\"IE=EmulateIE7\" />\\n\\n<meta http-equiv=\"refresh\" content=\"0; url=eng/index.htm\">\\n<title>OSCAR, Optimizing Software by Computation from ARtificial intelligence</title>\\n\\n<meta name=\"keywords\" content=\"OSCAR Optimizing Software by Computation from ARtificial intelligence DLUT Dalian University of Technology\" />\\n\\n</head>\\n\\n<body>\\n\\n</body>\\n\\n\\n</html>\\n'"
      ]
     },
     "execution_count": 22,
     "metadata": {},
     "output_type": "execute_result"
    }
   ],
   "source": [
    "response2.text"
   ]
  },
  {
   "cell_type": "code",
   "execution_count": 23,
   "id": "da02621b-855b-4a2b-ab19-5a550ae599ae",
   "metadata": {},
   "outputs": [],
   "source": [
    "response = requests.post(url, params = data)"
   ]
  },
  {
   "cell_type": "code",
   "execution_count": 24,
   "id": "85ec7568-9708-42e6-b6fe-f8b94b39765d",
   "metadata": {},
   "outputs": [
    {
     "data": {
      "text/plain": [
       "'<!DOCTYPE HTML PUBLIC \"-//W3C//DTD HTML 3.2 Final//EN\">\\n<title>405 Method Not Allowed</title>\\n<h1>Method Not Allowed</h1>\\n<p>The method is not allowed for the requested URL.</p>\\n'"
      ]
     },
     "execution_count": 24,
     "metadata": {},
     "output_type": "execute_result"
    }
   ],
   "source": [
    "response.text"
   ]
  },
  {
   "cell_type": "code",
   "execution_count": null,
   "id": "6273294e-81d7-439c-97d0-cc9758f064c8",
   "metadata": {},
   "outputs": [],
   "source": []
  }
 ],
 "metadata": {
  "kernelspec": {
   "display_name": "Python 3 (ipykernel)",
   "language": "python",
   "name": "python3"
  },
  "language_info": {
   "codemirror_mode": {
    "name": "ipython",
    "version": 3
   },
   "file_extension": ".py",
   "mimetype": "text/x-python",
   "name": "python",
   "nbconvert_exporter": "python",
   "pygments_lexer": "ipython3",
   "version": "3.12.4"
  }
 },
 "nbformat": 4,
 "nbformat_minor": 5
}

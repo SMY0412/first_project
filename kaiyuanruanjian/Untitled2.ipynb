{
 "cells": [
  {
   "cell_type": "code",
   "execution_count": 1,
   "id": "dc4684dc-fc96-4dbd-90e1-0f31b45f843a",
   "metadata": {},
   "outputs": [],
   "source": [
    "import re"
   ]
  },
  {
   "cell_type": "code",
   "execution_count": 2,
   "id": "eef7e086-ded5-4ad9-b771-dcfe96a250a4",
   "metadata": {},
   "outputs": [],
   "source": [
    "m = re.match(r\"ab*\", \"abbb\")"
   ]
  },
  {
   "cell_type": "code",
   "execution_count": 3,
   "id": "943d72e5-1be0-4ab3-a918-da7ba3441520",
   "metadata": {},
   "outputs": [
    {
     "name": "stdout",
     "output_type": "stream",
     "text": [
      "<re.Match object; span=(0, 4), match='abbb'>\n"
     ]
    }
   ],
   "source": [
    "if m:\n",
    "    print(m)\n",
    "else:\n",
    "    print(\"not matched\")"
   ]
  },
  {
   "cell_type": "code",
   "execution_count": 4,
   "id": "41f754bb-6b8d-4688-b80a-d7f6647c0f61",
   "metadata": {},
   "outputs": [],
   "source": [
    "m = re.match(r\"ab*?\", \"abbb\")"
   ]
  },
  {
   "cell_type": "code",
   "execution_count": 5,
   "id": "d41ae6e0-38a4-40af-a4f3-704ae7a2a15b",
   "metadata": {},
   "outputs": [
    {
     "name": "stdout",
     "output_type": "stream",
     "text": [
      "a\n"
     ]
    }
   ],
   "source": [
    "if m:\n",
    "    print(m.group())\n",
    "else:\n",
    "    print(\"not matched\")"
   ]
  },
  {
   "cell_type": "code",
   "execution_count": 10,
   "id": "68eb9bd0-6c95-4d10-bda2-dc7071a87db4",
   "metadata": {},
   "outputs": [],
   "source": [
    "pattern = re.compile(r\"\\ba\\d*\\b\")"
   ]
  },
  {
   "cell_type": "code",
   "execution_count": 11,
   "id": "f29ebfad-56f4-452b-97cf-590dc0a33368",
   "metadata": {},
   "outputs": [],
   "source": [
    "m = pattern.search(\"dabc a123 a a123\")"
   ]
  },
  {
   "cell_type": "code",
   "execution_count": 12,
   "id": "f23beb18-6e24-47da-9337-01661fa2917b",
   "metadata": {},
   "outputs": [
    {
     "data": {
      "text/plain": [
       "'a123'"
      ]
     },
     "execution_count": 12,
     "metadata": {},
     "output_type": "execute_result"
    }
   ],
   "source": [
    "m.group()"
   ]
  },
  {
   "cell_type": "code",
   "execution_count": 13,
   "id": "72b347d9-b899-4b6d-ad2c-48eac9881cde",
   "metadata": {},
   "outputs": [
    {
     "data": {
      "text/plain": [
       "['a123', 'a', 'a1234']"
      ]
     },
     "execution_count": 13,
     "metadata": {},
     "output_type": "execute_result"
    }
   ],
   "source": [
    "pattern.findall(\"dabc a123 a a1234\")"
   ]
  },
  {
   "cell_type": "code",
   "execution_count": 15,
   "id": "a0ddb693-8339-4be1-b2b6-97e18b744b41",
   "metadata": {},
   "outputs": [
    {
     "data": {
      "text/plain": [
       "['a', '2']"
      ]
     },
     "execution_count": 15,
     "metadata": {},
     "output_type": "execute_result"
    }
   ],
   "source": [
    "re.findall(r\"(.+)\\1\", \"aa b123 b22\")"
   ]
  },
  {
   "cell_type": "code",
   "execution_count": 16,
   "id": "bf22bae3-c278-4983-853d-1e2841e176bb",
   "metadata": {},
   "outputs": [
    {
     "data": {
      "text/plain": [
       "['aa', '2']"
      ]
     },
     "execution_count": 16,
     "metadata": {},
     "output_type": "execute_result"
    }
   ],
   "source": [
    "re.findall(r\"(.+)\\1\", \"aaaa b123 b22\")"
   ]
  },
  {
   "cell_type": "code",
   "execution_count": 17,
   "id": "ce42e87a-023b-46c3-ae51-755f83af296b",
   "metadata": {},
   "outputs": [],
   "source": [
    "import requests"
   ]
  },
  {
   "cell_type": "code",
   "execution_count": 18,
   "id": "f306189c-413c-411a-bbdf-52340230de53",
   "metadata": {},
   "outputs": [],
   "source": [
    "url = \"http://oscar-lab.org/people/~zren/crawlme.html\""
   ]
  },
  {
   "cell_type": "code",
   "execution_count": 19,
   "id": "7d1bc8c0-6ef6-4b3e-9224-990fd208ca05",
   "metadata": {},
   "outputs": [],
   "source": [
    "response = requests.get(url)"
   ]
  },
  {
   "cell_type": "code",
   "execution_count": 20,
   "id": "cd15a7b4-e91b-4652-8786-7c900b3814a2",
   "metadata": {},
   "outputs": [
    {
     "name": "stdout",
     "output_type": "stream",
     "text": [
      "200\n"
     ]
    }
   ],
   "source": [
    "print(response.status_code)"
   ]
  },
  {
   "cell_type": "code",
   "execution_count": 21,
   "id": "c7262eb2-8eb0-47c6-a012-d562926fd136",
   "metadata": {},
   "outputs": [
    {
     "name": "stdout",
     "output_type": "stream",
     "text": [
      "<html>\n",
      "\t<head>\n",
      "\t\t<meta http-equiv=\"content-type\" content=\"text/html; charset=utf-8\">\n",
      "\t\t<title>Crawlme</title>\n",
      "\t</head>\n",
      "\t<body>\n",
      "\t\t<h1 id=\"heading\">Crawl me with your spider</h1>\n",
      "\t\t<p>\n",
      "\t\tè¿éæ¯ä¸æ®µä¸­æï¼å",
      "¶ä¸­æä¸ä¸ªé¾æ¥ï¼<a\n",
      "\t\t\thref=\"http://oscar-lab.org\">æ³æ</a>\n",
      "\t\t</p>\n",
      "\t\t<h2>è¡¨æ ¼</h2>\n",
      "\t\t<hr/>\n",
      "\t\t<p class=\"mytable\">ä¸é¢æ¯ä¸ä¸ªè¡¨æ ¼A</p>\n",
      "\t\t<table border=\"1\" id=\"table1\">\n",
      "\t\t\t<tr>\n",
      "\t\t\t\t<td>A00</td>\n",
      "\t\t\t\t<td>A01</td>\n",
      "\t\t\t\t<td><a href=\"http://oscar-lab.org/people/~zren\">A02</a></td>\n",
      "\t\t\t</tr>\n",
      "\t\t\t<tr>\n",
      "\t\t\t\t<td>A10</td>\n",
      "\t\t\t\t<td>A11</td>\n",
      "\t\t\t\t<td>A12</td>\n",
      "\t\t\t</tr>\n",
      "\t\t\t<tr>\n",
      "\t\t\t\t<td>A20</td>\n",
      "\t\t\t\t<td>A21</td>\n",
      "\t\t\t\t<td>A22</td>\n",
      "\t\t\t</tr>\n",
      "\t\t</table>\n",
      "\t\t<h2>åè¡¨</h2>\n",
      "\t\t<hr/>\n",
      "\t\t<h3>æåº</h3>\n",
      "\t\t<p class=\"myol\">ä¸é¢æ¯ä¸ä¸ªæåºåè¡¨</p>\n",
      "\t\t<ol>\n",
      "\t\t\t<li>ç¬¬ä¸æ¡</li>\n",
      "\t\t\t<li>ç¬¬äºæ¡</li>\n",
      "\t\t\t<li>ç¬¬ä¸æ¡</li>\n",
      "\t\t</ol>\n",
      "\t\t<h3>æ åº</h3>\n",
      "\t\t<p>ä¸é¢æ¯ä¸ä¸ªæ åºåè¡¨</p>\n",
      "\t\t<ul>\n",
      "\t\t\t<li>ç¬¬ä¸æ¡</li>\n",
      "\t\t\t<li>ç¬¬äºæ¡</li>\n",
      "\t\t\t<li>ç¬¬ä¸æ¡</li>\n",
      "\t\t</ul>\n",
      "\t\t<h2>ä¸æåè¡¨</h2>\n",
      "\t\t<hr/>\n",
      "\t\t<select>\n",
      "\t\t\t<option value=\"alpha\">éé¡¹1</option>\n",
      "\t\t\t<option value=\"beta\">éé¡¹2</option>\n",
      "\t\t\t<option value=\"gamma\">éé¡¹3</option>\n",
      "\t\t\t<option value=\"heiheihei\">éé¡¹å</option>\n",
      "\t\t</select>\n",
      "\t</body>\n",
      "</html>\n",
      "\n"
     ]
    }
   ],
   "source": [
    "print(response.text)"
   ]
  },
  {
   "cell_type": "code",
   "execution_count": 22,
   "id": "095b976f-7845-4472-bd46-1e72071a487c",
   "metadata": {},
   "outputs": [
    {
     "data": {
      "text/plain": [
       "'ISO-8859-1'"
      ]
     },
     "execution_count": 22,
     "metadata": {},
     "output_type": "execute_result"
    }
   ],
   "source": [
    "response.encoding"
   ]
  },
  {
   "cell_type": "code",
   "execution_count": 23,
   "id": "1814f6dc-9ed9-46e5-bf71-8d81990be985",
   "metadata": {},
   "outputs": [
    {
     "data": {
      "text/plain": [
       "'utf-8'"
      ]
     },
     "execution_count": 23,
     "metadata": {},
     "output_type": "execute_result"
    }
   ],
   "source": [
    "response.apparent_encoding"
   ]
  },
  {
   "cell_type": "code",
   "execution_count": 24,
   "id": "21e68315-1e44-4d39-9506-6d5683e92a75",
   "metadata": {},
   "outputs": [],
   "source": [
    "response.encoding = response.apparent_encoding"
   ]
  },
  {
   "cell_type": "code",
   "execution_count": 25,
   "id": "c75e8ebb-3e58-49ff-b5c9-7ea25213584a",
   "metadata": {},
   "outputs": [
    {
     "name": "stdout",
     "output_type": "stream",
     "text": [
      "<html>\n",
      "\t<head>\n",
      "\t\t<meta http-equiv=\"content-type\" content=\"text/html; charset=utf-8\">\n",
      "\t\t<title>Crawlme</title>\n",
      "\t</head>\n",
      "\t<body>\n",
      "\t\t<h1 id=\"heading\">Crawl me with your spider</h1>\n",
      "\t\t<p>\n",
      "\t\t这里是一段中文，其中有一个链接：<a\n",
      "\t\t\thref=\"http://oscar-lab.org\">戳我</a>\n",
      "\t\t</p>\n",
      "\t\t<h2>表格</h2>\n",
      "\t\t<hr/>\n",
      "\t\t<p class=\"mytable\">下面是一个表格A</p>\n",
      "\t\t<table border=\"1\" id=\"table1\">\n",
      "\t\t\t<tr>\n",
      "\t\t\t\t<td>A00</td>\n",
      "\t\t\t\t<td>A01</td>\n",
      "\t\t\t\t<td><a href=\"http://oscar-lab.org/people/~zren\">A02</a></td>\n",
      "\t\t\t</tr>\n",
      "\t\t\t<tr>\n",
      "\t\t\t\t<td>A10</td>\n",
      "\t\t\t\t<td>A11</td>\n",
      "\t\t\t\t<td>A12</td>\n",
      "\t\t\t</tr>\n",
      "\t\t\t<tr>\n",
      "\t\t\t\t<td>A20</td>\n",
      "\t\t\t\t<td>A21</td>\n",
      "\t\t\t\t<td>A22</td>\n",
      "\t\t\t</tr>\n",
      "\t\t</table>\n",
      "\t\t<h2>列表</h2>\n",
      "\t\t<hr/>\n",
      "\t\t<h3>有序</h3>\n",
      "\t\t<p class=\"myol\">下面是一个有序列表</p>\n",
      "\t\t<ol>\n",
      "\t\t\t<li>第一条</li>\n",
      "\t\t\t<li>第二条</li>\n",
      "\t\t\t<li>第三条</li>\n",
      "\t\t</ol>\n",
      "\t\t<h3>无序</h3>\n",
      "\t\t<p>下面是一个无序列表</p>\n",
      "\t\t<ul>\n",
      "\t\t\t<li>第一条</li>\n",
      "\t\t\t<li>第二条</li>\n",
      "\t\t\t<li>第三条</li>\n",
      "\t\t</ul>\n",
      "\t\t<h2>下拉列表</h2>\n",
      "\t\t<hr/>\n",
      "\t\t<select>\n",
      "\t\t\t<option value=\"alpha\">选项1</option>\n",
      "\t\t\t<option value=\"beta\">选项2</option>\n",
      "\t\t\t<option value=\"gamma\">选项3</option>\n",
      "\t\t\t<option value=\"heiheihei\">选项四</option>\n",
      "\t\t</select>\n",
      "\t</body>\n",
      "</html>\n",
      "\n"
     ]
    }
   ],
   "source": [
    "print(response.text)"
   ]
  },
  {
   "cell_type": "code",
   "execution_count": 26,
   "id": "17ed5e38-3c7d-4290-ab3a-5f2605983e98",
   "metadata": {},
   "outputs": [],
   "source": [
    "pattern = r'<a href=\".*\"'"
   ]
  },
  {
   "cell_type": "code",
   "execution_count": 27,
   "id": "9e177073-b755-4c49-9476-035a337e6f61",
   "metadata": {},
   "outputs": [],
   "source": [
    "text = response.text"
   ]
  },
  {
   "cell_type": "code",
   "execution_count": 28,
   "id": "82110499-b174-4aeb-bab1-1e28b4dbcd3e",
   "metadata": {},
   "outputs": [
    {
     "data": {
      "text/plain": [
       "['<a href=\"http://oscar-lab.org/people/~zren\"']"
      ]
     },
     "execution_count": 28,
     "metadata": {},
     "output_type": "execute_result"
    }
   ],
   "source": [
    "re.findall(pattern, text)"
   ]
  },
  {
   "cell_type": "code",
   "execution_count": 29,
   "id": "5fbe1aef-13ff-4c80-832c-c3165958a8d2",
   "metadata": {},
   "outputs": [],
   "source": [
    "from bs4 import BeautifulSoup"
   ]
  },
  {
   "cell_type": "code",
   "execution_count": 30,
   "id": "c48099fc-3db9-44e6-b2cc-f647bd411589",
   "metadata": {},
   "outputs": [],
   "source": [
    "doc = BeautifulSoup(text)"
   ]
  },
  {
   "cell_type": "code",
   "execution_count": 31,
   "id": "5319e146-8c88-4800-9def-88d695cbd11c",
   "metadata": {},
   "outputs": [
    {
     "name": "stdout",
     "output_type": "stream",
     "text": [
      "None\n"
     ]
    }
   ],
   "source": [
    "print(doc.printify)"
   ]
  },
  {
   "cell_type": "code",
   "execution_count": 32,
   "id": "5dc23270-731e-4dbf-a6ad-198f24a34727",
   "metadata": {},
   "outputs": [
    {
     "name": "stdout",
     "output_type": "stream",
     "text": [
      "<html>\n",
      " <head>\n",
      "  <meta content=\"text/html; charset=utf-8\" http-equiv=\"content-type\"/>\n",
      "  <title>\n",
      "   Crawlme\n",
      "  </title>\n",
      " </head>\n",
      " <body>\n",
      "  <h1 id=\"heading\">\n",
      "   Crawl me with your spider\n",
      "  </h1>\n",
      "  <p>\n",
      "   这里是一段中文，其中有一个链接：\n",
      "   <a href=\"http://oscar-lab.org\">\n",
      "    戳我\n",
      "   </a>\n",
      "  </p>\n",
      "  <h2>\n",
      "   表格\n",
      "  </h2>\n",
      "  <hr/>\n",
      "  <p class=\"mytable\">\n",
      "   下面是一个表格A\n",
      "  </p>\n",
      "  <table border=\"1\" id=\"table1\">\n",
      "   <tr>\n",
      "    <td>\n",
      "     A00\n",
      "    </td>\n",
      "    <td>\n",
      "     A01\n",
      "    </td>\n",
      "    <td>\n",
      "     <a href=\"http://oscar-lab.org/people/~zren\">\n",
      "      A02\n",
      "     </a>\n",
      "    </td>\n",
      "   </tr>\n",
      "   <tr>\n",
      "    <td>\n",
      "     A10\n",
      "    </td>\n",
      "    <td>\n",
      "     A11\n",
      "    </td>\n",
      "    <td>\n",
      "     A12\n",
      "    </td>\n",
      "   </tr>\n",
      "   <tr>\n",
      "    <td>\n",
      "     A20\n",
      "    </td>\n",
      "    <td>\n",
      "     A21\n",
      "    </td>\n",
      "    <td>\n",
      "     A22\n",
      "    </td>\n",
      "   </tr>\n",
      "  </table>\n",
      "  <h2>\n",
      "   列表\n",
      "  </h2>\n",
      "  <hr/>\n",
      "  <h3>\n",
      "   有序\n",
      "  </h3>\n",
      "  <p class=\"myol\">\n",
      "   下面是一个有序列表\n",
      "  </p>\n",
      "  <ol>\n",
      "   <li>\n",
      "    第一条\n",
      "   </li>\n",
      "   <li>\n",
      "    第二条\n",
      "   </li>\n",
      "   <li>\n",
      "    第三条\n",
      "   </li>\n",
      "  </ol>\n",
      "  <h3>\n",
      "   无序\n",
      "  </h3>\n",
      "  <p>\n",
      "   下面是一个无序列表\n",
      "  </p>\n",
      "  <ul>\n",
      "   <li>\n",
      "    第一条\n",
      "   </li>\n",
      "   <li>\n",
      "    第二条\n",
      "   </li>\n",
      "   <li>\n",
      "    第三条\n",
      "   </li>\n",
      "  </ul>\n",
      "  <h2>\n",
      "   下拉列表\n",
      "  </h2>\n",
      "  <hr/>\n",
      "  <select>\n",
      "   <option value=\"alpha\">\n",
      "    选项1\n",
      "   </option>\n",
      "   <option value=\"beta\">\n",
      "    选项2\n",
      "   </option>\n",
      "   <option value=\"gamma\">\n",
      "    选项3\n",
      "   </option>\n",
      "   <option value=\"heiheihei\">\n",
      "    选项四\n",
      "   </option>\n",
      "  </select>\n",
      " </body>\n",
      "</html>\n",
      "\n"
     ]
    }
   ],
   "source": [
    "print(doc.prettify())"
   ]
  },
  {
   "cell_type": "code",
   "execution_count": 33,
   "id": "ae40930a-aef5-416a-acc2-d8a8d1842300",
   "metadata": {},
   "outputs": [
    {
     "data": {
      "text/plain": [
       "<body>\n",
       "<h1 id=\"heading\">Crawl me with your spider</h1>\n",
       "<p>\n",
       "\t\t这里是一段中文，其中有一个链接：<a href=\"http://oscar-lab.org\">戳我</a>\n",
       "</p>\n",
       "<h2>表格</h2>\n",
       "<hr/>\n",
       "<p class=\"mytable\">下面是一个表格A</p>\n",
       "<table border=\"1\" id=\"table1\">\n",
       "<tr>\n",
       "<td>A00</td>\n",
       "<td>A01</td>\n",
       "<td><a href=\"http://oscar-lab.org/people/~zren\">A02</a></td>\n",
       "</tr>\n",
       "<tr>\n",
       "<td>A10</td>\n",
       "<td>A11</td>\n",
       "<td>A12</td>\n",
       "</tr>\n",
       "<tr>\n",
       "<td>A20</td>\n",
       "<td>A21</td>\n",
       "<td>A22</td>\n",
       "</tr>\n",
       "</table>\n",
       "<h2>列表</h2>\n",
       "<hr/>\n",
       "<h3>有序</h3>\n",
       "<p class=\"myol\">下面是一个有序列表</p>\n",
       "<ol>\n",
       "<li>第一条</li>\n",
       "<li>第二条</li>\n",
       "<li>第三条</li>\n",
       "</ol>\n",
       "<h3>无序</h3>\n",
       "<p>下面是一个无序列表</p>\n",
       "<ul>\n",
       "<li>第一条</li>\n",
       "<li>第二条</li>\n",
       "<li>第三条</li>\n",
       "</ul>\n",
       "<h2>下拉列表</h2>\n",
       "<hr/>\n",
       "<select>\n",
       "<option value=\"alpha\">选项1</option>\n",
       "<option value=\"beta\">选项2</option>\n",
       "<option value=\"gamma\">选项3</option>\n",
       "<option value=\"heiheihei\">选项四</option>\n",
       "</select>\n",
       "</body>"
      ]
     },
     "execution_count": 33,
     "metadata": {},
     "output_type": "execute_result"
    }
   ],
   "source": [
    "doc.body"
   ]
  },
  {
   "cell_type": "code",
   "execution_count": 34,
   "id": "42edcb39-bef2-4761-853c-a606bfc735b1",
   "metadata": {},
   "outputs": [
    {
     "data": {
      "text/plain": [
       "<a href=\"http://oscar-lab.org\">戳我</a>"
      ]
     },
     "execution_count": 34,
     "metadata": {},
     "output_type": "execute_result"
    }
   ],
   "source": [
    "doc.a"
   ]
  },
  {
   "cell_type": "code",
   "execution_count": 35,
   "id": "c9a267e5-9a76-4e64-a802-342bdea07802",
   "metadata": {},
   "outputs": [
    {
     "data": {
      "text/plain": [
       "<table border=\"1\" id=\"table1\">\n",
       "<tr>\n",
       "<td>A00</td>\n",
       "<td>A01</td>\n",
       "<td><a href=\"http://oscar-lab.org/people/~zren\">A02</a></td>\n",
       "</tr>\n",
       "<tr>\n",
       "<td>A10</td>\n",
       "<td>A11</td>\n",
       "<td>A12</td>\n",
       "</tr>\n",
       "<tr>\n",
       "<td>A20</td>\n",
       "<td>A21</td>\n",
       "<td>A22</td>\n",
       "</tr>\n",
       "</table>"
      ]
     },
     "execution_count": 35,
     "metadata": {},
     "output_type": "execute_result"
    }
   ],
   "source": [
    "doc.table"
   ]
  },
  {
   "cell_type": "code",
   "execution_count": 36,
   "id": "c6ee5910-3a97-4ae5-bf79-1f1e446ac1c0",
   "metadata": {},
   "outputs": [
    {
     "data": {
      "text/plain": [
       "<a href=\"http://oscar-lab.org/people/~zren\">A02</a>"
      ]
     },
     "execution_count": 36,
     "metadata": {},
     "output_type": "execute_result"
    }
   ],
   "source": [
    "doc.table.a"
   ]
  },
  {
   "cell_type": "code",
   "execution_count": 37,
   "id": "0fe151cd-cb11-4f32-82ce-192f202f244a",
   "metadata": {},
   "outputs": [
    {
     "data": {
      "text/plain": [
       "'http://oscar-lab.org/people/~zren'"
      ]
     },
     "execution_count": 37,
     "metadata": {},
     "output_type": "execute_result"
    }
   ],
   "source": [
    "doc.table.a.get(\"href\")"
   ]
  },
  {
   "cell_type": "code",
   "execution_count": 38,
   "id": "4f8e5918-b6c1-4f53-9c65-ad518b1b5d72",
   "metadata": {},
   "outputs": [],
   "source": [
    "anchors = doc.find_all(\"a\")"
   ]
  },
  {
   "cell_type": "code",
   "execution_count": 39,
   "id": "b322a9ce-eda2-4203-a15d-24d03a84e73d",
   "metadata": {},
   "outputs": [
    {
     "data": {
      "text/plain": [
       "[<a href=\"http://oscar-lab.org\">戳我</a>,\n",
       " <a href=\"http://oscar-lab.org/people/~zren\">A02</a>]"
      ]
     },
     "execution_count": 39,
     "metadata": {},
     "output_type": "execute_result"
    }
   ],
   "source": [
    "anchors"
   ]
  },
  {
   "cell_type": "code",
   "execution_count": 40,
   "id": "995e0185-2071-4085-843d-df73382f47bc",
   "metadata": {},
   "outputs": [
    {
     "data": {
      "text/plain": [
       "['http://oscar-lab.org', 'http://oscar-lab.org/people/~zren']"
      ]
     },
     "execution_count": 40,
     "metadata": {},
     "output_type": "execute_result"
    }
   ],
   "source": [
    "[a.get(\"href\") for a in anchors]"
   ]
  },
  {
   "cell_type": "code",
   "execution_count": 41,
   "id": "4e205cc9-df8d-46cd-ad7d-c4f9e3d242cb",
   "metadata": {},
   "outputs": [
    {
     "data": {
      "text/plain": [
       "[<h1 id=\"heading\">Crawl me with your spider</h1>]"
      ]
     },
     "execution_count": 41,
     "metadata": {},
     "output_type": "execute_result"
    }
   ],
   "source": [
    "doc.find_all(\"h1\", id=\"heading\")"
   ]
  },
  {
   "cell_type": "code",
   "execution_count": 42,
   "id": "5523738c-0592-4ffd-9c1c-c7c249af3747",
   "metadata": {},
   "outputs": [
    {
     "data": {
      "text/plain": [
       "[<h1 id=\"heading\">Crawl me with your spider</h1>]"
      ]
     },
     "execution_count": 42,
     "metadata": {},
     "output_type": "execute_result"
    }
   ],
   "source": [
    "doc.find_all(\"h1\", attrs={\"id\":\"heading\"})"
   ]
  },
  {
   "cell_type": "code",
   "execution_count": 43,
   "id": "4beb7b36-bc1a-4d93-a947-f7dcdcd57743",
   "metadata": {},
   "outputs": [
    {
     "ename": "SyntaxError",
     "evalue": "invalid syntax (1637975282.py, line 1)",
     "output_type": "error",
     "traceback": [
      "\u001b[1;36m  Cell \u001b[1;32mIn[43], line 1\u001b[1;36m\u001b[0m\n\u001b[1;33m    doc.find_all(\"p\", class=\"mytable\")\u001b[0m\n\u001b[1;37m                      ^\u001b[0m\n\u001b[1;31mSyntaxError\u001b[0m\u001b[1;31m:\u001b[0m invalid syntax\n"
     ]
    }
   ],
   "source": [
    "doc.find_all(\"p\", class=\"mytable\")"
   ]
  },
  {
   "cell_type": "code",
   "execution_count": 44,
   "id": "7850a1eb-069d-4e64-a567-46c035658253",
   "metadata": {},
   "outputs": [
    {
     "data": {
      "text/plain": [
       "[<p class=\"mytable\">下面是一个表格A</p>]"
      ]
     },
     "execution_count": 44,
     "metadata": {},
     "output_type": "execute_result"
    }
   ],
   "source": [
    "doc.find_all(\"p\", class_=\"mytable\")"
   ]
  },
  {
   "cell_type": "code",
   "execution_count": 45,
   "id": "123fb9de-5dc8-4a44-be28-eb9c62fafd6b",
   "metadata": {},
   "outputs": [
    {
     "data": {
      "text/plain": [
       "[<p class=\"mytable\">下面是一个表格A</p>]"
      ]
     },
     "execution_count": 45,
     "metadata": {},
     "output_type": "execute_result"
    }
   ],
   "source": [
    "doc.find_all(\"p\", attrs={\"class\":\"mytable\"})"
   ]
  },
  {
   "cell_type": "code",
   "execution_count": 46,
   "id": "a7193280-8a12-4c17-bb75-94cb5cb66ded",
   "metadata": {},
   "outputs": [
    {
     "data": {
      "text/plain": [
       "[<title>Crawlme</title>,\n",
       " <table border=\"1\" id=\"table1\">\n",
       " <tr>\n",
       " <td>A00</td>\n",
       " <td>A01</td>\n",
       " <td><a href=\"http://oscar-lab.org/people/~zren\">A02</a></td>\n",
       " </tr>\n",
       " <tr>\n",
       " <td>A10</td>\n",
       " <td>A11</td>\n",
       " <td>A12</td>\n",
       " </tr>\n",
       " <tr>\n",
       " <td>A20</td>\n",
       " <td>A21</td>\n",
       " <td>A22</td>\n",
       " </tr>\n",
       " </table>,\n",
       " <tr>\n",
       " <td>A00</td>\n",
       " <td>A01</td>\n",
       " <td><a href=\"http://oscar-lab.org/people/~zren\">A02</a></td>\n",
       " </tr>,\n",
       " <td>A00</td>,\n",
       " <td>A01</td>,\n",
       " <td><a href=\"http://oscar-lab.org/people/~zren\">A02</a></td>,\n",
       " <tr>\n",
       " <td>A10</td>\n",
       " <td>A11</td>\n",
       " <td>A12</td>\n",
       " </tr>,\n",
       " <td>A10</td>,\n",
       " <td>A11</td>,\n",
       " <td>A12</td>,\n",
       " <tr>\n",
       " <td>A20</td>\n",
       " <td>A21</td>\n",
       " <td>A22</td>\n",
       " </tr>,\n",
       " <td>A20</td>,\n",
       " <td>A21</td>,\n",
       " <td>A22</td>]"
      ]
     },
     "execution_count": 46,
     "metadata": {},
     "output_type": "execute_result"
    }
   ],
   "source": [
    "doc.find_all(re.compile(\"^t\"))"
   ]
  },
  {
   "cell_type": "code",
   "execution_count": 49,
   "id": "ebf0709a-ad1e-48f0-8c51-5c8303fec251",
   "metadata": {},
   "outputs": [
    {
     "data": {
      "text/plain": [
       "['title',\n",
       " 'table',\n",
       " 'tr',\n",
       " 'td',\n",
       " 'td',\n",
       " 'td',\n",
       " 'tr',\n",
       " 'td',\n",
       " 'td',\n",
       " 'td',\n",
       " 'tr',\n",
       " 'td',\n",
       " 'td',\n",
       " 'td']"
      ]
     },
     "execution_count": 49,
     "metadata": {},
     "output_type": "execute_result"
    }
   ],
   "source": [
    "[node.name for node in doc.find_all(re.compile(\"^t\"))]"
   ]
  },
  {
   "cell_type": "code",
   "execution_count": 50,
   "id": "ede6b265-7470-4ae2-8e16-d15e0cb57fb5",
   "metadata": {},
   "outputs": [],
   "source": [
    "# 打印表格中a节点所在行的所有文字\n",
    "a = doc.table.a"
   ]
  },
  {
   "cell_type": "code",
   "execution_count": 51,
   "id": "4ab052ca-eea2-4376-9e05-15385e83b158",
   "metadata": {},
   "outputs": [
    {
     "data": {
      "text/plain": [
       "<td><a href=\"http://oscar-lab.org/people/~zren\">A02</a></td>"
      ]
     },
     "execution_count": 51,
     "metadata": {},
     "output_type": "execute_result"
    }
   ],
   "source": [
    "a.parent"
   ]
  },
  {
   "cell_type": "code",
   "execution_count": 52,
   "id": "495d396e-0335-407a-8bc9-15ab32f4aa59",
   "metadata": {},
   "outputs": [
    {
     "data": {
      "text/plain": [
       "<tr>\n",
       "<td>A00</td>\n",
       "<td>A01</td>\n",
       "<td><a href=\"http://oscar-lab.org/people/~zren\">A02</a></td>\n",
       "</tr>"
      ]
     },
     "execution_count": 52,
     "metadata": {},
     "output_type": "execute_result"
    }
   ],
   "source": [
    "a.parent.parent"
   ]
  },
  {
   "cell_type": "code",
   "execution_count": 53,
   "id": "5bc221a5-59f2-401e-a83d-b76ffbd3d0c8",
   "metadata": {},
   "outputs": [
    {
     "data": {
      "text/plain": [
       "'\\nA00\\nA01\\nA02\\n'"
      ]
     },
     "execution_count": 53,
     "metadata": {},
     "output_type": "execute_result"
    }
   ],
   "source": [
    "a.parent.parent.get_text()"
   ]
  },
  {
   "cell_type": "code",
   "execution_count": 54,
   "id": "75c830b7-81f8-4dbd-b655-e65c8ce6c1eb",
   "metadata": {},
   "outputs": [
    {
     "name": "stdout",
     "output_type": "stream",
     "text": [
      "<bound method PageElement.get_text of <td>A00</td>>\n",
      "<bound method PageElement.get_text of <td>A01</td>>\n",
      "<bound method PageElement.get_text of <td><a href=\"http://oscar-lab.org/people/~zren\">A02</a></td>>\n"
     ]
    }
   ],
   "source": [
    "for td in a.parent.parent.find_all(\"td\"):\n",
    "    print(td.get_text)"
   ]
  },
  {
   "cell_type": "code",
   "execution_count": 55,
   "id": "9f534421-efdb-4928-a790-7f9cb9a4e644",
   "metadata": {},
   "outputs": [
    {
     "name": "stdout",
     "output_type": "stream",
     "text": [
      "A00\n",
      "A01\n",
      "A02\n"
     ]
    }
   ],
   "source": [
    "for td in a.parent.parent.find_all(\"td\"):\n",
    "    print(td.get_text())"
   ]
  },
  {
   "cell_type": "code",
   "execution_count": 56,
   "id": "58335b60-608e-411d-a2f3-d3c6182d1f08",
   "metadata": {},
   "outputs": [
    {
     "data": {
      "text/plain": [
       "<tr>\n",
       "<td>A00</td>\n",
       "<td>A01</td>\n",
       "<td><a href=\"http://oscar-lab.org/people/~zren\">A02</a></td>\n",
       "</tr>"
      ]
     },
     "execution_count": 56,
     "metadata": {},
     "output_type": "execute_result"
    }
   ],
   "source": [
    "doc.table.a.find_parent(\"tr\")"
   ]
  },
  {
   "cell_type": "code",
   "execution_count": 57,
   "id": "021ebde5-150a-4ba1-b86a-d988a30c977c",
   "metadata": {},
   "outputs": [
    {
     "name": "stdout",
     "output_type": "stream",
     "text": [
      "A00\n",
      "A01\n",
      "A02\n"
     ]
    }
   ],
   "source": [
    "for td in doc.table.a.find_parent(\"tr\").find_all(\"td\"):\n",
    "    print(td.text)"
   ]
  },
  {
   "cell_type": "code",
   "execution_count": 59,
   "id": "8d357542-da5c-4608-9c1e-ed92133423fd",
   "metadata": {},
   "outputs": [],
   "source": [
    "a22 = doc.find(string=\"A22\")"
   ]
  },
  {
   "cell_type": "code",
   "execution_count": 60,
   "id": "a0cdad1a-c6f8-48d6-8c81-3d66b388b7fb",
   "metadata": {},
   "outputs": [
    {
     "data": {
      "text/plain": [
       "bs4.element.NavigableString"
      ]
     },
     "execution_count": 60,
     "metadata": {},
     "output_type": "execute_result"
    }
   ],
   "source": [
    "type(a22)"
   ]
  },
  {
   "cell_type": "code",
   "execution_count": 61,
   "id": "74f80df7-879e-4176-a738-0fc475332fe0",
   "metadata": {},
   "outputs": [
    {
     "data": {
      "text/plain": [
       "<ol>\n",
       "<li>第一条</li>\n",
       "<li>第二条</li>\n",
       "<li>第三条</li>\n",
       "</ol>"
      ]
     },
     "execution_count": 61,
     "metadata": {},
     "output_type": "execute_result"
    }
   ],
   "source": [
    "a22.find_next(\"ol\")"
   ]
  },
  {
   "cell_type": "code",
   "execution_count": 62,
   "id": "68af5ce1-b191-406f-9f01-9b4181327585",
   "metadata": {},
   "outputs": [
    {
     "data": {
      "text/plain": [
       "['第一条', '第二条', '第三条']"
      ]
     },
     "execution_count": 62,
     "metadata": {},
     "output_type": "execute_result"
    }
   ],
   "source": [
    "# a22之后第一个ul下的li文本构造一个列表\n",
    "[li.text for li in a22.find_next(\"ul\").find_all(\"li\")]"
   ]
  },
  {
   "cell_type": "code",
   "execution_count": 63,
   "id": "9dff1346-ea6e-4e2b-8e30-ae1b313ee355",
   "metadata": {},
   "outputs": [
    {
     "data": {
      "text/plain": [
       "{'选项1': 'alpha', '选项2': 'beta', '选项3': 'gamma', '选项四': 'heiheihei'}"
      ]
     },
     "execution_count": 63,
     "metadata": {},
     "output_type": "execute_result"
    }
   ],
   "source": [
    "{o.text: o.get(\"value\") for o in doc.find(\"select\").find_all(\"option\")}"
   ]
  },
  {
   "cell_type": "code",
   "execution_count": null,
   "id": "42926297-31dc-4276-b392-7d57bd9a376f",
   "metadata": {},
   "outputs": [],
   "source": []
  }
 ],
 "metadata": {
  "kernelspec": {
   "display_name": "Python 3 (ipykernel)",
   "language": "python",
   "name": "python3"
  },
  "language_info": {
   "codemirror_mode": {
    "name": "ipython",
    "version": 3
   },
   "file_extension": ".py",
   "mimetype": "text/x-python",
   "name": "python",
   "nbconvert_exporter": "python",
   "pygments_lexer": "ipython3",
   "version": "3.12.4"
  }
 },
 "nbformat": 4,
 "nbformat_minor": 5
}
